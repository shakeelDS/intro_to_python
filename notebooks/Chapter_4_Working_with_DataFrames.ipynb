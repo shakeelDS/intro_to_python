{
 "cells": [
  {
   "cell_type": "markdown",
   "metadata": {},
   "source": [
    "<a id='menu'></a>\n",
    " <hr style=\"width:100%;height:4px;border-width:0;color:gray;background-color:#003d59; opacity:0.25\"> \n",
    "\n",
    " ![learning academy and data science campus logos](../images/la_dsc_logo.jpg)\n",
    "  <hr style=\"width:100%;height:4px;border-width:0;color:gray;background-color:#003d59; opacity:0.25\"> "
   ]
  },
  {
   "cell_type": "markdown",
   "metadata": {},
   "source": [
    "<a id='menu'></a>\n",
    "# Introduction to Python\n",
    "## Chapter 4 – Working with DataFrames\n",
    "***\n",
    "Follow along with the code by running cells as you encounter them\n",
    "***\n",
    "*Chapter Overview and Learning Objectives:*\n",
    "* [Packages and Datasets](#packages)\n",
    "\n",
    "\n",
    "* [Exploring Datasets](#exploring)\n",
    "    - Quick Previews\n",
    "    - Size\n",
    "    - Data Types\n",
    "    - Column Names\n",
    "\n",
    "\n",
    "* [Sorting Data](#sorting)\n",
    " \n",
    "\n",
    "* [Subsetting Data](#subsetting)\n",
    "    - Selecting Single Columns\n",
    "    - Selecting Multiple Columns\n",
    "    \n",
    "    \n",
    "* [Filtering](#filter)    \n",
    "    - Single Conditional Filtering\n",
    "    - Multiple Conditional Filtering\n",
    "\n",
    "\n",
    "* [Deriving New Columns](#new_columns)\n",
    "    - Constant Values\n",
    "    - Numeric Values\n",
    "    - Boolean and Binary Values\n",
    "    - Mapping new values\n",
    "    - Deleting columns\n",
    "    \n",
    "    \n",
    "* [Merging Data](#merge)\n",
    "    - About Merging\n",
    "    - Merging using Pandas\n",
    "    - Union joins"
   ]
  },
  {
   "cell_type": "markdown",
   "metadata": {},
   "source": [
    "<a id='packages'></a>\n",
    "<hr style=\"width:100%;height:4px;border-width:0;color:gray;background-color:#003d59; opacity:1\"> "
   ]
  },
  {
   "cell_type": "markdown",
   "metadata": {},
   "source": [
    "## Packages and Datasets"
   ]
  },
  {
   "cell_type": "markdown",
   "metadata": {},
   "source": [
    "### Packages\n",
    "As a reminder – we should always import our packages at the top of our script.\n",
    "\n",
    "\n",
    "In this session we will use `pandas`, and give it the nickname `pd`.\n"
   ]
  },
  {
   "cell_type": "code",
   "execution_count": null,
   "metadata": {
    "collapsed": true
   },
   "outputs": [],
   "source": [
    "# Import Pandas in this Cell\n"
   ]
  },
  {
   "cell_type": "markdown",
   "metadata": {},
   "source": [
    "You can run the \"solution\" cell if you need help - or revisit chapter 2."
   ]
  },
  {
   "cell_type": "code",
   "execution_count": null,
   "metadata": {
    "collapsed": true
   },
   "outputs": [],
   "source": [
    "# Solution - These cells contain answers for the exercises.\n",
    "# Run once to reveal the code\n",
    "# Run again to reveal the output\n",
    "\n",
    "%load ../solutions/chapter_4/importpandas.py"
   ]
  },
  {
   "cell_type": "markdown",
   "metadata": {},
   "source": [
    "### Datasets\n",
    "Good practice should also be to import our datasets at the top of our script too.\n",
    "\n",
    "In this session we’ll be using:\n",
    "\n",
    "\n",
    "| variable name | file name  |\n",
    "| --- | --- |\n",
    "| animals | animals.csv |\n",
    "| titanic | titanic.xlsx |\n",
    "| joining_data1 | joining_data1.csv |\n",
    "| joining_data2 | joining_data2.csv |\n",
    "| union_join_data | union_data.csv |\n",
    "| marvel_left | joining_exercise1.csv |\n",
    "| marvel_right | joining_exercise2.csv |\n",
    "\n",
    "\n",
    "\n",
    "These are all straight forward data imports with no additional parameters.\n",
    "\n",
    "Use the cell below to load in these datasets.\n",
    "\n",
    "If you are stuck use the solution cell; remember practicing simple commands is important for retaining the skills you’re learning.\n"
   ]
  },
  {
   "cell_type": "code",
   "execution_count": null,
   "metadata": {
    "collapsed": true
   },
   "outputs": [],
   "source": [
    "# Import your datasets here\n",
    "\n"
   ]
  },
  {
   "cell_type": "code",
   "execution_count": null,
   "metadata": {
    "collapsed": true
   },
   "outputs": [],
   "source": [
    "# Solution - These cells contain answers for the exercises.\n",
    "#Run once to reveal the code.\n",
    "#Run again to reveal the output. \n",
    "\n",
    "%load ../solutions/chapter_4/chapter_four_data.py\n"
   ]
  },
  {
   "cell_type": "markdown",
   "metadata": {},
   "source": [
    "You can check your variables are loaded by using `%whos` in Jupyter. In Spyder or other IDE's they should appear in your variable explorer. \n",
    "\n",
    "If you struggle with this section – review chapter 3 – Reading In and Exporting Data"
   ]
  },
  {
   "cell_type": "code",
   "execution_count": null,
   "metadata": {
    "collapsed": true
   },
   "outputs": [],
   "source": [
    "%whos"
   ]
  },
  {
   "cell_type": "markdown",
   "metadata": {},
   "source": [
    "[return to menu](#menu)"
   ]
  },
  {
   "cell_type": "markdown",
   "metadata": {},
   "source": [
    "<a id='exploring'></a>\n",
    "<hr style=\"width:100%;height:4px;border-width:0;color:gray;background-color:#003d59; opacity:1\"> "
   ]
  },
  {
   "cell_type": "markdown",
   "metadata": {},
   "source": [
    "## Exploring Datasets"
   ]
  },
  {
   "cell_type": "markdown",
   "metadata": {},
   "source": [
    "Before you start working with a dataset it can be important to examine it. For example:\n",
    "\n",
    "* Do the values look how you would expect?\n",
    "* Does the data have the right number of rows and columns? \n",
    "* Do the columns have your expected data types?\n",
    "* Is your data [clean?](https://en.wikipedia.org/wiki/Data_cleansing)\n",
    "\n",
    "In this section we’ll look at various ways of exploring our data.\n",
    "\n",
    "In chapter 5 we will look at how we can clean our data. When working with data, cleaning is normally a step we’d do first. Those concepts are a little more complicated; and we like to establish a good base knowledge of how Python works first. For these sessions we’ll be using data that has already been cleaned to make it easy to handle.\n"
   ]
  },
  {
   "cell_type": "markdown",
   "metadata": {},
   "source": [
    "### Quick Previews"
   ]
  },
  {
   "cell_type": "markdown",
   "metadata": {},
   "source": [
    "In the last section we looked at three methods of quickly inspecting our dataframes.\n",
    "\n",
    "* `.head()`  - Top 5 rows\n",
    "* `.tail()`  - Bottom 5 Rows\n",
    "* `.sample()` - 1 Randomly sampled row.\n",
    "\n",
    "We use these because we do not always want Jupyter Notebooks to print out large datasets; we just want to check that certain operations have worked on a smaller amount of data.\n",
    "\n",
    "We can modify how many rows are returned by putting a number within the round brackets.\n",
    "\n",
    "The number in the round brackets is known as an argument. `.head()` and `.tail()` have a default argument of 5; if we don't pass an argument that default behaviour is used.\n",
    "\n",
    "e.g."
   ]
  },
  {
   "cell_type": "code",
   "execution_count": null,
   "metadata": {
    "collapsed": true
   },
   "outputs": [],
   "source": [
    "animals.head(3)"
   ]
  },
  {
   "cell_type": "markdown",
   "metadata": {},
   "source": [
    "Here I am using the `.head()` method to just display the top 3 rows of my DataFrame.\n",
    "\n",
    "This modifies the default behaviour of `.head()` by displaying just 3 rows instead of 5."
   ]
  },
  {
   "cell_type": "markdown",
   "metadata": {},
   "source": [
    "If you run just\n",
    "\n",
    "`animals` \n",
    "\n",
    "You may notice that Jupyter does not display all of the rows in our DataFrame.\n",
    "\n",
    "![hidden rows](../images/sort_missing_rows.PNG)\n",
    "\n",
    "Instead it represents these rows using the  `…` (ellipsis) symbol.\n",
    "\n",
    "You may also see this with columns. This happens in large datasets; and helps to save computational power. This is similar to the max print option in Spyder.\n",
    "\n",
    "While there are various ways of changing this setting with Jupyter (Stack Overflow has several answers) if you are regularly using large DataFrames, and wish to inspect all rows you may wish to the the `Spyder IDE`. This has an inbuilt data viewer."
   ]
  },
  {
   "cell_type": "markdown",
   "metadata": {},
   "source": [
    "We can also use `.info()` this gives us information about:\n",
    "\n",
    "* The class of the object – a `pandas` DataFrame\n",
    "* The range (or length of our index) – our number of rows\n",
    "* How many columns we have\n",
    "* The column names\n",
    "* The number of non-null entries (a.k.a without missing values)\n",
    "* The data type of the column\n",
    "* The number of columns of each data type.\n",
    "\n",
    "We’ll look at data types in more detail later.\n"
   ]
  },
  {
   "cell_type": "code",
   "execution_count": null,
   "metadata": {
    "collapsed": true
   },
   "outputs": [],
   "source": [
    "titanic.info()"
   ]
  },
  {
   "cell_type": "markdown",
   "metadata": {},
   "source": [
    "<hr style=\"width:70%;height:4px;border-width:0;color:gray;background-color:#003d59; opacity:0.75\"> "
   ]
  },
  {
   "cell_type": "markdown",
   "metadata": {},
   "source": [
    "### Size"
   ]
  },
  {
   "cell_type": "markdown",
   "metadata": {},
   "source": [
    "Knowing the size of our DataFrame is also useful – we can achieve this in a few ways."
   ]
  },
  {
   "cell_type": "code",
   "execution_count": null,
   "metadata": {
    "collapsed": true
   },
   "outputs": [],
   "source": [
    "animals.shape"
   ]
  },
  {
   "cell_type": "markdown",
   "metadata": {},
   "source": [
    "`.shape` provides us with the dimensions of the object.\n",
    "\n",
    "Notice this is an attribute of the DataFrame rather than a method – it describes the shape of animals - and so does not use round brackets at the end.\n",
    "\n",
    "We talk a bit more about the similarities and differences between functions, methods and attributes in chapter 2. Feel free to review that section if you are stuck."
   ]
  },
  {
   "cell_type": "markdown",
   "metadata": {},
   "source": [
    "We can use our indexing brackets to return an item in this tuple – for example the number rows at index 0."
   ]
  },
  {
   "cell_type": "code",
   "execution_count": null,
   "metadata": {
    "collapsed": true
   },
   "outputs": [],
   "source": [
    "animals.shape[0]"
   ]
  },
  {
   "cell_type": "markdown",
   "metadata": {},
   "source": [
    "And the number of columns at index 1."
   ]
  },
  {
   "cell_type": "code",
   "execution_count": null,
   "metadata": {
    "collapsed": true
   },
   "outputs": [],
   "source": [
    "animals.shape[1]"
   ]
  },
  {
   "cell_type": "markdown",
   "metadata": {},
   "source": [
    "As an aside:\n",
    "\n",
    "Because `.shape` returns us a tuple we can assign each of these to it’s own variable.\n",
    "\n",
    "To do this we give our variable names in the order of the tuple output, separated by a comma before our assignment operator (=).\n",
    "\n",
    "Our tuple outputs rows first then columns, so we give our variables as `nrow` and `ncol`.\n",
    "\n",
    "You can see that we can then use these in the print statement below."
   ]
  },
  {
   "cell_type": "code",
   "execution_count": null,
   "metadata": {
    "collapsed": true
   },
   "outputs": [],
   "source": [
    "nrow, ncol = animals.shape\n",
    "\n",
    "print(\"There are\", nrow, \"rows, and\", ncol, \"columns in the animals DataFrame\")"
   ]
  },
  {
   "cell_type": "markdown",
   "metadata": {},
   "source": [
    "This is the same code as below – but in one line."
   ]
  },
  {
   "cell_type": "code",
   "execution_count": null,
   "metadata": {
    "collapsed": true
   },
   "outputs": [],
   "source": [
    "# This is the same as nrow, ncol = animals.shape\n",
    "\n",
    "nrow = animals.shape[0]\n",
    "ncol = animals.shape[1]"
   ]
  },
  {
   "cell_type": "markdown",
   "metadata": {},
   "source": [
    "We can also use the inbuilt `len()` function to find the **len**gth. This will return us the rows."
   ]
  },
  {
   "cell_type": "code",
   "execution_count": null,
   "metadata": {
    "collapsed": true
   },
   "outputs": [],
   "source": [
    "len(animals)"
   ]
  },
  {
   "cell_type": "markdown",
   "metadata": {},
   "source": [
    "We can also modify this to return us the number of columns – like so."
   ]
  },
  {
   "cell_type": "code",
   "execution_count": null,
   "metadata": {
    "collapsed": true
   },
   "outputs": [],
   "source": [
    "len(animals.columns)"
   ]
  },
  {
   "cell_type": "markdown",
   "metadata": {},
   "source": [
    "<hr style=\"width:50%;height:4px;border-width:0;color:gray;background-color:#003d59; opacity:0.5\"> "
   ]
  },
  {
   "cell_type": "markdown",
   "metadata": {},
   "source": [
    "## Exercise\n",
    "\n",
    "Look at the dimensions of the `titanic` DataFrame.\n",
    "\n",
    "Use shape, then try returning the columns and rows individually.\n"
   ]
  },
  {
   "cell_type": "code",
   "execution_count": null,
   "metadata": {
    "collapsed": true
   },
   "outputs": [],
   "source": [
    "# Exercise\n",
    "\n"
   ]
  },
  {
   "cell_type": "code",
   "execution_count": null,
   "metadata": {
    "collapsed": true
   },
   "outputs": [],
   "source": [
    "# Solution - These cells contain answers for the exercises.\n",
    "# Run once to reveal the code\n",
    "# Run again to reveal the output\n",
    "\n",
    "%load ../solutions/chapter_4/titanic_shape.py"
   ]
  },
  {
   "cell_type": "markdown",
   "metadata": {},
   "source": [
    "If you run the solution cell you’ll notice that the answers are within a print function. \n",
    "\n",
    "Remember that Jupyter Notebooks prints out the last output in a cell unless we do this.\n",
    "\n",
    "See Chapter 2 for a refresher on this."
   ]
  },
  {
   "cell_type": "markdown",
   "metadata": {},
   "source": [
    "<hr style=\"width:70%;height:4px;border-width:0;color:gray;background-color:#003d59; opacity:0.75\"> "
   ]
  },
  {
   "cell_type": "markdown",
   "metadata": {},
   "source": [
    "### Data Types"
   ]
  },
  {
   "cell_type": "markdown",
   "metadata": {},
   "source": [
    "It is also important to check the data types when we bring in data. If you’ve worked with other analytical software before you’ll know that sometimes data doesn’t come in as we would expect.\n",
    "\n",
    "We do this using `.dtypes`\n"
   ]
  },
  {
   "cell_type": "code",
   "execution_count": null,
   "metadata": {
    "collapsed": true
   },
   "outputs": [],
   "source": [
    "animals.dtypes"
   ]
  },
  {
   "cell_type": "markdown",
   "metadata": {},
   "source": [
    "We have some of the data types we’re seen before\n",
    "\n",
    "* **int** represents integers; our whole numbers\n",
    "\t* CalYear (Calendar Year) is column of whole numbers\n",
    "    \n",
    "    \n",
    "* **float** represents ‘floating point’ numbers or decimals\n",
    "\t* IncidentNominalCost(£) (The financial cost of each incident) is a decimal number.\n",
    "\n",
    "\n",
    "* **object** or **O**  here represents what we’ve been calling *string* data so far - text values\n",
    "\t* AnimalClass (The kind of animal) is a text based value.\n",
    "\n",
    "We may also see\n",
    "\n",
    "* **bool** - representing Boolean values; our True and False\n",
    "* **datetime** - date and time values\n",
    "* **category** - a special `pandas` datatype for categorical or factor variables."
   ]
  },
  {
   "cell_type": "code",
   "execution_count": null,
   "metadata": {
    "collapsed": true
   },
   "outputs": [],
   "source": [
    "animals['DateTimeOfCall'].dtypes\n",
    "\n",
    "# This is how we select a single column; we'll cover this later"
   ]
  },
  {
   "cell_type": "markdown",
   "metadata": {},
   "source": [
    "You may notice that some categories have not come in quite how we would expect.\n",
    "\n",
    "`DateTimeOfCall` has come in as an `object` or text value; when it should be `datetime`.\n",
    "\n",
    "This is extremely common with dates and times in a variety of software; not just Python! \n",
    "\n",
    "![xkcd_date_times](../images/iso_8601.png)\n",
    "\n",
    "Python will often choose an `object` data type for columns; if there’s any ambiguity over the data type. \n",
    "\n",
    "This is because this data type retains all the characteristics of the data – and allows us to make the choice about how to process it.\n",
    "\n",
    "For example - 01/11/19 could be interpreted as either 1st November 2019,  the 11th January 2019 or even the 19th November 2001 - depending on region.\n",
    "\n",
    "We don’t look at handling date and time data in this course; we’ll leave these columns alone for now. \n",
    "\n",
    "[Here]( https://www.geeksforgeeks.org/python-working-with-date-and-time-using-pandas/) is a tutorial for handling dates and times using `pandas`.\n"
   ]
  },
  {
   "cell_type": "markdown",
   "metadata": {},
   "source": [
    "<hr style=\"width:50%;height:4px;border-width:0;color:gray;background-color:#003d59; opacity:0.5\"> "
   ]
  },
  {
   "cell_type": "markdown",
   "metadata": {},
   "source": [
    "## Exercise\n",
    "\n",
    "Look at the data types of the `titanic` DataFrame.\n",
    "\n",
    "Are there any values you didn't expect to see?\n",
    "\n",
    "You can check the Data Dictionary (an explanation of each column) [here](https://www.kaggle.com/c/titanic/data)\n",
    "\n",
    "Check the soloution for more information.\n"
   ]
  },
  {
   "cell_type": "code",
   "execution_count": null,
   "metadata": {
    "collapsed": true
   },
   "outputs": [],
   "source": [
    "# Exercise\n",
    "\n"
   ]
  },
  {
   "cell_type": "code",
   "execution_count": null,
   "metadata": {
    "collapsed": true
   },
   "outputs": [],
   "source": [
    "# Solution - These cells contain answers for the exercises.\n",
    "# Run once to reveal the code\n",
    "# Run again to reveal the output\n",
    "\n",
    "%load ../solutions/chapter_4/titanic_dtypes.py"
   ]
  },
  {
   "cell_type": "markdown",
   "metadata": {},
   "source": [
    "<hr style=\"width:70%;height:4px;border-width:0;color:gray;background-color:#003d59; opacity:0.75\"> "
   ]
  },
  {
   "cell_type": "markdown",
   "metadata": {},
   "source": [
    "### Column Names"
   ]
  },
  {
   "cell_type": "markdown",
   "metadata": {},
   "source": [
    "It is important to know what your columns are called because in Python we commonly select our columns by name.\n",
    "\n",
    "First we give the DataFrame name then the name of our column, in quotes, inside square brackets.\n",
    "\n",
    "``` python\n",
    "animals['AnimalClass']\n",
    "```\n",
    "\n",
    "We can then add a method to the end – e.g `.head()`\n",
    "\n",
    "e.g.\n"
   ]
  },
  {
   "cell_type": "code",
   "execution_count": null,
   "metadata": {
    "collapsed": true
   },
   "outputs": [],
   "source": [
    "animals['AnimalClass'].head()"
   ]
  },
  {
   "cell_type": "markdown",
   "metadata": {},
   "source": [
    "While Python can handle column names with spaces, symbols and irregular capitalisation; it is often easier to clean them.\n",
    "\n",
    "We’ll have a look at how can do this in Chapter 5.\n",
    "\n",
    "We can access our columns by using the `.columns` attribute - remember no brackets after attributes.\n",
    "\n",
    "This will print out our columns as a data type called an `index`. "
   ]
  },
  {
   "cell_type": "code",
   "execution_count": null,
   "metadata": {
    "collapsed": true
   },
   "outputs": [],
   "source": [
    "animals.columns"
   ]
  },
  {
   "cell_type": "markdown",
   "metadata": {},
   "source": [
    "I’d like to display them as a list – so I add (or **chain**) the method `.tolist()` on the end."
   ]
  },
  {
   "cell_type": "code",
   "execution_count": null,
   "metadata": {
    "collapsed": true
   },
   "outputs": [],
   "source": [
    "animals.columns.tolist()"
   ]
  },
  {
   "cell_type": "markdown",
   "metadata": {},
   "source": [
    "<hr style=\"width:50%;height:4px;border-width:0;color:gray;background-color:#003d59; opacity:0.5\"> "
   ]
  },
  {
   "cell_type": "markdown",
   "metadata": {},
   "source": [
    "## Exercise\n",
    "\n",
    "Look at the column names of the `titanic` DataFrame."
   ]
  },
  {
   "cell_type": "code",
   "execution_count": null,
   "metadata": {
    "collapsed": true
   },
   "outputs": [],
   "source": [
    "# Exercise\n",
    "\n"
   ]
  },
  {
   "cell_type": "code",
   "execution_count": null,
   "metadata": {
    "collapsed": true
   },
   "outputs": [],
   "source": [
    "# Solution - These cells contain answers for the exercises.\n",
    "# Run once to reveal the code\n",
    "# Run again to reveal the output\n",
    "\n",
    "%load ../solutions/chapter_4/titanic_columns.py"
   ]
  },
  {
   "cell_type": "markdown",
   "metadata": {},
   "source": [
    "<hr style=\"width:50%;height:4px;border-width:0;color:gray;background-color:#003d59; opacity:0.5\"> "
   ]
  },
  {
   "cell_type": "markdown",
   "metadata": {},
   "source": [
    "We can also use Jupyter’s auto complete feature to help us when accessing the names of our columns.\n",
    "\n",
    "In the cell below place your cursor after the H and hit tab."
   ]
  },
  {
   "cell_type": "code",
   "execution_count": null,
   "metadata": {
    "collapsed": true
   },
   "outputs": [],
   "source": [
    "animals['H']"
   ]
  },
  {
   "cell_type": "markdown",
   "metadata": {},
   "source": [
    "You’ll see that the auto complete option gives us the name of our `HourlyNominalCost(£)` column. \n",
    "\n",
    "This can be a really useful shortcut when we’re writing our code – rather than typing out full column names."
   ]
  },
  {
   "cell_type": "markdown",
   "metadata": {},
   "source": [
    "[return to menu](#menu)"
   ]
  },
  {
   "cell_type": "markdown",
   "metadata": {},
   "source": [
    "<a id='sorting'></a>\n",
    "<hr style=\"width:100%;height:4px;border-width:0;color:gray;background-color:#003d59; opacity:1\"> "
   ]
  },
  {
   "cell_type": "markdown",
   "metadata": {},
   "source": [
    "## Sorting Data"
   ]
  },
  {
   "cell_type": "markdown",
   "metadata": {},
   "source": [
    "Our data is displayed in the same order as the source data.\n",
    "\n",
    "We may want to sort our data, based on specific columns.\n",
    "\n",
    "To do this we use the method `.sort_values(by=\"column name\")`\n"
   ]
  },
  {
   "cell_type": "code",
   "execution_count": null,
   "metadata": {
    "collapsed": true
   },
   "outputs": [],
   "source": [
    "animals_sorted = animals.sort_values(by=\"IncidentNominalCost(£)\")\n",
    "\n",
    "animals_sorted.head()"
   ]
  },
  {
   "cell_type": "markdown",
   "metadata": {},
   "source": [
    "There are additional arguments we can set – by default the values are sorted in ascending order, by changing `ascending=False` we can sort in descending order."
   ]
  },
  {
   "cell_type": "code",
   "execution_count": null,
   "metadata": {
    "collapsed": true
   },
   "outputs": [],
   "source": [
    "animals_sorted = animals.sort_values(by=\"IncidentNominalCost(£)\", ascending=False)\n",
    "animals_sorted.head()"
   ]
  },
  {
   "cell_type": "markdown",
   "metadata": {},
   "source": [
    "We can also sort by more than one column by including a list.\n",
    "\n",
    "Here we are sorting by `\"IncidentNominalCost(£)\"`; and then by `\"AnimalClass\"`. Notice object (text/string) columns are sorted by *alphabetical* order.\n",
    "\n"
   ]
  },
  {
   "cell_type": "code",
   "execution_count": null,
   "metadata": {
    "collapsed": true
   },
   "outputs": [],
   "source": [
    "animals_sorted = animals.sort_values(by=[\"IncidentNominalCost(£)\", \"AnimalClass\"])\n",
    "animals_sorted.head()"
   ]
  },
  {
   "cell_type": "markdown",
   "metadata": {},
   "source": [
    "When sorting more than one column in descending order it’s best to specify `ascending= ` as a list.\n",
    "\n",
    "This list is in the same order as our columns.\n",
    "\n",
    "Some versions of Pandas will sort both columns as descending if we just supply `ascending = False` ; however some won’t – so it’s better to be clear about what we want to do.\n",
    "\n",
    "By using a list I also have finer control – I could have one in ascending order, and one in descending order if I wished.\n"
   ]
  },
  {
   "cell_type": "code",
   "execution_count": null,
   "metadata": {
    "collapsed": true
   },
   "outputs": [],
   "source": [
    "animals_sorted_desc = animals.sort_values(by=[\"IncidentNominalCost(£)\", \"AnimalClass\"], \n",
    "                                          ascending=[False, False])\n",
    "\n",
    "animals_sorted_desc.head()"
   ]
  },
  {
   "cell_type": "markdown",
   "metadata": {},
   "source": [
    "<hr style=\"width:50%;height:4px;border-width:0;color:gray;background-color:#003d59; opacity:0.5\"> "
   ]
  },
  {
   "cell_type": "markdown",
   "metadata": {},
   "source": [
    "## Exercise 1\n",
    "\n",
    "Sort the `titanic` DataFrame by the `age` column in descending order."
   ]
  },
  {
   "cell_type": "code",
   "execution_count": null,
   "metadata": {
    "collapsed": true
   },
   "outputs": [],
   "source": [
    "# Exercise\n",
    "\n"
   ]
  },
  {
   "cell_type": "code",
   "execution_count": null,
   "metadata": {
    "collapsed": true
   },
   "outputs": [],
   "source": [
    "# Solution - These cells contain answers for the exercises.\n",
    "# Run once to reveal the code\n",
    "# Run again to reveal the output\n",
    "\n",
    "%load ../solutions/chapter_4/titanic_sort_one.py"
   ]
  },
  {
   "cell_type": "markdown",
   "metadata": {},
   "source": [
    "<hr style=\"width:50%;height:4px;border-width:0;color:gray;background-color:#003d59; opacity:0.5\"> "
   ]
  },
  {
   "cell_type": "markdown",
   "metadata": {},
   "source": [
    "## Exercise 2\n",
    "\n",
    "Sort the `titanic` DataFrame by the `age` and `sex` column"
   ]
  },
  {
   "cell_type": "code",
   "execution_count": null,
   "metadata": {
    "collapsed": true
   },
   "outputs": [],
   "source": [
    "# Exercise\n",
    "\n"
   ]
  },
  {
   "cell_type": "code",
   "execution_count": null,
   "metadata": {
    "collapsed": true
   },
   "outputs": [],
   "source": [
    "# Solution - These cells contain answers for the exercises.\n",
    "# Run once to reveal the code\n",
    "# Run again to reveal the output\n",
    "\n",
    "%load ../solutions/chapter_4/titanic_sort_two.py"
   ]
  },
  {
   "cell_type": "markdown",
   "metadata": {},
   "source": [
    "<hr style=\"width:70%;height:4px;border-width:0;color:gray;background-color:#003d59; opacity:0.75\"> "
   ]
  },
  {
   "cell_type": "markdown",
   "metadata": {},
   "source": [
    "## Revisiting parameters and arguments \n",
    "\n",
    "We'll reinforce parameters and an arguments now.\n",
    "\n",
    "Parameters are key words that tell python what the following argument relates to. We have two in the code below:\n",
    "\n",
    "`by= ` is a parameter and the string representing the column `\"IncidentNominalCost(£)\"` is the argument.\n",
    "\n",
    "`ascending= ` is a parameter and `False` is the argument\n",
    "\n",
    "If we don’t specify parameters Python will assume our arguments are in the order specified in the Signature (press `shift + tab` with your cursor in `.sort_values()` to see this)\n",
    "\n",
    "Because of this the code below won’t work."
   ]
  },
  {
   "cell_type": "code",
   "execution_count": null,
   "metadata": {
    "collapsed": true
   },
   "outputs": [],
   "source": [
    "# This code may give us an error!\n",
    "# If it doesn't give you an error your data may still be in ascending order\n",
    "\n",
    "# After you've tried it, you may want to comment it out!\n",
    "\n",
    "animals_sorted = animals.sort_values(\"IncidentNominalCost(£)\", False)\n",
    "\n",
    "animals_sorted.head()"
   ]
  },
  {
   "cell_type": "markdown",
   "metadata": {},
   "source": [
    "Our first argument `IncidentNominalCost(£)` maps directly to the `by=` parameter.\n",
    "\n",
    "However, Python assumes the second argument `False` relates to the `axis = ` parameter; which in some versions isn't a valid argument, and in some pandas versions is treated effectively as `axis =0`.\n",
    "\n",
    "It is personal preference if you use parameters before your arguments. It is considered good practice, and can make your code more readable, especially to new coders. We would strongly advise doing so.\n"
   ]
  },
  {
   "cell_type": "code",
   "execution_count": null,
   "metadata": {
    "collapsed": true
   },
   "outputs": [],
   "source": [
    "animals_sorted = animals.sort_values(ascending=False, by=\"IncidentNominalCost(£)\")\n",
    "animals_sorted.head()"
   ]
  },
  {
   "cell_type": "markdown",
   "metadata": {},
   "source": [
    "As a bonus when you use parameters with your arguments you can pass them in any order as Python no longer relies on it being a positional based argument.\n",
    "\n",
    "So this code with the argument reversed will also work."
   ]
  },
  {
   "cell_type": "markdown",
   "metadata": {},
   "source": [
    "[return to menu](#menu)"
   ]
  },
  {
   "cell_type": "markdown",
   "metadata": {},
   "source": [
    "<a id='subsetting'></a>\n",
    "<hr style=\"width:100%;height:4px;border-width:0;color:gray;background-color:#003d59; opacity:1\"> "
   ]
  },
  {
   "cell_type": "markdown",
   "metadata": {},
   "source": [
    "## Subsetting"
   ]
  },
  {
   "cell_type": "markdown",
   "metadata": {},
   "source": [
    "### Selecting Single Columns"
   ]
  },
  {
   "cell_type": "markdown",
   "metadata": {},
   "source": [
    "Sometimes we will want to work with smaller “cut down” DataFrames that contain fewer columns.\n",
    "\n",
    "As we saw earlier the simplest way to select a column from a DataFrame is to use the name of the column.\n",
    "\n",
    "Here I am creating a new Series called ‘animal_grp_parent’ using the ‘AnimalGroupParent’ column from the animals DataFrame.\n"
   ]
  },
  {
   "cell_type": "code",
   "execution_count": null,
   "metadata": {
    "collapsed": true
   },
   "outputs": [],
   "source": [
    "animal_grp_parent = animals['AnimalGroupParent']\n",
    "\n",
    "animal_grp_parent.sample(6)"
   ]
  },
  {
   "cell_type": "markdown",
   "metadata": {},
   "source": [
    "<hr style=\"width:50%;height:4px;border-width:0;color:gray;background-color:#003d59; opacity:0.5\"> "
   ]
  },
  {
   "cell_type": "markdown",
   "metadata": {},
   "source": [
    "## Exercise\n",
    "\n",
    "Select the `fare` column from the `titanic` DataFrame."
   ]
  },
  {
   "cell_type": "code",
   "execution_count": null,
   "metadata": {
    "collapsed": true
   },
   "outputs": [],
   "source": [
    "# Exercise\n",
    "\n"
   ]
  },
  {
   "cell_type": "code",
   "execution_count": null,
   "metadata": {
    "collapsed": true
   },
   "outputs": [],
   "source": [
    "# Solution - These cells contain answers for the exercises.\n",
    "# Run once to reveal the code\n",
    "# Run again to reveal the output\n",
    "\n",
    "%load ../solutions/chapter_4/titanic_select.py"
   ]
  },
  {
   "cell_type": "markdown",
   "metadata": {},
   "source": [
    "<hr style=\"width:75%;height:4px;border-width:0;color:gray;background-color:#003d59; opacity:0.75\"> "
   ]
  },
  {
   "cell_type": "markdown",
   "metadata": {},
   "source": [
    "### Selecting Multiple Columns"
   ]
  },
  {
   "cell_type": "markdown",
   "metadata": {},
   "source": [
    "I can select multiple columns by providing them in a list within my indexing (or selection) square brackets.\n",
    "\n",
    "Here we have two sets of square brackets next to each other. It’s important to realise that they are doing two separate roles. Our first set is selecting or indexing from the animals DataFrame and our second set is creating a list of our columns we wish to select.\n"
   ]
  },
  {
   "cell_type": "code",
   "execution_count": null,
   "metadata": {
    "collapsed": true,
    "scrolled": false
   },
   "outputs": [],
   "source": [
    "animal_small_df = animals[[ \"DateTimeOfCall\", \"AnimalGroupParent\", \"IncidentNominalCost(£)\"]]\n",
    "animal_small_df.sample(6)"
   ]
  },
  {
   "cell_type": "markdown",
   "metadata": {},
   "source": [
    "Note that when we return one column we get a Series object.\n",
    "\n",
    "When we return more than one column we get a DataFrame.\n"
   ]
  },
  {
   "cell_type": "markdown",
   "metadata": {},
   "source": [
    "<hr style=\"width:50%;height:4px;border-width:0;color:gray;background-color:#003d59; opacity:0.5\"> "
   ]
  },
  {
   "cell_type": "markdown",
   "metadata": {},
   "source": [
    "## Exercise\n",
    "\n",
    "Select the `name, sex, age` and `survived` column from the `titanic` DataFrame."
   ]
  },
  {
   "cell_type": "code",
   "execution_count": null,
   "metadata": {
    "collapsed": true
   },
   "outputs": [],
   "source": [
    "# Exercise\n",
    "\n"
   ]
  },
  {
   "cell_type": "code",
   "execution_count": null,
   "metadata": {
    "collapsed": true
   },
   "outputs": [],
   "source": [
    "# Solution - These cells contain answers for the exercises.\n",
    "# Run once to reveal the code\n",
    "# Run again to reveal the output\n",
    "\n",
    "%load ../solutions/chapter_4/titanic_select_two.py"
   ]
  },
  {
   "cell_type": "markdown",
   "metadata": {},
   "source": [
    "<hr style=\"width:50%;height:4px;border-width:0;color:gray;background-color:#003d59; opacity:0.5\"> "
   ]
  },
  {
   "cell_type": "markdown",
   "metadata": {},
   "source": [
    "Note – you may see people selecting columns using dataframe.column_name\n",
    "\n",
    "This is legal – but not good practice!"
   ]
  },
  {
   "cell_type": "code",
   "execution_count": null,
   "metadata": {
    "collapsed": true
   },
   "outputs": [],
   "source": [
    "# This will work - but is not good practice!\n",
    "\n",
    "titanic.sex.head()"
   ]
  },
  {
   "cell_type": "markdown",
   "metadata": {},
   "source": [
    "We don’t recommend this because it looks too much like an attribute or method. \n",
    "\n",
    "This also won’t work if you had a column that was something like `mean` as Python can’t determine if you mean the column `mean` or the method `.mean()`.\n",
    "\n",
    "There’s no ambiguity with \n",
    "\n",
    "``` python\n",
    "dataframe[“column”]\n",
    "```\n",
    "which is why we will always recommend it over the `dataframe.column_name`\n"
   ]
  },
  {
   "cell_type": "markdown",
   "metadata": {},
   "source": [
    "<hr style=\"width:75%;height:4px;border-width:0;color:gray;background-color:#003d59; opacity:0.75\"> "
   ]
  },
  {
   "cell_type": "markdown",
   "metadata": {},
   "source": [
    "## Selecting on data type\n",
    "We can also use the method `.select_dtypes()` if we want to include or exclude specific kinds of data from our dataframe."
   ]
  },
  {
   "cell_type": "code",
   "execution_count": null,
   "metadata": {
    "collapsed": true
   },
   "outputs": [],
   "source": [
    "# Select just the object columns\n",
    "animal_object_cols = animals.select_dtypes(include=[\"object\"])\n",
    "\n",
    "# Return the top of the animal columns\n",
    "\n",
    "animal_object_cols.head()"
   ]
  },
  {
   "cell_type": "markdown",
   "metadata": {},
   "source": [
    "We must specify our include data types as a list here, even if we’re just specifying one value. It’s just the way this function was written.\n",
    "\n",
    "* “object” includes our string columns, I could also use \"O\" here.\n",
    "* \"float64” and “int64” will select floating point numbers and integer numbers.\n",
    "* If you have the numpy package loaded ( import numpy as np) you can use np.number (no quotes) to return numerical data.\n",
    "\n",
    "You can also use the parameter `exclude=` which may be easier if you wish to omit just one data type. "
   ]
  },
  {
   "cell_type": "markdown",
   "metadata": {},
   "source": [
    "[return to menu](#menu)"
   ]
  },
  {
   "cell_type": "markdown",
   "metadata": {},
   "source": [
    "<a id='filter'></a>\n",
    "<hr style=\"width:100%;height:4px;border-width:0;color:gray;background-color:#003d59; opacity:1\"> "
   ]
  },
  {
   "cell_type": "markdown",
   "metadata": {},
   "source": [
    "## Filtering"
   ]
  },
  {
   "cell_type": "markdown",
   "metadata": {},
   "source": [
    "We can achieve really simple filtering by passing a range to the DataFrame indexer.\n",
    "\n",
    "e.g.\n"
   ]
  },
  {
   "cell_type": "code",
   "execution_count": null,
   "metadata": {
    "collapsed": true
   },
   "outputs": [],
   "source": [
    "animals[0:5]"
   ]
  },
  {
   "cell_type": "markdown",
   "metadata": {},
   "source": [
    "Which returns us the same rows as `.head()`. We can however modify this to return any range of rows within the DataFrame we like - for example the middle of our DataFrame."
   ]
  },
  {
   "cell_type": "code",
   "execution_count": null,
   "metadata": {
    "collapsed": true
   },
   "outputs": [],
   "source": [
    "animals[200:250]"
   ]
  },
  {
   "cell_type": "markdown",
   "metadata": {},
   "source": [
    "However we can do more involved, conditional filtering using `pandas`."
   ]
  },
  {
   "cell_type": "markdown",
   "metadata": {},
   "source": [
    "<hr style=\"width:75%;height:4px;border-width:0;color:gray;background-color:#003d59; opacity:0.75\"> "
   ]
  },
  {
   "cell_type": "markdown",
   "metadata": {},
   "source": [
    "### Single Conditional Filtering"
   ]
  },
  {
   "cell_type": "markdown",
   "metadata": {},
   "source": [
    "Pandas filters data in a two step process.\n",
    "\n",
    "1.\tIt creates a `mask` that specifies inclusion or exclusion for each row in the DataFrame.\n",
    "2.\tApply the mask on to the DataFrame to return the subset of rows that are included.\n",
    "\n",
    "In the code below I will create a few simple DataFrames to illustrate my point. Don’t worry too much about how these bits of code works; as previously mentioned you’ll often be working with much larger DataFrames that you’ll load in using one of the `pd.read_` commands."
   ]
  },
  {
   "cell_type": "code",
   "execution_count": null,
   "metadata": {
    "collapsed": true
   },
   "outputs": [],
   "source": [
    "# Let's create a simple DataFrame to look at this in practice\n",
    "# Again, you don't need to worry about how this works\n",
    "\n",
    "cat_dog = pd.DataFrame({\"animal\": [\"Cat\", \"Cat\", \"Dog\", \"Cat\"] , \n",
    "                        \"name\": [\"Catalie Portman\",\"Pico de Gato\", \"Chewbarka\", \"JK Meowling\"]})\n",
    "\n",
    "# Print out the DataFrame\n",
    "\n",
    "cat_dog"
   ]
  },
  {
   "cell_type": "markdown",
   "metadata": {},
   "source": [
    "I want to filter so I just have ‘Cat’ Rows.\n",
    "\n",
    "My condition can be written like this:"
   ]
  },
  {
   "cell_type": "code",
   "execution_count": null,
   "metadata": {
    "collapsed": true
   },
   "outputs": [],
   "source": [
    "mask = cat_dog['animal'] == 'Cat'"
   ]
  },
  {
   "cell_type": "markdown",
   "metadata": {},
   "source": [
    "* I am assigning my output to the variable `mask` with the single = sign\n",
    "* The column I want to look for values in is `\"animal\"` from the `catdog` Dataframe - `catdog[\"animal\"]`\n",
    "* From that column I want to find values that meet my condition – I state this with the double equals `==`\n",
    "* Finally I am telling Pandas what value I want to find; a string containing “Cat”\n",
    "\n",
    "If we run the cell we can see the output is a Boolean Series, our True and False values."
   ]
  },
  {
   "cell_type": "code",
   "execution_count": null,
   "metadata": {
    "collapsed": true
   },
   "outputs": [],
   "source": [
    "# Run me to see the Series of Boolean values\n",
    "mask"
   ]
  },
  {
   "cell_type": "markdown",
   "metadata": {},
   "source": [
    "Here I’ve added displayed this series as a new column on our `cat_dog` DataFrame to demonstrate.\n",
    "\n",
    "| index  | animal  |       name      | included |\n",
    "|:-:|:-------:|:---------------:|----------|\n",
    "| 0 |   Cat   | Catalie Portman | True     |\n",
    "| 1 |   Cat   |   Pico de Gato  | True     |\n",
    "| 2 |   Dog   |    Chewbarka    | False    |\n",
    "| 3 |   Cat   |   JK Meowling   | True     |\n",
    "\n",
    "We can see where the value in the `animal` column was `\"Cat\"`; the `mask` column is `True`.\n",
    "\n",
    "Where the value was not cat (e.g `\"Dog\"`) the `mask` column is `False`.\n",
    "\n",
    "However I want to return just the rows where the value in `mask` was `True`.\n",
    "\n",
    "To do this we apply the `mask` variable on to the `cat_dog` Dataframe using our indexing or selection brackets."
   ]
  },
  {
   "cell_type": "code",
   "execution_count": null,
   "metadata": {
    "collapsed": true
   },
   "outputs": [],
   "source": [
    "just_cats = cat_dog[mask]\n",
    "just_cats"
   ]
  },
  {
   "cell_type": "markdown",
   "metadata": {},
   "source": [
    "This will only return the rows where our conditional filter equated to `True`.\n",
    "\n",
    "Rather than create and apply a mask seperately we can do the whole filter operation in one step:\n"
   ]
  },
  {
   "cell_type": "code",
   "execution_count": null,
   "metadata": {
    "collapsed": true
   },
   "outputs": [],
   "source": [
    "just_cats = cat_dog[cat_dog['animal'] == \"Cat\"]\n",
    "just_cats"
   ]
  },
  {
   "cell_type": "markdown",
   "metadata": {},
   "source": [
    "You’ll notice the cell with the “Dog” value has been dropped. \n",
    "\n",
    "You’ll also notice that our index has not changed. You will sometimes want to reset the index after filtering to restore  it to sequential integers starting at 0.\n",
    "\n",
    "You can do this like so.\n"
   ]
  },
  {
   "cell_type": "code",
   "execution_count": null,
   "metadata": {
    "collapsed": true
   },
   "outputs": [],
   "source": [
    "just_cats.reset_index(drop=True, inplace=True)\n",
    "just_cats"
   ]
  },
  {
   "cell_type": "markdown",
   "metadata": {},
   "source": [
    "By default the previous column index is put in as a new column. By using `drop=True` we can remove this behaviour.\n",
    "\n",
    "`inplace=True` updates the DataFrame in place and is an alternative to overwriting the data with \n",
    "\n",
    "`just_cats = just_cats.reset_index(drop=True) `\n"
   ]
  },
  {
   "cell_type": "markdown",
   "metadata": {},
   "source": [
    "Our logical comparison statements are:\n",
    "   \n",
    "   \n",
    "| Symbol | Meaning|   \n",
    "|------------|------------|\n",
    "| ==       | Is equivalent to|\n",
    "| !=| Does not equal|\n",
    "|> |Greater than|\n",
    "|>=| Greater than or equivalent too|\n",
    "|< |Less than|\n",
    "|<= |Less than or equivalent too|\n",
    "\n",
    "\n",
    "\n",
    "Let’s view one more example – using our animals **DataFrame**  to find `IncidentNominalCost(£)` over £1000.\n",
    "\n"
   ]
  },
  {
   "cell_type": "code",
   "execution_count": null,
   "metadata": {
    "collapsed": true
   },
   "outputs": [],
   "source": [
    "# Note here we're using the animals DataFrame\n",
    "\n",
    "cost_over_1k = animals[animals['IncidentNominalCost(£)'] > 1000]\n",
    "cost_over_1k.sample(6)"
   ]
  },
  {
   "cell_type": "markdown",
   "metadata": {},
   "source": [
    "Here we have\n",
    "* Assigned a new name `cost_over_1k` which will hold our output\n",
    "* Give our DataFrame name, and our indexing or selection brackets:  `animals[]`\n",
    "* The column I want to look for values in is ”IncidentNominalCost” from the Animals Dataframe `animals[‘IncidentNominalCost(£)’]`\n",
    "* The condition I want is ` > 1000` , greater than a thousand. As this is a numeric column I can just specify the number.\n",
    "* Printing out the variable, using `.sample(6)` method to display 6 rows of the new DataFrame."
   ]
  },
  {
   "cell_type": "markdown",
   "metadata": {},
   "source": [
    "<hr style=\"width:50%;height:4px;border-width:0;color:gray;background-color:#003d59; opacity:0.5\"> "
   ]
  },
  {
   "cell_type": "markdown",
   "metadata": {},
   "source": [
    "## Exercise 1\n",
    "\n",
    "Filter the `titanic` DataFrame by `sex` column; return the “female” values."
   ]
  },
  {
   "cell_type": "code",
   "execution_count": null,
   "metadata": {
    "collapsed": true
   },
   "outputs": [],
   "source": [
    "# Exercise\n",
    "\n"
   ]
  },
  {
   "cell_type": "code",
   "execution_count": null,
   "metadata": {
    "collapsed": true
   },
   "outputs": [],
   "source": [
    "# Solution - These cells contain answers for the exercises.\n",
    "#Run once to reveal the code.\n",
    "#Run again to reveal the output. \n",
    "\n",
    "%load ../solutions/chapter_4/titanic_filter_one.py\n"
   ]
  },
  {
   "cell_type": "markdown",
   "metadata": {},
   "source": [
    "<hr style=\"width:50%;height:4px;border-width:0;color:gray;background-color:#003d59; opacity:0.5\"> "
   ]
  },
  {
   "cell_type": "markdown",
   "metadata": {},
   "source": [
    "## Exercise 2\n",
    "\n",
    "Filter the `titanic` DataFrame by `age` column; return the values over 40."
   ]
  },
  {
   "cell_type": "code",
   "execution_count": null,
   "metadata": {
    "collapsed": true
   },
   "outputs": [],
   "source": [
    "# Exercise\n",
    "\n"
   ]
  },
  {
   "cell_type": "code",
   "execution_count": null,
   "metadata": {
    "collapsed": true
   },
   "outputs": [],
   "source": [
    "# Solution - These cells contain answers for the exercises.\n",
    "# Run once to reveal the code\n",
    "# Run again to reveal the output\n",
    "\n",
    "%load ../solutions/chapter_4/titanic_filter_two.py"
   ]
  },
  {
   "cell_type": "markdown",
   "metadata": {},
   "source": [
    "<hr style=\"width:50%;height:4px;border-width:0;color:gray;background-color:#003d59; opacity:0.5\"> "
   ]
  },
  {
   "cell_type": "markdown",
   "metadata": {},
   "source": [
    "## Exercise 3\n",
    "\n",
    "Filter the `titanic` DataFrame by `fare` column; return the values less than or equal to 30.50 ."
   ]
  },
  {
   "cell_type": "code",
   "execution_count": null,
   "metadata": {
    "collapsed": true
   },
   "outputs": [],
   "source": [
    "# Exercise\n",
    "\n"
   ]
  },
  {
   "cell_type": "code",
   "execution_count": null,
   "metadata": {
    "collapsed": true
   },
   "outputs": [],
   "source": [
    "# Solution - These cells contain answers for the exercises.\n",
    "# Run once to reveal the code\n",
    "# Run again to reveal the output\n",
    "\n",
    "%load ../solutions/chapter_4/titanic_filter_three.py"
   ]
  },
  {
   "cell_type": "markdown",
   "metadata": {},
   "source": [
    "<hr style=\"width:75%;height:4px;border-width:0;color:gray;background-color:#003d59; opacity:0.75\"> "
   ]
  },
  {
   "cell_type": "markdown",
   "metadata": {},
   "source": [
    "### Multiple Conditional Filtering"
   ]
  },
  {
   "cell_type": "markdown",
   "metadata": {},
   "source": [
    "Just as we can filter by one condition we can also filter by multiple conditions.\n",
    "\n",
    "Let’s add in a new column, representing age to the `cat_dog` DataFrame."
   ]
  },
  {
   "cell_type": "code",
   "execution_count": null,
   "metadata": {
    "collapsed": true
   },
   "outputs": [],
   "source": [
    "# Let's create a simple DataFrame to look at this in practice\n",
    "# Again, we don't need to worry about how we do this!\n",
    "\n",
    "cat_dog = pd.DataFrame({\"animal\": [\"Cat\", \"Cat\", \"Dog\", \"Cat\", \"Dog\"], \n",
    "                        \"name\": [\"Catalie Portman\",\"Pico de Gato\", \"Chewbarka\", \"JK Meowling\", \"K9\"],\n",
    "                        \"age\": [3, 5, 1, 7, 11]}, \n",
    "                       columns=[\"name\", \"animal\", \"age\"])\n",
    "\n",
    "\n",
    "# Print out the DataFrame\n",
    "\n",
    "cat_dog"
   ]
  },
  {
   "cell_type": "markdown",
   "metadata": {},
   "source": [
    "We now have an age column, and we’ll be able to select on more than one condition.\n",
    "\n",
    "When we want to filter on more than one condition, we have to consider how those conditions relate to each other.\n",
    "\n",
    "AND relationships use the & symbol (Shift and 7 on the keyboard) and require **both** or **all** conditions to evaluate to `True`.\n",
    "\n",
    "OR relationships use the | symbol (Shift and `\\` or ALT 124 on a numerical keypad) and require **one** of the conditions to evaluate to `True`\n",
    "\n",
    "Below is a “Truth table” that can be handy as a look up.\n",
    "\n",
    "\n",
    "| Condition 1 | Condition 2  | & (AND) Equates to |  &#124; (OR) Equates to |\n",
    "|:-----------:|:------------:|:------------------:|:------------------:|\n",
    "|     True    |     True     |        True        |        True        |\n",
    "|     True    |     False    |        False       |        True        |\n",
    "|    False    |     True     |        False       |        True        |\n",
    "|    False    |     False    |        False       |        False       |\n",
    "\n",
    "Note that both conditions must evaluate to `True` in order for it to evaluate to `True` overall."
   ]
  },
  {
   "cell_type": "markdown",
   "metadata": {},
   "source": [
    "We now have an age column so we can now select all Cats that are older than 4.\n",
    "\n",
    "Again, in this example we will create a mask so we can see what Boolean values are happening behind the scenes.\n"
   ]
  },
  {
   "cell_type": "code",
   "execution_count": null,
   "metadata": {
    "collapsed": true,
    "scrolled": true
   },
   "outputs": [],
   "source": [
    "# Create my mask\n",
    "mask = (cat_dog['animal'] == \"Cat\") & (cat_dog['age'] > 4)\n",
    "\n",
    "# have a look at the mask\n",
    "mask"
   ]
  },
  {
   "cell_type": "markdown",
   "metadata": {},
   "source": [
    "* I am assigning my output to the variable `mask` with a single = sign.\n",
    "\n",
    "\n",
    "* My first conditional statement:\n",
    "    * Has round brackets surrounding it `(`\n",
    "    * The first column I want to look for values in is `\"animal\"` from the `catdog` Dataframe - `catdog[“animal”]`\n",
    "    * From that column I want to find values that meet my condition – I state this with the double equals `==`\n",
    "    * Finally I am telling `pandas` what value I want to find; a string containing “Cat”\n",
    "    * My first condition complete I close my round brackets `)`\n",
    "    \n",
    "    \n",
    "* I use a symbol to represent the relationship between my conditons. Here an ampersand - `&` (Shift and 7) is used to represent `AND`\n",
    "\n",
    "\n",
    "* My second conditional statement:\n",
    "    * Has round brackets surrounding it `(`\n",
    "    * The first column I want to look for values in is `\"age\"` from the `catdog` Dataframe - `catdog[“age”]`\n",
    "    * From that column I want to find values that are greater than my condition – I state this with the  `>`\n",
    "    * Finally I am telling Pandas what value I want to find; an int 4\n",
    "    * My second condition complete I close my round brackets `)`\n",
    "    \n",
    "\n",
    "Let's look at the `mask` values alongside the DataFrame:\n",
    "\n",
    "| index  | animal  |       name      | age | included |\n",
    "|:-:|:-------:|:---------------:|-----|----------|\n",
    "| 0 |   Cat   | Catalie Portman | 3   | False    |\n",
    "| 1 |   Cat   |   Pico de Gato  | 5   | True     |\n",
    "| 2 |   Dog   |    Chewbarka    | 1   | False    |\n",
    "| 3 |   Cat   |   JK Meowling   | 7   | True     |\n",
    "| 4 | Dog     | K9              | 11  | False    |\n",
    "\n"
   ]
  },
  {
   "cell_type": "markdown",
   "metadata": {},
   "source": [
    "And when we apply the mask to the DataFrame we can see the filtered Dataframe - with only Cats over 4."
   ]
  },
  {
   "cell_type": "code",
   "execution_count": null,
   "metadata": {
    "collapsed": true
   },
   "outputs": [],
   "source": [
    "cats_over_4 = cat_dog[mask]\n",
    "cats_over_4"
   ]
  },
  {
   "cell_type": "markdown",
   "metadata": {},
   "source": [
    "We can of course do this in one line as well.\n",
    "\n",
    "We reference the DataFrame we are selecting from, and then place our filter condition within the indexing or selection brackets.\n"
   ]
  },
  {
   "cell_type": "code",
   "execution_count": null,
   "metadata": {
    "collapsed": true
   },
   "outputs": [],
   "source": [
    "cats_over_4 = cat_dog[(cat_dog[\"animal\"] == \"Cat\") & (cat_dog[\"age\"] > 4)]\n",
    "cats_over_4"
   ]
  },
  {
   "cell_type": "markdown",
   "metadata": {},
   "source": [
    "If we can use the AND condition (&) we can also use the OR condition where only one of the conditions must be met to evaluate to `True`.\n",
    "\n",
    "The OR condition is represented by a vertical bar symbol ( `|` ) – press shift and `\\`.\n",
    "\n",
    "Lets add a condition where the animal is a cat **OR** the age is greater than 4.\n"
   ]
  },
  {
   "cell_type": "code",
   "execution_count": null,
   "metadata": {
    "collapsed": true
   },
   "outputs": [],
   "source": [
    "# Create my mask\n",
    "mask = (cat_dog[\"animal\"] == \"Cat\") | (cat_dog[\"age\"] > 4)\n",
    "\n",
    "# View mask\n",
    "\n",
    "mask"
   ]
  },
  {
   "cell_type": "markdown",
   "metadata": {},
   "source": [
    "Let's look at the `mask` values alongside the DataFrame:\n",
    "\n",
    "| index  | animal  |       name      | age | included |\n",
    "|:-:|:-------:|:---------------:|-----|----------|\n",
    "| 0 |   Cat   | Catalie Portman | 3   | True     |\n",
    "| 1 |   Cat   |   Pico de Gato  | 5   | True     |\n",
    "| 2 |   Dog   |    Chewbarka    | 1   | False    |\n",
    "| 3 |   Cat   |   JK Meowling   | 7   | True     |\n",
    "| 4 | Dog     | K9              | 11  | True     |\n",
    "\n",
    "Catalie Portman now evaluates to True. While she is younger than 3 she is a Cat – and by meeting one of the conditions is included.\n",
    "\n",
    "K9 also evaluates to `True`. He is not a cat; but meets the age condition by being older than 4 and so is included.\n",
    "\n",
    "We can of course apply this mask to filter the DataFrame"
   ]
  },
  {
   "cell_type": "code",
   "execution_count": null,
   "metadata": {
    "collapsed": true
   },
   "outputs": [],
   "source": [
    "cats_or_over4 = cat_dog[mask]\n",
    "cats_or_over4"
   ]
  },
  {
   "cell_type": "markdown",
   "metadata": {},
   "source": [
    "Or do the whole action in one line of code."
   ]
  },
  {
   "cell_type": "code",
   "execution_count": null,
   "metadata": {
    "collapsed": true
   },
   "outputs": [],
   "source": [
    "cats_or_over4 = cat_dog[(cat_dog[\"animal\"] == \"Cat\") | (cat_dog[\"age\"] > 4)]\n",
    "cats_or_over4"
   ]
  },
  {
   "cell_type": "markdown",
   "metadata": {},
   "source": [
    "Here are some more examples using the `titanic` DataFrame.\n",
    "\n",
    "Here we are filtering for survivors (value 1), who were female. Using an AND (&) condition\n"
   ]
  },
  {
   "cell_type": "code",
   "execution_count": null,
   "metadata": {
    "collapsed": true
   },
   "outputs": [],
   "source": [
    "female_survivors = titanic[(titanic[\"survived\"] == 1) & (titanic[\"sex\"] == \"female\")]\n",
    "female_survivors.tail()"
   ]
  },
  {
   "cell_type": "markdown",
   "metadata": {},
   "source": [
    "And here we are filtering for those with more than 3 sibling/spouses (`sibsp`) on board or who paid more than £400 for their fare."
   ]
  },
  {
   "cell_type": "code",
   "execution_count": null,
   "metadata": {
    "collapsed": true
   },
   "outputs": [],
   "source": [
    "siblings_or_expensive = titanic[(titanic['sibsp'] > 3) | (titanic['fare'] > 400)]\n",
    "siblings_or_expensive.head()"
   ]
  },
  {
   "cell_type": "markdown",
   "metadata": {},
   "source": [
    "<hr style=\"width:50%;height:4px;border-width:0;color:gray;background-color:#003d59; opacity:0.5\"> "
   ]
  },
  {
   "cell_type": "markdown",
   "metadata": {},
   "source": [
    "## Exercise\n",
    "\n",
    "Filter the animals DataFrame where the IncidentNominalCost(£) Column was less than £400 **and** where the Borough column value is Croydon."
   ]
  },
  {
   "cell_type": "code",
   "execution_count": null,
   "metadata": {
    "collapsed": true
   },
   "outputs": [],
   "source": [
    "# Exercise\n",
    "\n"
   ]
  },
  {
   "cell_type": "code",
   "execution_count": null,
   "metadata": {
    "collapsed": true
   },
   "outputs": [],
   "source": [
    "# Solution - These cells contain answers for the exercises.\n",
    "# Run once to reveal the code\n",
    "# Run again to reveal the output\n",
    "\n",
    "%load ../solutions/chapter_4/animal_filter_one.py"
   ]
  },
  {
   "cell_type": "markdown",
   "metadata": {},
   "source": [
    "<hr style=\"width:50%;height:4px;border-width:0;color:gray;background-color:#003d59; opacity:0.5\"> "
   ]
  },
  {
   "cell_type": "markdown",
   "metadata": {},
   "source": [
    "## Exercise\n",
    "\n",
    "Filter the animals DataFrame where the 'PropertyType' was \"River/canal\" **or** the `\"PumpHoursTotal\"` was greater than 8."
   ]
  },
  {
   "cell_type": "code",
   "execution_count": null,
   "metadata": {
    "collapsed": true
   },
   "outputs": [],
   "source": [
    "# Exercise\n",
    "\n"
   ]
  },
  {
   "cell_type": "code",
   "execution_count": null,
   "metadata": {
    "collapsed": true
   },
   "outputs": [],
   "source": [
    "# Solution - These cells contain answers for the exercises.\n",
    "# Run once to reveal the code\n",
    "# Run again to reveal the output\n",
    "\n",
    "%load ../solutions/chapter_4/animal_filter_two.py"
   ]
  },
  {
   "cell_type": "markdown",
   "metadata": {},
   "source": [
    "<hr style=\"width:75%;height:4px;border-width:0;color:gray;background-color:#003d59; opacity:0.75\"> "
   ]
  },
  {
   "cell_type": "markdown",
   "metadata": {},
   "source": [
    "## Some Filter short cuts.\n",
    "\n",
    "We can also use some other filters to make life easier.\n",
    "\n",
    "with `.isin()` we can provide a list of things to filter – here the boat identities `[“2”, “C”, “15”]`"
   ]
  },
  {
   "cell_type": "code",
   "execution_count": null,
   "metadata": {
    "collapsed": true
   },
   "outputs": [],
   "source": [
    "titanic[titanic[\"boat\"].isin([\"2\", \"C\", \"15\"])].head()"
   ]
  },
  {
   "cell_type": "markdown",
   "metadata": {},
   "source": [
    "If dealing with numeric values we can use `.between()` and specify an upper and lower bound.\n",
    "\n",
    "Here we’re looking where the `age` column was between 0 and 12.\n"
   ]
  },
  {
   "cell_type": "code",
   "execution_count": null,
   "metadata": {
    "collapsed": true,
    "scrolled": true
   },
   "outputs": [],
   "source": [
    "titanic[titanic[\"age\"].between(0, 12)]"
   ]
  },
  {
   "cell_type": "markdown",
   "metadata": {},
   "source": [
    "We also have the `~` tilde symbol to invert an expression, this works similarly to the `!=` for does not equal.\n",
    "\n",
    "For example, I can invert the filter for female passengers to return just male passengers.\n",
    "\n",
    "Note – I have to wrap my conditional statement in round brackets to ensure this works."
   ]
  },
  {
   "cell_type": "code",
   "execution_count": null,
   "metadata": {
    "collapsed": true
   },
   "outputs": [],
   "source": [
    "titanic[~(titanic[\"sex\"] == \"female\")]  # Inverts the results of == Female; effectively giving == Male"
   ]
  },
  {
   "cell_type": "markdown",
   "metadata": {},
   "source": [
    "The tilde `~` can be useful for other scenarios, there’s a variety of `.is` methods for example that do not have an is not equivalent; but we can invert the `.is` method instead. We’ll see an example of that in chapter 5. "
   ]
  },
  {
   "cell_type": "markdown",
   "metadata": {},
   "source": [
    "<hr style=\"width:75%;height:4px;border-width:0;color:gray;background-color:#003d59; opacity:0.75\"> "
   ]
  },
  {
   "cell_type": "markdown",
   "metadata": {},
   "source": [
    "## Filtering Text\n",
    "\n",
    "So far when we've talked about filtering text we do so on exact matches.\n",
    "\n",
    "As Python is case sensitive filtering for `“cat”` will not show the values `“CAT”` or `“Cat”` or `cAt` in our `cat_dog` DataFrame. "
   ]
  },
  {
   "cell_type": "code",
   "execution_count": null,
   "metadata": {
    "collapsed": true
   },
   "outputs": [],
   "source": [
    "# Lets create our cat_dog DataFrame again with some variation in the capitalisation of \"cat\"\n",
    "\n",
    "cat_dog_wrong_spelling = pd.DataFrame({\"animal\": [\"cat\", \"Cat\", \"Dog\", \"cat\", \"Dog\", \"Rat\", \"Bat\"] , \n",
    "                                       \"name\": [\"Catalie Portman\",\"Pico de Gato\", \"Chewbarka\", \"JK Meowling\", \"K9\", \"Roland\", \"Vlad\"],\n",
    "                                       \"age\": [3, 5, 1, 7, 11, 1, 3]} , \n",
    "                                      columns = [\"name\", \"animal\", \"age\"])\n",
    "\n",
    "cat_dog_wrong_spelling"
   ]
  },
  {
   "cell_type": "markdown",
   "metadata": {},
   "source": [
    "Here the filter condition we previously used (`== Cat`) will only now only return us `Pico De Gato`"
   ]
  },
  {
   "cell_type": "code",
   "execution_count": null,
   "metadata": {
    "collapsed": true
   },
   "outputs": [],
   "source": [
    "cat_only_spelling = cat_dog_wrong_spelling[cat_dog_wrong_spelling[\"animal\"] == \"Cat\"]\n",
    "cat_only_spelling"
   ]
  },
  {
   "cell_type": "markdown",
   "metadata": {},
   "source": [
    "Which is not the result we wanted - due to Python's case sensitivity.\n",
    "\n",
    "For simple instances we can use the string method `str.contains()` like in the example below.\n",
    "\n",
    "Here in our DataFrame some entries in the `\"Animal\"` column have \"Cat\" and others have \"cat\".\n",
    "\n",
    "By using `.str.contains(“at”)` - we can bring in both values because both contain the partial string \"at\"."
   ]
  },
  {
   "cell_type": "code",
   "execution_count": null,
   "metadata": {
    "collapsed": true
   },
   "outputs": [],
   "source": [
    "# Filter to find instances where the string in \"animal\" contains \"at\"\n",
    "cat_only_spelling = cat_dog_wrong_spelling[cat_dog_wrong_spelling[\"animal\"].str.contains(\"at\")]\n",
    "cat_only_spelling"
   ]
  },
  {
   "cell_type": "markdown",
   "metadata": {},
   "source": [
    "This obviously is not foolproof as both `Rat` and `Bat` also have `at` in them! \n",
    "\n",
    "In chapter 5 we'll look at changing the column values to lowercase - which would allow a straight forward filter to work in this case.\n",
    "\n",
    "For more complex cases we can use what is known as Regular Expresions or RegEx in Python to search for partial strings.\n",
    "\n",
    "We do not cover these in this introduction course; but here are some more resources you may wish to explore. If you have used Regular Expressions in other languages you will find this very familiar.\n",
    "\n",
    "[ RegEx How to]( https://docs.python.org/3/howto/regex.html)\n",
    "\n",
    "[Python Regular Expressions]( https://developers.google.com/edu/python/regular-expressions)\n",
    "\n",
    "[Datacamp RegEx tutorial]( https://www.datacamp.com/community/tutorials/python-regular-expression-tutorial)"
   ]
  },
  {
   "cell_type": "markdown",
   "metadata": {},
   "source": [
    "We’ve looked here at the base Python way of filtering, as with many things in Python there are other alternatives. Some include:"
   ]
  },
  {
   "cell_type": "code",
   "execution_count": null,
   "metadata": {
    "collapsed": true
   },
   "outputs": [],
   "source": [
    "titanic.query('fare > 50 & sex == \"male\"').head()"
   ]
  },
  {
   "cell_type": "markdown",
   "metadata": {},
   "source": [
    "`.filter()` works on the *index* - not the contents! \n",
    "\n",
    "Here I’m looking for `like = “1”` which will give me index `1` , `11` , `12` as they contain the number 1. \n",
    "\n",
    "So far we’ve worked with indexes that are numerical – from 0 to n; but they can also be text based; and using the pandas `.filter()` would be useful here."
   ]
  },
  {
   "cell_type": "code",
   "execution_count": null,
   "metadata": {
    "collapsed": true
   },
   "outputs": [],
   "source": [
    "titanic.filter(like = \"1\", axis = 0).head()"
   ]
  },
  {
   "cell_type": "markdown",
   "metadata": {},
   "source": [
    "You many find even more ways of filtering your data – there’s lots out there!"
   ]
  },
  {
   "cell_type": "markdown",
   "metadata": {},
   "source": [
    "[return to menu](#menu)"
   ]
  },
  {
   "cell_type": "markdown",
   "metadata": {},
   "source": [
    "<a id='new_columns'></a>\n",
    "<hr style=\"width:100%;height:4px;border-width:0;color:gray;background-color:#003d59; opacity:1\"> "
   ]
  },
  {
   "cell_type": "markdown",
   "metadata": {},
   "source": [
    "## Deriving New Columns"
   ]
  },
  {
   "cell_type": "markdown",
   "metadata": {},
   "source": [
    "We create new columns in very similar ways:\n",
    "\n",
    "<center> `titanic[\"new_column\"] = 1` </center>\n",
    "\n",
    "\n",
    "In the example above we are creating a new column in the `titanic` DataFrame called `\"new_column\"`, which will have the constant value of 1 in each row.\n",
    "\n",
    "* To create a new column we first give the DataFrame name and use square brackets to specify, as a string our column name – here `\"new_column\"`\n",
    "    * If the column name does not exist in our Dataframe (like in the example) the contents will be placed in a new column, at the end of the DataFrame.\n",
    "    * If the column already exists in our DataFrame the contents of that column will be **overwritten**.\n",
    "    \n",
    "    \n",
    "* We then use the assignment operator \"` = `\"\n",
    "\n",
    "\n",
    "* After the assignment operator is what we fill our column with – here a constant value of the integer 1. \n",
    "\n",
    "We’ll now look at various different ways we can fill these new columns.\n"
   ]
  },
  {
   "cell_type": "markdown",
   "metadata": {},
   "source": [
    "### Constant Values"
   ]
  },
  {
   "cell_type": "markdown",
   "metadata": {},
   "source": [
    "Constant values are values that are the same all the way through the column.\n",
    "\n",
    "These are created by placing the value after the `=` assignment operator.\n",
    "\n",
    "Some examples are in the cell below.\n"
   ]
  },
  {
   "cell_type": "code",
   "execution_count": null,
   "metadata": {
    "collapsed": true
   },
   "outputs": [],
   "source": [
    "# Let's remind ourselves what cat_dog looks like\n",
    "\n",
    "cat_dog.head()"
   ]
  },
  {
   "cell_type": "code",
   "execution_count": null,
   "metadata": {
    "collapsed": true
   },
   "outputs": [],
   "source": [
    "# Let's add new columns\n",
    "\n",
    "cat_dog[\"constant_string\"] = \"mammal\"   # adds a string/object constant\n",
    "cat_dog[\"constant_float\"] = 3.2 # adds a floating point constant\n",
    "cat_dog[\"constant_int\"] = 2   # adds an interger constant\n",
    "\n",
    "cat_dog"
   ]
  },
  {
   "cell_type": "markdown",
   "metadata": {},
   "source": [
    "<hr style=\"width:50%;height:4px;border-width:0;color:gray;background-color:#003d59; opacity:0.5\"> "
   ]
  },
  {
   "cell_type": "markdown",
   "metadata": {},
   "source": [
    "## Exercise\n",
    "\n",
    "Add a new constant value to the `animals` dataframe.\n",
    "\n",
    "Call your new column `attended` and set the value to be `True`."
   ]
  },
  {
   "cell_type": "code",
   "execution_count": null,
   "metadata": {
    "collapsed": true
   },
   "outputs": [],
   "source": [
    "# Exercise\n",
    "\n"
   ]
  },
  {
   "cell_type": "code",
   "execution_count": null,
   "metadata": {
    "collapsed": true
   },
   "outputs": [],
   "source": [
    "# Solution - These cells contain answers for the exercises.\n",
    "# Run once to reveal the code\n",
    "# Run again to reveal the output\n",
    "\n",
    "%load ../solutions/chapter_4/constantvalue.py"
   ]
  },
  {
   "cell_type": "markdown",
   "metadata": {},
   "source": [
    "<hr style=\"width:75%;height:4px;border-width:0;color:gray;background-color:#003d59; opacity:0.75\"> "
   ]
  },
  {
   "cell_type": "markdown",
   "metadata": {},
   "source": [
    "### Numeric Values"
   ]
  },
  {
   "cell_type": "markdown",
   "metadata": {},
   "source": [
    "We can add in numeric columns too.\n",
    "\n",
    "We can do any form of operations we like here – for example creating the family size of the person. \n",
    "\n",
    "This is the number of siblings or spouses on board (`sibsp`), the number of parents or children on board (`parch`), plus 1 (the person themselves)."
   ]
  },
  {
   "cell_type": "code",
   "execution_count": null,
   "metadata": {
    "collapsed": true
   },
   "outputs": [],
   "source": [
    "titanic[\"family_size\"] = titanic[\"sibsp\"] + titanic[\"parch\"] + 1\n",
    "\n",
    "titanic.head()"
   ]
  },
  {
   "cell_type": "markdown",
   "metadata": {},
   "source": [
    "<hr style=\"width:75%;height:4px;border-width:0;color:gray;background-color:#003d59; opacity:0.75\"> "
   ]
  },
  {
   "cell_type": "markdown",
   "metadata": {},
   "source": [
    "### Boolean and Binary Values"
   ]
  },
  {
   "cell_type": "markdown",
   "metadata": {
    "collapsed": true
   },
   "source": [
    "Using the same conditions as we do when filtering we can also create Boolean (True/False) columns.\n",
    "\n",
    "\n",
    "In the example below I am assigning `True` to all values in the `age` column that are under 18. My new column is called `\"under_18_bool\"`"
   ]
  },
  {
   "cell_type": "code",
   "execution_count": null,
   "metadata": {
    "collapsed": true
   },
   "outputs": [],
   "source": [
    "titanic[\"under_18_bool\"] = titanic[\"age\"] < 18\n",
    "titanic.head()"
   ]
  },
  {
   "cell_type": "markdown",
   "metadata": {},
   "source": [
    "We can also change these values from the Boolean `True` and `False` to the binary values `1` and `0`.\n",
    "\n",
    "We can convert columns by using the code `.astype(“int64”)`."
   ]
  },
  {
   "cell_type": "code",
   "execution_count": null,
   "metadata": {
    "collapsed": true
   },
   "outputs": [],
   "source": [
    "titanic[\"under_18_binary\"] = titanic[\"under_18_bool\"].astype(\"int64\")\n",
    "\n",
    "titanic.head()"
   ]
  },
  {
   "cell_type": "markdown",
   "metadata": {},
   "source": [
    "We can also do this in one step when we create the column. We can wrap the first part of the code in brackets; like our order of operations in mathematics this tells Python which bit to do first.\n",
    "\n",
    "In the cell below we add the new column in one line, and then sort out the missing values in the next.\n"
   ]
  },
  {
   "cell_type": "code",
   "execution_count": null,
   "metadata": {
    "collapsed": true
   },
   "outputs": [],
   "source": [
    "# Add the new column and change the type in one line\n",
    "\n",
    "titanic[\"under_18_binary\"] = (titanic[\"age\"] < 18).astype(\"int64\")"
   ]
  },
  {
   "cell_type": "markdown",
   "metadata": {},
   "source": [
    "It’s important to note that where we have missing values – it will mark those as `False` (or 0). \n",
    "\n",
    "This could really affect our data analysis. \n",
    "\n",
    "We’ll look at one way of fixing this after the exercises."
   ]
  },
  {
   "cell_type": "code",
   "execution_count": null,
   "metadata": {
    "collapsed": true
   },
   "outputs": [],
   "source": [
    "titanic[titanic['age'].isnull()].head()"
   ]
  },
  {
   "cell_type": "markdown",
   "metadata": {},
   "source": [
    "<hr style=\"width:50%;height:4px;border-width:0;color:gray;background-color:#003d59; opacity:0.5\"> "
   ]
  },
  {
   "cell_type": "markdown",
   "metadata": {},
   "source": [
    "## Exercise\n",
    "\n",
    "Create a new boolean column in the `animals` DataFrame called `fish_bool`.\n",
    "\n",
    "Use the `AnimalClass` column to find the values that are eqivalant to `Fish`.\n",
    "\n",
    "Remember when we're checking equivalency we need the `==` symbol.\n"
   ]
  },
  {
   "cell_type": "code",
   "execution_count": null,
   "metadata": {
    "collapsed": true
   },
   "outputs": [],
   "source": [
    "# Exercise\n",
    "\n"
   ]
  },
  {
   "cell_type": "code",
   "execution_count": null,
   "metadata": {
    "collapsed": true
   },
   "outputs": [],
   "source": [
    "# Solution - These cells contain answers for the exercises.\n",
    "# Run once to reveal the code\n",
    "# Run again to reveal the output\n",
    "\n",
    "%load ../solutions/chapter_4/new_bool_col.py"
   ]
  },
  {
   "cell_type": "markdown",
   "metadata": {},
   "source": [
    "<hr style=\"width:50%;height:4px;border-width:0;color:gray;background-color:#003d59; opacity:0.5\"> "
   ]
  },
  {
   "cell_type": "markdown",
   "metadata": {},
   "source": [
    "## Extension exercise\n",
    "\n",
    "Convert `fish_bool` to be a numerical value.\n"
   ]
  },
  {
   "cell_type": "code",
   "execution_count": null,
   "metadata": {
    "collapsed": true
   },
   "outputs": [],
   "source": [
    "# Exercise\n",
    "\n"
   ]
  },
  {
   "cell_type": "code",
   "execution_count": null,
   "metadata": {
    "collapsed": true
   },
   "outputs": [],
   "source": [
    "# Solution - These cells contain answers for the exercises.\n",
    "# Run once to reveal the code\n",
    "# Run again to reveal the output\n",
    "\n",
    "%load ../solutions/chapter_4/fish_bool_numeric.py"
   ]
  },
  {
   "cell_type": "markdown",
   "metadata": {},
   "source": [
    "<hr style=\"width:75%;height:4px;border-width:0;color:gray;background-color:#003d59; opacity:0.75\"> "
   ]
  },
  {
   "cell_type": "markdown",
   "metadata": {
    "collapsed": true
   },
   "source": [
    "** Important note: Booleans and Missing Values **\n",
    "\n",
    "Earlier we declared a boolean column that has `True` for under 18, and `False` for over 18.\n",
    "\n",
    "One issue with this method is that if an entry in the `age` column is a missing value (`NaN`) then it is classified as `False` here.\n",
    "\n",
    "\n",
    "While Pandas has done exactly as we asked (it does not meet the criteria so is `False`) we’re artificially inflating the number of adults in our two end columns. \n",
    "\n",
    "Statistically this isn’t right. There's 263 missing values in the `age` column - as we don’t know the passengers age; so we should preserve the missing data types rather than assume they're over 18 (as it currently does!)\n",
    "\n",
    "The cell below is filtering the `titanic` dataframe - showing the values that are null (using `.isnull()` ) in the `age` column.\n",
    "\n",
    "You can see that they show `False` in the `under_18` column."
   ]
  },
  {
   "cell_type": "code",
   "execution_count": null,
   "metadata": {
    "collapsed": true,
    "scrolled": false
   },
   "outputs": [],
   "source": [
    "# Create the \"under_18\" column again - in case it's not been run yet!\n",
    "titanic[\"under_18_bool\"] = titanic[\"age\"] < 18\n",
    "\n",
    "# Look at missing values in the age column\n",
    "# Note that in the \"under_18\" column - they are True!\n",
    "\n",
    "titanic[titanic['age'].isnull()].head()"
   ]
  },
  {
   "cell_type": "markdown",
   "metadata": {},
   "source": [
    "We’ll look at more ways to action missing values in chapter 6; but for now we can use `.loc[]` to fill in these values. \n",
    "\n",
    "We’ll also talk about `.loc[]` in chapter 5. Basically `.loc[]` can look up rows or columns based on either their index; or as we’re doing here a logical statement – like a filter statement.\n",
    "\n",
    "Here we’re using `.loc[]` to find rows where the `age` column has a null value; and updating our new column `under_18` to show null (`NaN`) too using the keyword `None`."
   ]
  },
  {
   "cell_type": "code",
   "execution_count": null,
   "metadata": {
    "collapsed": true
   },
   "outputs": [],
   "source": [
    "titanic.loc[titanic['age'].isnull(), 'under_18_bool'] = None"
   ]
  },
  {
   "cell_type": "markdown",
   "metadata": {},
   "source": [
    "Now our `NaN` in `age` are also `NaN` values in `under_18` - as we can see if we run the cell below."
   ]
  },
  {
   "cell_type": "code",
   "execution_count": null,
   "metadata": {
    "collapsed": true,
    "scrolled": true
   },
   "outputs": [],
   "source": [
    "titanic[titanic['age'].isnull()].head()"
   ]
  },
  {
   "cell_type": "markdown",
   "metadata": {},
   "source": [
    "While we still have missing data in this column that we may want to deal with later (see chapter 6); at least our “under_18” column is now more accurate. It's really important we think about missing values whenever we perform operations using our data."
   ]
  },
  {
   "cell_type": "markdown",
   "metadata": {},
   "source": [
    "<hr style=\"width:75%;height:4px;border-width:0;color:gray;background-color:#003d59; opacity:0.75\"> "
   ]
  },
  {
   "cell_type": "markdown",
   "metadata": {},
   "source": [
    "### Mapping New Values"
   ]
  },
  {
   "cell_type": "markdown",
   "metadata": {},
   "source": [
    "We can also use `.map()` to map a dictionary to a column.\n",
    "\n",
    "This can be useful when we want to explain coded variables for other users; e.g. the column `port` has the values `S`, `C` and `Q`.  We can use `.map()` to give the full names of these ports.\n"
   ]
  },
  {
   "cell_type": "code",
   "execution_count": null,
   "metadata": {
    "collapsed": true
   },
   "outputs": [],
   "source": [
    "titanic[\"port\"] = titanic[\"embarked\"].map({\"S\":\"Southampton\",\n",
    "                                           \"C\":\"Cherbourg\", \n",
    "                                           \"Q\": \"Queenstown (Cobh)\"})\n",
    "\n",
    "titanic.tail()\n"
   ]
  },
  {
   "cell_type": "markdown",
   "metadata": {},
   "source": [
    "<hr style=\"width:75%;height:4px;border-width:0;color:gray;background-color:#003d59; opacity:0.75\"> "
   ]
  },
  {
   "cell_type": "markdown",
   "metadata": {},
   "source": [
    "### Deleting columns"
   ]
  },
  {
   "cell_type": "markdown",
   "metadata": {},
   "source": [
    "There are a few ways to remove or drop columns.\n",
    "\n",
    "Let's look at cat_dog again"
   ]
  },
  {
   "cell_type": "code",
   "execution_count": null,
   "metadata": {
    "collapsed": true
   },
   "outputs": [],
   "source": [
    "cat_dog"
   ]
  },
  {
   "cell_type": "markdown",
   "metadata": {},
   "source": [
    "We have the inbuilt python statement del ; here to delete the column constant_float from cat_dog DataFrame"
   ]
  },
  {
   "cell_type": "code",
   "execution_count": null,
   "metadata": {
    "collapsed": true
   },
   "outputs": [],
   "source": [
    "del cat_dog[\"constant_float\"]\n",
    "cat_dog"
   ]
  },
  {
   "cell_type": "markdown",
   "metadata": {},
   "source": [
    "We can also use the `.drop()` method.\n",
    "\n",
    "For versions of Pandas below 0.21.0"
   ]
  },
  {
   "cell_type": "code",
   "execution_count": null,
   "metadata": {
    "collapsed": true
   },
   "outputs": [],
   "source": [
    "cat_dog.drop(labels=[\"constant_string\", \"constant_int\"], axis=1, inplace=True)\n",
    "cat_dog\n",
    "\n",
    "# If this cell doesn't work check your version using pd.__version__\n",
    "# If greater than 0.21.0 use the code in the text below."
   ]
  },
  {
   "cell_type": "markdown",
   "metadata": {},
   "source": [
    "Here note:\n",
    "\n",
    "* I’m passing my column names as a list, as there’s more than one\n",
    "* `axis=1` tells Pandas that we want to delete columns\n",
    "* `inplace=True`  updates the original Dataframe\n",
    "\n",
    "This is a very good example of how packages can evolve over time.\n",
    "\n",
    "From version 0.21.0 of Pandas we don’t need to provide `axis = `  as it can detect if you’re dealing with columns or rows.\n",
    "\n",
    "If you have that version or later you can use\n",
    "\n",
    "```python\n",
    "cat_dog.drop(columns = [\"constant_string\", \"constant_int\"], inplace = True) \n",
    "\n",
    "```\n",
    "\n",
    "However most of us are using version 0.20.0 within ONS so I must still use the “old” syntax. The “old” syntax is backwards compatible; so my code below should work, even if you’re using a newer version of Pandas than I am.\n",
    "\n",
    "\n",
    "An additional option is to use square brackets to just return the columns we want to – we covered that earlier in this section."
   ]
  },
  {
   "cell_type": "markdown",
   "metadata": {},
   "source": [
    "[return to menu](#menu)"
   ]
  },
  {
   "cell_type": "markdown",
   "metadata": {},
   "source": [
    "<a id='merge'></a>\n",
    "<hr style=\"width:100%;height:4px;border-width:0;color:gray;background-color:#003d59; opacity:1\"> "
   ]
  },
  {
   "cell_type": "markdown",
   "metadata": {},
   "source": [
    "## Merging Data"
   ]
  },
  {
   "cell_type": "markdown",
   "metadata": {},
   "source": [
    "Let’s have a look at the two `joining_data`  DataFrames.\n",
    "\n",
    "In `joining_data1` we have the columns `name`, `animal` and `age`.\n",
    "In `joining_data2` we have the columns `name` and `vaccinated`.\n",
    "\n",
    "`Arf Vader` only appears in `joining_data1` and `Spiderpig` only appears in `joining_data2`. The remainder of the animals appear in both DataFrames."
   ]
  },
  {
   "cell_type": "code",
   "execution_count": null,
   "metadata": {
    "collapsed": true
   },
   "outputs": [],
   "source": [
    "joining_data1"
   ]
  },
  {
   "cell_type": "code",
   "execution_count": null,
   "metadata": {
    "collapsed": true
   },
   "outputs": [],
   "source": [
    "joining_data2"
   ]
  },
  {
   "cell_type": "markdown",
   "metadata": {},
   "source": [
    "These two DataFrames have a column in common that we could use to join them on - `name`.\n",
    "\n",
    "We can create a variety of joins. These are often best demonstrated with a Venn diagram.\n",
    "\n",
    "I’m going to say that `joining_data1` is my “left” DataFrame, and that `joining_data2` is my “right” DataFrame.\n",
    "\n",
    "For this I’m going to highlight the position of 3 animal names. As we mentioned earlier:\n",
    "\n",
    "* `Arf Vader` is only in `joining_data1`, our “left” DataFrame.\n",
    "* `Spiderpig` is only in `joining_data2`, our “right” DataFrame \n",
    "* `Catalie Portman` is in both `joining_data1` and `joining_data2` and will represent values in BOTH DataFrames. \n"
   ]
  },
  {
   "cell_type": "markdown",
   "metadata": {},
   "source": [
    "![\"examples of merge\"](../images/pdmerge.png)"
   ]
  },
  {
   "cell_type": "markdown",
   "metadata": {},
   "source": [
    "As you can see `left` and `right` merges take the data from that DataFrame and any matches from the opposite one. \n",
    "\n",
    "This means that in our `left`:\n",
    "* `Arf Vader` is included because he has data in the left DataFrame. \n",
    "* `Arf Vader` has missing values for `vaccinated`, as he isn’t in that DataFame\n",
    "* `Catalie Portman` has data in all columns, as she appears in both the left and right\n",
    "* `Spiderpig` doesn’t have any data. We’re only taking data from the left, and he’s only in the right.\n"
   ]
  },
  {
   "cell_type": "markdown",
   "metadata": {},
   "source": [
    "Let’s look at how we do this left merge in code. \n",
    "\n",
    "We’re going to use `pd.merge()` and do a left join."
   ]
  },
  {
   "cell_type": "code",
   "execution_count": null,
   "metadata": {
    "collapsed": true
   },
   "outputs": [],
   "source": [
    "left_merge = pd.merge(left = joining_data1,\n",
    "                      right=joining_data2, \n",
    "                                 how=\"left\",\n",
    "                                 on=\"name\",\n",
    "                                 indicator=True)\n",
    "\n",
    "left_merge"
   ]
  },
  {
   "cell_type": "markdown",
   "metadata": {},
   "source": [
    "Hopefully the code is fairly self-explanatory:\n",
    "\n",
    "* `left =` is our left hand DataFrame\n",
    "* `right= ` is our right hand DataFrame\n",
    "\n",
    "\n",
    "* `how= ` is how we want to perform the join – other options are\n",
    " * `right`\n",
    " * `outer`\n",
    " * `inner`  (default behaviour)\n",
    "\n",
    "\n",
    "* ` on= ` is the name of the column both DataFrames have in common. \n",
    " * If we're joining on more than one column we can specify a list here.\n",
    " \n",
    " \n",
    "* ` indicator` set to `True` adds an additional column showing if the data was in the left_only, both or right_only as applicable.\n",
    "\n",
    "Note - Some code may read \n",
    "\n",
    "``` python\n",
    "\n",
    "left_merge = joining_data1.merge(right=joining_data2, \n",
    "                                 how=\"left\",\n",
    "                                 on=\"name\",\n",
    "```\n",
    "\n",
    "This performs exactly the same merge - just using the object `joining_data1` rather than specifying it inside the `pd.merge` method. How you write this code is personal preference."
   ]
  },
  {
   "cell_type": "markdown",
   "metadata": {},
   "source": [
    "<hr style=\"width:50%;height:4px;border-width:0;color:gray;background-color:#003d59; opacity:0.5\"> "
   ]
  },
  {
   "cell_type": "markdown",
   "metadata": {},
   "source": [
    "## Exercise\n",
    "\n",
    "Using `marvel_left` and `marvel_right` perform an outer join using the column `name` \n",
    "\n"
   ]
  },
  {
   "cell_type": "code",
   "execution_count": null,
   "metadata": {
    "collapsed": true
   },
   "outputs": [],
   "source": [
    "# Exercise\n",
    "\n"
   ]
  },
  {
   "cell_type": "code",
   "execution_count": null,
   "metadata": {
    "collapsed": true
   },
   "outputs": [],
   "source": [
    "# Solution - These cells contain answers for the exercises.\n",
    "# Run once to reveal the code\n",
    "# Run again to reveal the output\n",
    "\n",
    "%load ../solutions/chapter_4/join_exercise_1.py"
   ]
  },
  {
   "cell_type": "markdown",
   "metadata": {},
   "source": [
    "<hr style=\"width:50%;height:4px;border-width:0;color:gray;background-color:#003d59; opacity:0.5\"> "
   ]
  },
  {
   "cell_type": "markdown",
   "metadata": {},
   "source": [
    "## Extension Exercise 1\n",
    "\n",
    "Using `marvel_left` and `marvel_right` perform a left join.\n",
    "\n",
    "Join on the column containing year.\n",
    "\n",
    "Note that the names of these columns may not be the same in both DataFrames.\n",
    "\n",
    "Use the help function to explore solutions to this. "
   ]
  },
  {
   "cell_type": "code",
   "execution_count": null,
   "metadata": {
    "collapsed": true
   },
   "outputs": [],
   "source": [
    "# Exercise\n",
    "\n"
   ]
  },
  {
   "cell_type": "code",
   "execution_count": null,
   "metadata": {
    "collapsed": true
   },
   "outputs": [],
   "source": [
    "# Solution - These cells contain answers for the exercises.\n",
    "# Run once to reveal the code\n",
    "# Run again to reveal the output\n",
    "\n",
    "%load ../solutions/chapter_4/join_exercise_2.py"
   ]
  },
  {
   "cell_type": "markdown",
   "metadata": {},
   "source": [
    "Note here that maybe “year” is not the best joining column! We’re getting multiple joins for movies that have different names because we only need that “year” data to match."
   ]
  },
  {
   "cell_type": "markdown",
   "metadata": {},
   "source": [
    "<hr style=\"width:50%;height:4px;border-width:0;color:gray;background-color:#003d59; opacity:0.5\"> "
   ]
  },
  {
   "cell_type": "markdown",
   "metadata": {},
   "source": [
    "## Extension Exercise 2\n",
    "\n",
    "Modify the previous join to:\n",
    "\n",
    "Join on **BOTH** the column containing names and the column containing years.\n",
    "\n",
    "Note that the names of these columns may not be the same in both DataFrames.\n",
    "\n",
    "Use the help function to explore solutions to this. \n",
    "\n"
   ]
  },
  {
   "cell_type": "code",
   "execution_count": null,
   "metadata": {
    "collapsed": true
   },
   "outputs": [],
   "source": [
    "# Exercise\n",
    "\n"
   ]
  },
  {
   "cell_type": "code",
   "execution_count": null,
   "metadata": {
    "collapsed": true
   },
   "outputs": [],
   "source": [
    "# Solution - These cells contain answers for the exercises.\n",
    "# Run once to reveal the code\n",
    "# Run again to reveal the output\n",
    "\n",
    "%load ../solutions/chapter_4/join_exercise_3.py\n"
   ]
  },
  {
   "cell_type": "markdown",
   "metadata": {},
   "source": [
    "This would be a great solution if we had a larger dataset. \n",
    "\n",
    "For example in 1998 there was a movie called “The Avengers”. It's not a marvel movie, and does not star Iron Man, but instead Uma Thurman and Ralph Fiennes as spys! By using the name and year we'd ensure a higher level of accuracy, being as specific as you can is good."
   ]
  },
  {
   "cell_type": "markdown",
   "metadata": {},
   "source": [
    "<hr style=\"width:75%;height:4px;border-width:0;color:gray;background-color:#003d59; opacity:0.75\"> "
   ]
  },
  {
   "cell_type": "markdown",
   "metadata": {},
   "source": [
    "### Union Merge\n",
    "\n",
    "We can also do what's known as `union` merges, which is implimented using `pd.concat()`.\n",
    "\n",
    "This is where we can add data on to the bottom of an existing dataFrame.\n",
    "\n",
    "For example we have some new animals to add on to `joining_data1`, these are contained in the `union_joined` DataFrame."
   ]
  },
  {
   "cell_type": "code",
   "execution_count": null,
   "metadata": {
    "collapsed": true
   },
   "outputs": [],
   "source": [
    "union_joined = pd.concat(objs=[joining_data1, union_join_data], ignore_index=True)\n",
    "union_joined"
   ]
  },
  {
   "cell_type": "markdown",
   "metadata": {},
   "source": [
    "We can see our new additions - `Andy Warhowl`, `Voldetort` and `Repecka` here now.\n",
    "\n",
    "Here we’re assigning the output to a new DataFrame – `union_joined`.\n",
    "\n",
    "Our parameters and arguments in `pd.conact()` are:\n",
    "* `objs= ` Our objects that we wish to concatenate – here as a list\n",
    "* `ignore_index= ` My new DataFrame will have it’s “own” index starting from 0. If I set this to `False` then I will have two things with an index of 0 – and I don’t want that!\n"
   ]
  },
  {
   "cell_type": "markdown",
   "metadata": {},
   "source": [
    "As we’ve said there’s often many ways to do things in Python!\n",
    "\n",
    "`.append()` and `.join()` also exist for example – here’s a link with a lot more detail about joining together data. [Merge, Join, Concatenate and Compare]( https://pandas.pydata.org/pandas-docs/stable/user_guide/merging.html)\n"
   ]
  },
  {
   "cell_type": "markdown",
   "metadata": {},
   "source": [
    "[return to menu](#menu)"
   ]
  },
  {
   "cell_type": "markdown",
   "metadata": {},
   "source": [
    "<a id='excel_files'></a>\n",
    "<hr style=\"width:100%;height:4px;border-width:0;color:gray;background-color:#003d59; opacity:1\">  "
   ]
  },
  {
   "cell_type": "markdown",
   "metadata": {},
   "source": [
    "## End of Chapter"
   ]
  },
  {
   "cell_type": "markdown",
   "metadata": {},
   "source": [
    "In this chapter we’ve explored:\n",
    "* Exploring our Data\n",
    "* Sorting our Data\n",
    "* Selecting our Data\n",
    "* Filtering our Data\n",
    "* Creating new columns of Data\n",
    "* Merging Data\n",
    "\n",
    "\n",
    "You have completed chapter 4 of the Introduction to Python course. Please move on to chapter 5."
   ]
  },
  {
   "cell_type": "markdown",
   "metadata": {},
   "source": [
    "[return to menu](#menu)"
   ]
  }
 ],
 "metadata": {
  "kernelspec": {
   "display_name": "Python 3",
   "language": "python",
   "name": "python3"
  },
  "language_info": {
   "codemirror_mode": {
    "name": "ipython",
    "version": 3
   },
   "file_extension": ".py",
   "mimetype": "text/x-python",
   "name": "python",
   "nbconvert_exporter": "python",
   "pygments_lexer": "ipython3",
   "version": "3.6.1"
  },
  "toc": {
   "base_numbering": 1,
   "nav_menu": {},
   "number_sections": false,
   "sideBar": true,
   "skip_h1_title": false,
   "title_cell": "Table of Contents",
   "title_sidebar": "Contents",
   "toc_cell": false,
   "toc_position": {},
   "toc_section_display": true,
   "toc_window_display": false
  }
 },
 "nbformat": 4,
 "nbformat_minor": 2
}
