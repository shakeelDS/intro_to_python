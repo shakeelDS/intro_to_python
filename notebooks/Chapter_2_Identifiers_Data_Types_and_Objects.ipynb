{
 "cells": [
  {
   "cell_type": "markdown",
   "metadata": {},
   "source": [
    "<a id='menu'></a>\n",
    " <hr style=\"width:100%;height:4px;border-width:0;color:gray;background-color:#003d59; opacity:0.25\"> \n",
    "\n",
    " ![learning academy and data science campus logos](../images/la_dsc_logo.jpg)\n",
    "  <hr style=\"width:100%;height:4px;border-width:0;color:gray;background-color:#003d59; opacity:0.25\"> "
   ]
  },
  {
   "cell_type": "markdown",
   "metadata": {},
   "source": [
    "<a id='menu'></a>\n",
    "# Introduction to Python\n",
    "\n",
    "## Chapter 2 – Identifiers, Data Types, and Objects\n",
    "***\n",
    "Follow along with the code by running cells as you encounter them\n",
    "***\n",
    "\n",
    "*Chapter  Overview and Learning Objectives*:\n",
    "\n",
    "\n",
    "* [Identifiers](#identifiers)\n",
    "    - Variables\n",
    "    - Naming objects\n",
    "    - Naming conventions\n",
    "\n",
    "\n",
    "* [Data Types](#data_types)\n",
    "  - Numerics\n",
    "  - Strings\n",
    "  - Booleans\n",
    "  - Type Conversion\n",
    "\n",
    "\n",
    "* [Objects and Classes](#objects)\n",
    "  - Lists\n",
    "  - Tuples\n",
    "  - Dictionaries\n",
    "  - Indexing\n",
    "  - Accessing functions, methods and attributes\n",
    "\n",
    "\n",
    "* [Pandas Objects](#pandas_objects)\n",
    "  - Packages\n",
    "  - Importing Pandas\n",
    "  - Series\n",
    "  - Data Frame\n",
    "\n",
    "\n",
    "* [Accessing Help](#help)"
   ]
  },
  {
   "cell_type": "markdown",
   "metadata": {},
   "source": [
    "<a id='identifiers'></a>\n",
    "<hr style=\"width:100%;height:4px;border-width:0;color:gray;background-color:#003d59; opacity:1\"> "
   ]
  },
  {
   "cell_type": "markdown",
   "metadata": {},
   "source": [
    "## Identifiers"
   ]
  },
  {
   "cell_type": "markdown",
   "metadata": {},
   "source": [
    "Python is an \"object orientated programming language\".\n",
    "\n",
    "In Python everything is an \"object\". We’ll look at some of the common ones in this section, like lists, tuples and dictionaries. We’ll also look at some specialised objects – like series and data frames from the Pandas module."
   ]
  },
  {
   "cell_type": "markdown",
   "metadata": {},
   "source": [
    "<hr style=\"width:75%;height:4px;border-width:0;color:gray;background-color:#003d59; opacity:0.75\"> "
   ]
  },
  {
   "cell_type": "markdown",
   "metadata": {},
   "source": [
    "### Variables"
   ]
  },
  {
   "cell_type": "markdown",
   "metadata": {},
   "source": [
    "When we create objects in Python we assign it to a variable. \n",
    "\n",
    "Variables are words and numbers that act like labels; a reference to an object that lives in memory. \n",
    "\n",
    "Without this variable we can’t “find” the object again in memory and won’t be able to use it.\n",
    "\n",
    "In Python we assign variables using the equals sign ( `=` )\n",
    " \n",
    "Our label (or variable name) goes on the left of the equals sign.\n",
    "\n",
    "The object we want to store goes on the right of the equals sign.\n",
    "\n",
    "In Python we do not have to state the data type of variable we are storing."
   ]
  },
  {
   "cell_type": "code",
   "execution_count": null,
   "metadata": {
    "collapsed": true
   },
   "outputs": [],
   "source": [
    "x = 4 + 3"
   ]
  },
  {
   "cell_type": "markdown",
   "metadata": {},
   "source": [
    "Here we are storing an object (the sum of `4 + 3`) and giving it the label of `x`.\n",
    "\n",
    "You’ll notice that when we run the cell above it does not output the value of `x`.\n",
    "\n",
    "To see the value of `x` we can give Python the variable name, run the cell and it will output the value."
   ]
  },
  {
   "cell_type": "code",
   "execution_count": null,
   "metadata": {
    "collapsed": true
   },
   "outputs": [],
   "source": [
    "x"
   ]
  },
  {
   "cell_type": "markdown",
   "metadata": {},
   "source": [
    "Why do we have to ask Jupyter to output things? \n",
    "\n",
    "When we assign a variable Python keeps it stored within memory for later use. While we’re learning or testing our code we may want to check our outputs regularly. \n",
    "\n",
    "However, once we’re confident the code operates as expected outputting every stage isn’t necessary – in fact it’s not an efficient use of memory."
   ]
  },
  {
   "cell_type": "code",
   "execution_count": null,
   "metadata": {
    "collapsed": true
   },
   "outputs": [],
   "source": [
    "x = 4 + 3\n",
    "y = \"Hello\"\n",
    "\n",
    "x\n",
    "y"
   ]
  },
  {
   "cell_type": "markdown",
   "metadata": {},
   "source": [
    "Notice how the output for the above cell is the value of y.\n",
    "\n",
    "Jupyter prints one output per cell by default.\n",
    "\n",
    "If I want to print more I can use the `print()` function.\n"
   ]
  },
  {
   "cell_type": "code",
   "execution_count": null,
   "metadata": {
    "collapsed": true
   },
   "outputs": [],
   "source": [
    "print(x, y)"
   ]
  },
  {
   "cell_type": "markdown",
   "metadata": {},
   "source": [
    "Some users will add in additional text strings here to explain results. For example:"
   ]
  },
  {
   "cell_type": "code",
   "execution_count": null,
   "metadata": {
    "collapsed": true
   },
   "outputs": [],
   "source": [
    "print(y, \"I am\", x, \"years old\")"
   ]
  },
  {
   "cell_type": "markdown",
   "metadata": {},
   "source": [
    "You will see a lot of the solutions in this course wrapped in `print()` functions – to avoid using multiple cells.\n",
    "\n",
    "Finally – we can overwrite the values of a variable by reassigning it.\n",
    "\n",
    "`y` had the value of `\"Hello\"`\n",
    "\n",
    "This code below will now give it the value of `26`. \n",
    "\n",
    "We should be careful when we’re assigning variables as Python does not warn us if a variable already exists!"
   ]
  },
  {
   "cell_type": "code",
   "execution_count": null,
   "metadata": {
    "collapsed": true
   },
   "outputs": [],
   "source": [
    "y = 26\n",
    "y"
   ]
  },
  {
   "cell_type": "markdown",
   "metadata": {},
   "source": [
    "<hr style=\"width:75%;height:4px;border-width:0;color:gray;background-color:#003d59; opacity:0.75\"> "
   ]
  },
  {
   "cell_type": "markdown",
   "metadata": {},
   "source": [
    "### Naming Conventions"
   ]
  },
  {
   "cell_type": "markdown",
   "metadata": {},
   "source": [
    "Naming your variables can be one of the trickier parts of coding.\n",
    "\n",
    "Choosing sensible names saves time and energy later, when you try and remember what you've called something. \n",
    "\n",
    "Clever naming allows you to figure out what an object contains without having to inspect it.\n",
    "\n",
    "\n",
    "A variable name:\n",
    "\n",
    "* Must start with a letter or an underscore\n",
    "* Can’t begin with a number\n",
    "* Only contain alphanumeric characters and underscores\n",
    "* Is case sensitive (MY_VARIABLE and my_variable and My_vArIaBle are treated independently)\n",
    "* Must not have hyphens\n",
    "\n",
    "You may also have your own departmental guidance for naming variables.\n",
    "\n",
    "General guidance recommends [Python’s pep8 coding standards](https://realpython.com/python-pep8/#naming-styles) use of lowercase_with_underscores.\n",
    "\n",
    "Consistency is important – if you pick up your code after 6 months, or pass code on to your colleagues, using consistent names ensures your code works and improves the quality. \n",
    "\n",
    "> \"Always code as if the guy who ends up maintaining your code will be a violent psychopath who knows where you live. Code for readability.\" - John F Woods\n",
    "\n",
    "\n",
    "[The Data Science Campus]( https://datasciencecampus.github.io/coding-standards/python.html#style-guide) have their style guide linked online.\n",
    "\n",
    "\n",
    "Through this course we will use lower case words with an underscore between them, e.g:\n",
    "\n",
    "``` python\n",
    "music_df  # The contents should be a DataFrame\n",
    "\n",
    "cars_model # The contents should be a model\n",
    "\n",
    "names_list # The contents should be a list\n",
    "\n",
    "```"
   ]
  },
  {
   "cell_type": "markdown",
   "metadata": {},
   "source": [
    "<hr style=\"width:50%;height:4px;border-width:0;color:gray;background-color:#003d59; opacity:0.5\"> "
   ]
  },
  {
   "cell_type": "markdown",
   "metadata": {},
   "source": [
    "## Exercise\n",
    "\n",
    "Try storing the value of Pi (3.14159) under an appropriate variable name"
   ]
  },
  {
   "cell_type": "code",
   "execution_count": null,
   "metadata": {
    "collapsed": true
   },
   "outputs": [],
   "source": [
    "# Exercise\n",
    "\n"
   ]
  },
  {
   "cell_type": "code",
   "execution_count": null,
   "metadata": {
    "collapsed": true
   },
   "outputs": [],
   "source": [
    "# Solution - These cells contain answers for the exercises.\n",
    "#Run once to reveal the code.\n",
    "#Run again to reveal the output. \n",
    "\n",
    "%load ../solutions/chapter_2/assigning_variables.py\n"
   ]
  },
  {
   "cell_type": "markdown",
   "metadata": {},
   "source": [
    "<hr style=\"width:50%;height:4px;border-width:0;color:gray;background-color:#003d59; opacity:0.5\"> "
   ]
  },
  {
   "cell_type": "markdown",
   "metadata": {},
   "source": [
    "You can see what variables you have declared by using the [magic command](https://ipython.readthedocs.io/en/stable/interactive/magics.html) \n",
    "\n",
    "`%whos`.\n",
    "\n",
    "These magic commands work in Jupyter Notebooks. These rely on an iPython console; in programs like Spyder they will only work in the IPython console; and even then not all commands will perform the same action as in Jupyter Notebooks.\n",
    "\n",
    "Jupyter Notebook does not have a typical variable explorer like you may have seen in other languages. If this is important to you, Spyder does have this capability."
   ]
  },
  {
   "cell_type": "code",
   "execution_count": null,
   "metadata": {
    "collapsed": true
   },
   "outputs": [],
   "source": [
    "%whos"
   ]
  },
  {
   "cell_type": "markdown",
   "metadata": {},
   "source": [
    "You can delete variables by using the keyword `del` and then supplying the variable name."
   ]
  },
  {
   "cell_type": "code",
   "execution_count": null,
   "metadata": {
    "collapsed": true
   },
   "outputs": [],
   "source": [
    "del x "
   ]
  },
  {
   "cell_type": "markdown",
   "metadata": {},
   "source": [
    "If we run `%whos` again we'll notice `x` no longer exists"
   ]
  },
  {
   "cell_type": "code",
   "execution_count": null,
   "metadata": {
    "collapsed": true
   },
   "outputs": [],
   "source": [
    "%whos"
   ]
  },
  {
   "cell_type": "markdown",
   "metadata": {},
   "source": [
    "Note if we now try returning x we will get an error message:  \n",
    "\n",
    "``` python\n",
    "NameError: name 'x' is not defined\n",
    "\n",
    "```\n",
    "\n",
    "`x` is not defined as we deleted it.\n",
    "\n",
    "You’ll also see this error if you make a spelling mistake or capitalisation error when referring to a variable. \n",
    "\n",
    "e.g capital `Y` will give the same error, as our variable is lower case `y`.\n"
   ]
  },
  {
   "cell_type": "markdown",
   "metadata": {},
   "source": [
    "[return to menu](#menu)"
   ]
  },
  {
   "cell_type": "markdown",
   "metadata": {},
   "source": [
    "<a id='data_types'></a>\n",
    "<hr style=\"width:100%;height:4px;border-width:0;color:gray;background-color:#003d59; opacity:1\"> "
   ]
  },
  {
   "cell_type": "markdown",
   "metadata": {},
   "source": [
    "## Data Types"
   ]
  },
  {
   "cell_type": "markdown",
   "metadata": {},
   "source": [
    "<hr style=\"width:75%;height:4px;border-width:0;color:gray;background-color:#003d59; opacity:0.75\"> "
   ]
  },
  {
   "cell_type": "markdown",
   "metadata": {},
   "source": [
    "### Numerical"
   ]
  },
  {
   "cell_type": "markdown",
   "metadata": {},
   "source": [
    "We’ll deal with two main types of numeric data types in Python.\n",
    "\n",
    "**int ** (plain integers) are positive or negative (or zero) whole numbers.\n"
   ]
  },
  {
   "cell_type": "markdown",
   "metadata": {},
   "source": [
    "We can use the type() function to check the type of whatever we put within the brackets."
   ]
  },
  {
   "cell_type": "code",
   "execution_count": null,
   "metadata": {
    "collapsed": true
   },
   "outputs": [],
   "source": [
    "type(4)"
   ]
  },
  {
   "cell_type": "markdown",
   "metadata": {},
   "source": [
    "**float** (floating point numbers) are decimal numbers."
   ]
  },
  {
   "cell_type": "code",
   "execution_count": null,
   "metadata": {
    "collapsed": true
   },
   "outputs": [],
   "source": [
    "type(4.5674)"
   ]
  },
  {
   "cell_type": "markdown",
   "metadata": {},
   "source": [
    "<hr style=\"width:50%;height:4px;border-width:0;color:gray;background-color:#003d59; opacity:0.5\"> "
   ]
  },
  {
   "cell_type": "markdown",
   "metadata": {},
   "source": [
    "### Exercise\n",
    "\n",
    "Store your age (as a int)\n",
    "Store your height in meters (as a float)\n",
    "\n",
    "Use apropriate variable names.\n",
    "Use one line per variable.\n",
    "\n",
    "N.B. Your height needs to be a number, Python will give an error if you try and store a variable like 1.6m."
   ]
  },
  {
   "cell_type": "code",
   "execution_count": null,
   "metadata": {
    "collapsed": true
   },
   "outputs": [],
   "source": [
    "# Exercise\n",
    "\n"
   ]
  },
  {
   "cell_type": "code",
   "execution_count": null,
   "metadata": {
    "collapsed": true
   },
   "outputs": [],
   "source": [
    "# Solution - These cells contain answers for the exercises.\n",
    "#Run once to reveal the code.\n",
    "#Run again to reveal the output. \n",
    "\n",
    "%load ../solutions/chapter_2/data_type_numeric.py"
   ]
  },
  {
   "cell_type": "markdown",
   "metadata": {},
   "source": [
    "<hr style=\"width:75%;height:4px;border-width:0;color:gray;background-color:#003d59; opacity:0.75\"> "
   ]
  },
  {
   "cell_type": "markdown",
   "metadata": {},
   "source": [
    "### Strings"
   ]
  },
  {
   "cell_type": "markdown",
   "metadata": {
    "collapsed": true
   },
   "source": [
    "Strings are sequences of character data. The type in Python is called **str**. \n",
    "\n",
    "Strings are contained within either 'single' or \"double\" quotation marks.\n",
    "\n",
    "All characters between the opening and the closing quote are part of the string."
   ]
  },
  {
   "cell_type": "code",
   "execution_count": null,
   "metadata": {
    "collapsed": true
   },
   "outputs": [],
   "source": [
    "print(type(\"Hello\"), type(\"This is a string\"), type('This string contains 5 words!'))"
   ]
  },
  {
   "cell_type": "markdown",
   "metadata": {},
   "source": [
    "As you can see by running the cell above strings can also contain numbers and punctuation. We’ll look at this again later when we import data.\n",
    "\n",
    "The choice between single and double quotes is up to the user. \n",
    "\n",
    "We reccomend that if you’re creating strings that use apostrophes or single quote marks, use double quotes to open and close your string.\n",
    "\n",
    "The cells below will provide an error message."
   ]
  },
  {
   "cell_type": "code",
   "execution_count": null,
   "metadata": {
    "collapsed": true
   },
   "outputs": [],
   "source": [
    "'Tom's phone'  # Will cause an error"
   ]
  },
  {
   "cell_type": "code",
   "execution_count": null,
   "metadata": {
    "collapsed": true
   },
   "outputs": [],
   "source": [
    "\"Sadia said \"creating strings is easy\" to the room \" # Will also cause an error"
   ]
  },
  {
   "cell_type": "markdown",
   "metadata": {},
   "source": [
    "But this cell, using double quotes to start and end our string with an apostrophe, and using single quotes for our string containing speach works well."
   ]
  },
  {
   "cell_type": "code",
   "execution_count": null,
   "metadata": {
    "collapsed": true
   },
   "outputs": [],
   "source": [
    "\"Tom's phone\" , 'Sadia said \"creating strings is easy\" to the room'"
   ]
  },
  {
   "cell_type": "markdown",
   "metadata": {},
   "source": [
    "Notice how the whole strings are coloured red in the second example.\n",
    "\n",
    "This is something known as syntax highlighting and can be very useful to ensure you’ve closed your strings.\n",
    "\n",
    " <hr style=\"width:50%;height:4px;border-width:0;color:gray;background-color:#003d59; opacity:0.5\"> \n",
    "### Exercise\n",
    "\n",
    "\n",
    "Store the value of your name under an appropriate variable\n"
   ]
  },
  {
   "cell_type": "code",
   "execution_count": null,
   "metadata": {
    "collapsed": true
   },
   "outputs": [],
   "source": [
    "# Exercise\n",
    "\n"
   ]
  },
  {
   "cell_type": "code",
   "execution_count": null,
   "metadata": {
    "collapsed": true
   },
   "outputs": [],
   "source": [
    "# Solution - These cells contain answers for the exercises.\n",
    "#Run once to reveal the code.\n",
    "#Run again to reveal the output. \n",
    "\n",
    "%load ../solutions/chapter_2/data_type_string.py\n"
   ]
  },
  {
   "cell_type": "markdown",
   "metadata": {},
   "source": [
    "<hr style=\"width:75%;height:4px;border-width:0;color:gray;background-color:#003d59; opacity:0.75\"> "
   ]
  },
  {
   "cell_type": "markdown",
   "metadata": {},
   "source": [
    "### Boolean"
   ]
  },
  {
   "cell_type": "markdown",
   "metadata": {},
   "source": [
    "Boolean values are sometimes called logical values in other languages. \n",
    "\n",
    "There are two values `True` and `False`. \n",
    "\n",
    "In Python they must be spelt out fully and have a capital first letter. They are **not** text values; so do **not** require quote marks. They are a reserved word, and so are displayed in bold green text.\n",
    "\n",
    "As we’ll see later Python often evaluates expressions in a Boolean context; something is either “true” or “false”.\n",
    "\n",
    "`True` has the value of 1 and `False` has the value of 0.\n"
   ]
  },
  {
   "cell_type": "code",
   "execution_count": null,
   "metadata": {
    "collapsed": true
   },
   "outputs": [],
   "source": [
    "print(type(True), type(False))"
   ]
  },
  {
   "cell_type": "markdown",
   "metadata": {},
   "source": [
    "<hr style=\"width:50%;height:4px;border-width:0;color:gray;background-color:#003d59; opacity:0.5\"> "
   ]
  },
  {
   "cell_type": "markdown",
   "metadata": {},
   "source": [
    "### Exercise\n",
    "\n",
    "Test out the mathematics behind the Boolean values by adding together True and False.                                                \n"
   ]
  },
  {
   "cell_type": "code",
   "execution_count": null,
   "metadata": {
    "collapsed": true
   },
   "outputs": [],
   "source": [
    "# Exercise\n",
    "\n"
   ]
  },
  {
   "cell_type": "code",
   "execution_count": null,
   "metadata": {
    "collapsed": true
   },
   "outputs": [],
   "source": [
    "# Solution - These cells contain answers for the exercises.\n",
    "#Run once to reveal the code.\n",
    "#Run again to reveal the output. \n",
    "\n",
    "%load ../solutions/chapter_2/data_type_bool.py\n"
   ]
  },
  {
   "cell_type": "markdown",
   "metadata": {},
   "source": [
    "<hr style=\"width:75%;height:4px;border-width:0;color:gray;background-color:#003d59; opacity:0.75\"> "
   ]
  },
  {
   "cell_type": "markdown",
   "metadata": {},
   "source": [
    "### Type Conversion"
   ]
  },
  {
   "cell_type": "markdown",
   "metadata": {},
   "source": [
    "You can also use inbuilt functions to convert type within Python\n",
    "\n",
    "* `int()` converts things to an integer,\n",
    "* `float()` converts things to a float,\n",
    "* `str()` converts things to a string.\n",
    "\n",
    "We’ll look at some other ways to do convert types later in the course.\n"
   ]
  },
  {
   "cell_type": "code",
   "execution_count": null,
   "metadata": {
    "collapsed": true
   },
   "outputs": [],
   "source": [
    "print(float(3), int(5.7), str(3))"
   ]
  },
  {
   "cell_type": "markdown",
   "metadata": {},
   "source": [
    "[return to menu](#menu)"
   ]
  },
  {
   "cell_type": "markdown",
   "metadata": {},
   "source": [
    "<a id='objects'></a>\n",
    "<hr style=\"width:100%;height:4px;border-width:0;color:gray;background-color:#003d59; opacity:1\"> "
   ]
  },
  {
   "cell_type": "markdown",
   "metadata": {},
   "source": [
    "## Objects and Classes"
   ]
  },
  {
   "cell_type": "markdown",
   "metadata": {},
   "source": [
    "* A class is a blueprint of similar objects.\n",
    "* Objects are instances of a class.\n",
    "* Classes contain attributes  and methods that belong to objects.\n",
    "* Methods dictate what objects can do - its behaviour.\n",
    "* attributes  are information owned by objects.\n",
    "* In python everything is an object!\n",
    "\n",
    "For example let’s make a pretend class called “Dog”.\n",
    "\n",
    "Our dog class has some methods – behaviours that dictate what they can do - e.g\n",
    "\n",
    "* `dog.eat()`\n",
    "* `dog.sleep()`\n",
    "* `dog.run()`\n",
    "* `dog.sit()`\n",
    "\n",
    "We also have attributes  – e.g\n",
    "\n",
    "* `dog.breed`\n",
    "* `dog.size`\n",
    "* `dog.age`\n",
    "\n",
    "We can then create objects of the “Dog” class. Let’s create a Chow Chow object, and we can then apply our methods and attributes  to it.\n",
    "\n",
    "\n",
    "<img src=\"../images/chowchow.jpg\" alt=\"Drawing\" style=\"width: 200px;\"/>\n",
    "\n",
    "E.G:\n",
    "\n",
    "**methods (actions)**\n",
    "* `chowchow.eat()`\n",
    "* `chowchow.run()`\n",
    "\n",
    "**attributes  (descriptors)**\n",
    "* chowchow.breed  returns `“Chow Chow”`\n",
    "* chowchow.size returns `“medium”`\n",
    "* chowchow.color returns `“brown”`\n",
    "\n",
    "We can also create an object called “jack_russel” from our “dog” class.\n",
    "\n",
    "We can still perform those methods, `jack_russel.eat()` and `jack_russel.run()` but the outputs of our attributes may be a little different: `jack_russel.size` will return us `small` for example.\n",
    "\n",
    "Attributes and methods pertain to the class of the object; for example a class called “snake” and an object called “corn_snake” wouldn’t need to have the method `.run()` as that’s not something snakes do, `.slither()` would be a better method.\n"
   ]
  },
  {
   "cell_type": "markdown",
   "metadata": {},
   "source": [
    "In this next section we’re going to look at some common objects from core python – Lists, Tuples and Dictionaries. "
   ]
  },
  {
   "cell_type": "markdown",
   "metadata": {},
   "source": [
    "<hr style=\"width:75%;height:4px;border-width:0;color:gray;background-color:#003d59; opacity:0.75\"> "
   ]
  },
  {
   "cell_type": "markdown",
   "metadata": {},
   "source": [
    "### Lists"
   ]
  },
  {
   "cell_type": "markdown",
   "metadata": {},
   "source": [
    "A list is a type of container; it holds a collection of items. \n",
    "\n",
    "The items in a list have an order (an index) \n",
    "\n",
    "Lists are mutable, we can change items in them and add or delete items,\n",
    "\n",
    "We create lists using square brackets `[ ]` and separate each item with a comma.\n",
    "\n",
    "Lists\n",
    "* Are the most versatile of the built-in data structures\n",
    "* Can hold any sequence of objects\n",
    "* Can hold mixed objects (like strings, integers and Booleans together)\n",
    "* Are mutable (can be changed)\n",
    "\n",
    "Lists can also do more advanced things than we talk about in this course. You may come across those as you progress with your code."
   ]
  },
  {
   "cell_type": "code",
   "execution_count": null,
   "metadata": {
    "collapsed": true
   },
   "outputs": [],
   "source": [
    "# Create my list\n",
    "\n",
    "the_pythons = [\"Chapman\", \"Idle\", \"Gillam\", \"Jones\", \"Cleese\", \"Palin\"]\n",
    "\n",
    "# Display my list\n",
    "\n",
    "the_pythons"
   ]
  },
  {
   "cell_type": "markdown",
   "metadata": {},
   "source": [
    "Here we have created a list with the variable name `the_pythons`.\n",
    "\n",
    "We assign values to this using the `=` sign\n",
    "\n",
    "These values are the strings `\"Chapman\" , \"Idle\", \"Gilliam\", \"Jones\", \"Cleese\"` and `\"Palin\"`\n",
    "\n",
    "Because we’re storing more than one value we need to use a list.\n",
    "\n",
    "To create our list we pleace square brackets `[ ]` around the values.\n",
    "\n",
    "Each value is separated by a comma.\n",
    "\n",
    "We print out the contents of the list by giving Python the variable name - `the_pythons`."
   ]
  },
  {
   "cell_type": "markdown",
   "metadata": {},
   "source": [
    "<hr style=\"width:50%;height:4px;border-width:0;color:gray;background-color:#003d59; opacity:0.5\"> "
   ]
  },
  {
   "cell_type": "markdown",
   "metadata": {},
   "source": [
    "### Exercise\n",
    "\n",
    "Store at least three hobbies within a list. Choose an appropriate variable name."
   ]
  },
  {
   "cell_type": "code",
   "execution_count": null,
   "metadata": {
    "collapsed": true
   },
   "outputs": [],
   "source": [
    "# Exercise\n",
    "\n"
   ]
  },
  {
   "cell_type": "code",
   "execution_count": null,
   "metadata": {
    "collapsed": true
   },
   "outputs": [],
   "source": [
    "# Solution - These cells contain answers for the exercises.\n",
    "#Run once to reveal the code.\n",
    "#Run again to reveal the output. \n",
    "\n",
    "%load ../solutions/chapter_2/object_type_list.py\n"
   ]
  },
  {
   "cell_type": "markdown",
   "metadata": {},
   "source": [
    "We can also create lists using the `list()` function."
   ]
  },
  {
   "cell_type": "markdown",
   "metadata": {},
   "source": [
    "<hr style=\"width:75%;height:4px;border-width:0;color:gray;background-color:#003d59; opacity:0.75\"> "
   ]
  },
  {
   "cell_type": "markdown",
   "metadata": {},
   "source": [
    "### Tuples"
   ]
  },
  {
   "cell_type": "markdown",
   "metadata": {},
   "source": [
    "Tuples are similar to lists; the two main differences are:\n",
    "\n",
    "* Tuples are immutable (unchangeable)\n",
    "* Tuples are created with round brackets `( )`\n",
    "\n",
    "We’ll often see lists and tuples as inputs or outputs for the programming we do."
   ]
  },
  {
   "cell_type": "code",
   "execution_count": null,
   "metadata": {
    "collapsed": true
   },
   "outputs": [],
   "source": [
    "# Create my tuple\n",
    "\n",
    "days_of_the_week = (\"Monday\", \"Tuesday\", \"Wednesday\", \"Thursday\", \"Friday\", \"Saturday\", \"Sunday\")\n",
    "\n",
    "#print out my tuple\n",
    "\n",
    "days_of_the_week"
   ]
  },
  {
   "cell_type": "markdown",
   "metadata": {},
   "source": [
    "<hr style=\"width:50%;height:4px;border-width:0;color:gray;background-color:#003d59; opacity:0.5\"> "
   ]
  },
  {
   "cell_type": "markdown",
   "metadata": {},
   "source": [
    "### Exercise\n",
    "Store the names of at least three pets within a tuple. Choose an appropriate variable name."
   ]
  },
  {
   "cell_type": "code",
   "execution_count": null,
   "metadata": {
    "collapsed": true
   },
   "outputs": [],
   "source": [
    "# Exercise\n",
    "\n"
   ]
  },
  {
   "cell_type": "code",
   "execution_count": null,
   "metadata": {
    "collapsed": true
   },
   "outputs": [],
   "source": [
    "#Solution - These cells contain answers for the exercises.\n",
    "#Run once to reveal the code.\n",
    "#Run again to reveal the output.\n",
    "\n",
    "%load ../solutions/chapter_2/object_type_tuple.py\n"
   ]
  },
  {
   "cell_type": "markdown",
   "metadata": {},
   "source": [
    "We can also create tuples using the `tuple()` function. "
   ]
  },
  {
   "cell_type": "markdown",
   "metadata": {},
   "source": [
    "<hr style=\"width:50%;height:4px;border-width:0;color:gray;background-color:#003d59; opacity:0.5\"> "
   ]
  },
  {
   "cell_type": "markdown",
   "metadata": {},
   "source": [
    "When we say something is mutable or immutable we mean changing the contents programmatically. There are methods we’ll see later where we can add or remove a value from a list; like `.append()`, `.extend()` or `.pop()`\n",
    "\n",
    "We can’t do that to tuples; the only thing we can do is write over them in memory by assigning a new tuple to the same variable. \n",
    "\n",
    "That’s not changing the values in the tuple; but overwriting it – a technical but important difference.\n"
   ]
  },
  {
   "cell_type": "markdown",
   "metadata": {},
   "source": [
    "<hr style=\"width:75%;height:4px;border-width:0;color:gray;background-color:#003d59; opacity:0.75\"> "
   ]
  },
  {
   "cell_type": "markdown",
   "metadata": {},
   "source": [
    "### Dictionaries"
   ]
  },
  {
   "cell_type": "markdown",
   "metadata": {},
   "source": [
    "The third object type we’ll look at is Dictionaries.\n",
    "\n",
    "Dictionaries also store a collection of objects.\n",
    "\n",
    "Whereas lists and tuples have an order (an index); Dictionaries are unordered.\n",
    "\n",
    "\n",
    "Dictionaries are also\n",
    "* Mutable (can be altered)\n",
    "* Can contain lists and other (nested) dictionaries.\n",
    "\n",
    "Dictionaries are created using curly braces `{ }`\n",
    "\n",
    "Dictionaries contain key value pairs.\n",
    "\n",
    "**Keys** are usually integers or strings (an immutable data type)\n",
    "\n",
    "** Values** can be any type of object\n",
    "\n",
    "Keys and values are separated by a colon ( `:` )\n"
   ]
  },
  {
   "cell_type": "code",
   "execution_count": null,
   "metadata": {
    "collapsed": true
   },
   "outputs": [],
   "source": [
    "# Create my dictionary\n",
    "\n",
    "brian_information = {\"name\": \"Brian Cohen\",\n",
    "                     \"occupation\": [\"messiah \", \"very naughty boy\"],  # more than one value gets stored in a list\n",
    "                     \"enemy\": \"Pontius Pilate\",\n",
    "                     \"outlook\": \"Look on the bright side of life\"}\n",
    "\n",
    "# Print the dictionary\n",
    "\n",
    "brian_information"
   ]
  },
  {
   "cell_type": "markdown",
   "metadata": {},
   "source": [
    "In this example we have the keys `name`, `occupation`, `enemy` and `outlook` - which all have associated values.\n",
    "\n",
    "Most have *one* associated value – like `Brian Cohen` for the key `name`.\n",
    "\n",
    "The key `occupation` has one associated value, a **list**. But this list contains multiple elements within itself. This allows us to be flexible with our values.\n",
    "\n",
    "Note the dictionary prints out it’s values in alphabetical order; not the order we supplied them in. \n",
    "Different versions of Python may print them out in a different order.\n"
   ]
  },
  {
   "cell_type": "markdown",
   "metadata": {},
   "source": [
    "<hr style=\"width:50%;height:4px;border-width:0;color:gray;background-color:#003d59; opacity:0.5\"> "
   ]
  },
  {
   "cell_type": "markdown",
   "metadata": {},
   "source": [
    "## Exercise:\n",
    "Make a dictionary;\n",
    "\n",
    "* Use cities as keys\n",
    "* Use sports team names as values.\n",
    "* Make one value a list.\n",
    "* Choose an appropriate variable name.\n",
    "\n",
    "E.g:\n",
    "\n",
    "* Newport has Newport County\n",
    "* Manchester has Manchester City and Manchester United\n",
    "* Fareham has Fareham Town"
   ]
  },
  {
   "cell_type": "code",
   "execution_count": null,
   "metadata": {
    "collapsed": true
   },
   "outputs": [],
   "source": [
    "# Exercise\n",
    "\n"
   ]
  },
  {
   "cell_type": "code",
   "execution_count": null,
   "metadata": {
    "collapsed": true
   },
   "outputs": [],
   "source": [
    "# Solution - These cells contain answers for the exercises.\n",
    "#Run once to reveal the code.\n",
    "#Run again to reveal the output. \n",
    "\n",
    "%load ../solutions/chapter_2/object_type_dictionary.py\n"
   ]
  },
  {
   "cell_type": "markdown",
   "metadata": {},
   "source": [
    "We can also create dictionaries using the `dict()` function."
   ]
  },
  {
   "cell_type": "markdown",
   "metadata": {},
   "source": [
    "<hr style=\"width:75%;height:4px;border-width:0;color:gray;background-color:#003d59; opacity:0.75\"> "
   ]
  },
  {
   "cell_type": "markdown",
   "metadata": {},
   "source": [
    "### Indexing"
   ]
  },
  {
   "cell_type": "markdown",
   "metadata": {},
   "source": [
    "We can select items from our lists, tuples and dictionaries. To do so we use square brackets [ ] .\n",
    "\n",
    "Let’s look at the list `the_pythons` we defined earlier\n",
    "\n",
    "![Indexing_example](../images/indexing_1.jpg)\n",
    "\n",
    "We can select items from our lists, tuples and dictionaries. To do so we use square brackets [ ] .\n",
    "\n",
    "Let’s look at the list `the_pythons` we defined earlier\n",
    "\n",
    "Each item within our list (or tuple) has an index. This relates to it’s position in the list.\n",
    "\n",
    "Python starts indexing at 0 – which may be different to some other languages you’ve used. (Think of it as starting on the ground floor of a building, then going up to the first floor).\n",
    "\n",
    "In order to return the element in the list we can simply give the object name, then the index of the item we want to return within square brackets.\n",
    "\n",
    "The code below will return the value `Jones`\n"
   ]
  },
  {
   "cell_type": "code",
   "execution_count": null,
   "metadata": {
    "collapsed": true
   },
   "outputs": [],
   "source": [
    "the_pythons[3]"
   ]
  },
  {
   "cell_type": "markdown",
   "metadata": {},
   "source": [
    "We can also use what’s known as negative indexing.\n",
    "\n",
    "![Indexing_example](../images/negative_indexing.jpg)\n",
    "\n",
    "The code in the next cell will return the same values. This can be useful if you want to return the last element; without knowing how many elements there are in your object.\n"
   ]
  },
  {
   "cell_type": "code",
   "execution_count": null,
   "metadata": {
    "collapsed": true,
    "scrolled": true
   },
   "outputs": [],
   "source": [
    "print(the_pythons[0], the_pythons[-6])"
   ]
  },
  {
   "cell_type": "markdown",
   "metadata": {},
   "source": [
    "For a list, we can use also use this indexing to overwrite values in a list. As tuples are immutable, and cannot be changed once created, this would not work on the `days_of_the_week` tuple."
   ]
  },
  {
   "cell_type": "code",
   "execution_count": null,
   "metadata": {
    "collapsed": true
   },
   "outputs": [],
   "source": [
    "the_pythons[4] = \"Cheese\" # Select the item at index 4 and overwrite it with \"Cheese\"\n",
    "\n",
    "# Return our modified list\n",
    "the_pythons"
   ]
  },
  {
   "cell_type": "markdown",
   "metadata": {},
   "source": [
    "<hr style=\"width:50%;height:4px;border-width:0;color:gray;background-color:#003d59; opacity:0.5\"> "
   ]
  },
  {
   "cell_type": "markdown",
   "metadata": {},
   "source": [
    "### Exercise\n",
    "\n",
    "The code below gives you a new list – of different types of parrot. They’re just resting; and pining for the Fjords.\n",
    "\n",
    "Use indexing to return the element ` Norwegian Blue` from the list"
   ]
  },
  {
   "cell_type": "code",
   "execution_count": null,
   "metadata": {
    "collapsed": true
   },
   "outputs": [],
   "source": [
    "# Exercise\n",
    "\n",
    "parrots = [\"Cockatoo\" , \"Macaw\", \"Parakeet\", \"Lorikeet\", \"Norwegian Blue\", \"Conure\"]\n",
    "\n",
    "# Use indexing to return the element Norwegian Blue\n",
    "\n",
    "\n"
   ]
  },
  {
   "cell_type": "code",
   "execution_count": null,
   "metadata": {
    "collapsed": true
   },
   "outputs": [],
   "source": [
    "# Solution - These cells contain answers for the exercises.\n",
    "#Run once to reveal the code.\n",
    "#Run again to reveal the output. \n",
    "\n",
    "%load ../solutions/chapter_2/indexing_1.py\n"
   ]
  },
  {
   "cell_type": "markdown",
   "metadata": {},
   "source": [
    "<hr style=\"width:50%;height:4px;border-width:0;color:gray;background-color:#003d59; opacity:0.5\"> "
   ]
  },
  {
   "cell_type": "markdown",
   "metadata": {},
   "source": [
    "### Sequential items\n",
    "\n",
    "If we want to select more than one sequential item we can use a colon ( `:` ) between the first index position (inclusive) and the last index position (exclusive).\n",
    "\n",
    "It is important to remember that the last index is **exclusive** in this case, it will not be included.\n",
    "\n",
    "As a reminder our `the_pythons` list looks like this\n",
    "\n",
    "![Indexing_example](../images/indexing_1.jpg)\n",
    "\n",
    "If I wanted to select the values `Idle, Gillam, Jones` the following code:"
   ]
  },
  {
   "cell_type": "code",
   "execution_count": null,
   "metadata": {
    "collapsed": true
   },
   "outputs": [],
   "source": [
    "the_pythons[1:3]"
   ]
  },
  {
   "cell_type": "markdown",
   "metadata": {},
   "source": [
    "would not give the output we want. Instead I need to provide"
   ]
  },
  {
   "cell_type": "code",
   "execution_count": null,
   "metadata": {
    "collapsed": true
   },
   "outputs": [],
   "source": [
    "the_pythons[1:4]"
   ]
  },
  {
   "cell_type": "markdown",
   "metadata": {},
   "source": [
    "If I want to select from the beginning or to the end of the list I can leave the position before or after the colon blank respectively.\n",
    "\n",
    "This first code selects from the start of the list to `Gillam` - remember the last number is exclusive.\n",
    "\n",
    "This code selects from `Idle` at index 1 to the end of the list."
   ]
  },
  {
   "cell_type": "code",
   "execution_count": null,
   "metadata": {
    "collapsed": true
   },
   "outputs": [],
   "source": [
    "print(the_pythons[:3], the_pythons[1:])"
   ]
  },
  {
   "cell_type": "markdown",
   "metadata": {},
   "source": [
    "<hr style=\"width:50%;height:4px;border-width:0;color:gray;background-color:#003d59; opacity:0.5\"> "
   ]
  },
  {
   "cell_type": "markdown",
   "metadata": {},
   "source": [
    "### Exercise\n",
    "\n",
    "From the `parrots` list use indexing to return the elements\n",
    "\n",
    "`Macaw, Parakeet, Lorikeet, Norwegian Blue`\n"
   ]
  },
  {
   "cell_type": "code",
   "execution_count": null,
   "metadata": {
    "collapsed": true
   },
   "outputs": [],
   "source": [
    "# Exercise\n",
    "\n"
   ]
  },
  {
   "cell_type": "code",
   "execution_count": null,
   "metadata": {
    "collapsed": true
   },
   "outputs": [],
   "source": [
    "# Solution - These cells contain answers for the exercises.\n",
    "#Run once to reveal the code.\n",
    "#Run again to reveal the output. \n",
    "\n",
    "%load ../solutions/chapter_2/indexing_2.py\n"
   ]
  },
  {
   "cell_type": "markdown",
   "metadata": {},
   "source": [
    "<hr style=\"width:50%;height:4px;border-width:0;color:gray;background-color:#003d59; opacity:0.5\"> "
   ]
  },
  {
   "cell_type": "markdown",
   "metadata": {},
   "source": [
    "These methods also work for tuples.\n",
    "\n",
    "Using the `days_of_the_week` tuple we declared earlier, below I return, Wednesday, the week days and the weekend days."
   ]
  },
  {
   "cell_type": "code",
   "execution_count": null,
   "metadata": {
    "collapsed": true
   },
   "outputs": [],
   "source": [
    "print(\"The element at index 2 is\", days_of_the_week[2])\n",
    "print(\"The weekdays are:\", days_of_the_week[:5])\n",
    "print(\"The weekend days are:\", days_of_the_week[-2: ])"
   ]
  },
  {
   "cell_type": "markdown",
   "metadata": {},
   "source": [
    "### Non Sequential Items\n",
    "\n",
    "There's no direct inbuilt way of accessing non sequential items. In other languages like R this is simple to do; but not so much in python. \n",
    "\n",
    "We can use a function called `itemgetter` to do this This takes the indexes we want to retun - 2 and 5 and then the list.\n",
    "\n",
    "We also have to import the function from the package - again this will be explained later.\n",
    "\n",
    "You may not understand this code currently -it is shown as it's a common question from learners and has been added for completeness."
   ]
  },
  {
   "cell_type": "code",
   "execution_count": null,
   "metadata": {
    "collapsed": true
   },
   "outputs": [],
   "source": [
    "from operator import itemgetter\n",
    "itemgetter(2, 5)(the_pythons)"
   ]
  },
  {
   "cell_type": "markdown",
   "metadata": {},
   "source": [
    "<hr style=\"width:75%;height:4px;border-width:0;color:gray;background-color:#003d59; opacity:0.75\"> "
   ]
  },
  {
   "cell_type": "markdown",
   "metadata": {},
   "source": [
    "## Indexing a Dictionary\n",
    "\n",
    "Indexing a dictionary is slightly different from indexing a list.\n",
    "\n",
    "As dictionaries are unordered data – they do not have a numerical index, like our lists and tuples.\n",
    "\n",
    "We use our square brackets; and instead give the Key for the value we wish to return.\n"
   ]
  },
  {
   "cell_type": "code",
   "execution_count": null,
   "metadata": {
    "collapsed": true
   },
   "outputs": [],
   "source": [
    "brian_information[\"name\"]"
   ]
  },
  {
   "cell_type": "markdown",
   "metadata": {},
   "source": [
    "<hr style=\"width:75%;height:4px;border-width:0;color:gray;background-color:#003d59; opacity:0.75\"> "
   ]
  },
  {
   "cell_type": "markdown",
   "metadata": {},
   "source": [
    "### Accessing Functions, Methods and Attributes"
   ]
  },
  {
   "cell_type": "markdown",
   "metadata": {},
   "source": [
    "Unlike other programming languages we can perform actions, or get information from Python in a variety of ways\n",
    "* Functions\n",
    "* Methods\n",
    "* Attributes\n"
   ]
  },
  {
   "cell_type": "markdown",
   "metadata": {},
   "source": [
    "** Functions **\n",
    "\n",
    "Functions are pieces of code that are called by name. They are a set of statements that take inputs, do something to it, and produce an output. The concept is that we can perform a commonly done or repeated task by just calling the function.\n",
    "\n",
    "\n",
    "We’ll look at how we can define our own functions at the end of the chapter 7.\n",
    "\n",
    "For now let’s have a look at some of the [inbuilt functions]( https://docs.python.org/3.3/library/functions.html) in Python.\n",
    "\n",
    "We’ve already seen \n",
    "* `type()`  - tells us the kind of object we put within the brackets. \n",
    "* `int()`, `float()`, `str()` - for type conversion\n",
    "\n",
    "<hr style=\"width:50%;height:4px;border-width:0;color:gray;background-color:#003d59; opacity:0.5\"> \n",
    "\n",
    "### Exercise\n",
    "Try running `len()` on the list `the_pythons`. \n",
    "\n",
    "Can you work out what the output is? \n",
    "\n",
    "Try running it on another list."
   ]
  },
  {
   "cell_type": "code",
   "execution_count": null,
   "metadata": {
    "collapsed": true
   },
   "outputs": [],
   "source": [
    "# Exercise\n",
    "\n"
   ]
  },
  {
   "cell_type": "code",
   "execution_count": null,
   "metadata": {
    "collapsed": true
   },
   "outputs": [],
   "source": [
    "# Solution - These cells contain answers for the exercises.\n",
    "#Run once to reveal the code.\n",
    "#Run again to reveal the output. \n",
    "\n",
    "%load ../solutions/chapter_2/functions_1.py\n"
   ]
  },
  {
   "cell_type": "markdown",
   "metadata": {},
   "source": [
    "<hr style=\"width:50%;height:4px;border-width:0;color:gray;background-color:#003d59; opacity:0.5\"> "
   ]
  },
  {
   "cell_type": "markdown",
   "metadata": {},
   "source": [
    "** Methods and attributes **\n",
    "\n",
    "Methods and attributes relate to the objects that we perform them on.\n",
    "\n",
    "Each object has it’s own methods and attributes that relate to that object.\n",
    "\n",
    "For example, we can use the method `.sort()` on our `parrots` list we created earlier.\n",
    "\n",
    "* **Firstly ** we tell python the object we want to work on – here by giving the variable/identifier `parrots`.\n",
    "* ** Secondly ** we use the full stop or “dot notation”\n",
    "* ** Thirdly** we call our method – here ` sort` and finish it with round brackets\n"
   ]
  },
  {
   "cell_type": "code",
   "execution_count": null,
   "metadata": {
    "collapsed": true
   },
   "outputs": [],
   "source": [
    "# A reminder of how we created the original list\n",
    "parrots = [\"Cockatoo\" , \"Macaw\", \"Parakeet\", \"Lorikeet\", \"Norwegian Blue\", \"Conure\"]\n",
    "\n",
    "# Use the sort method to sort the list\n",
    "\n",
    "parrots.sort()\n",
    "\n",
    "# Print out the parrots list to see what's happened.\n",
    "parrots"
   ]
  },
  {
   "cell_type": "markdown",
   "metadata": {},
   "source": [
    "Here we’re using a method that does not have any mandatory parameters – we’ll look at how you can find out what parameters a method or function has in the next chapter.\n",
    "\n",
    "As it has no mandatory parameters we complete the method by opening and closing round brackets.\n",
    "\n",
    "Let’s try using `.extend()` on the `parrots` list we created earlier.\n",
    "`.extend()` adds items to our list.\n",
    "\n",
    "* **1st** We create a new list, with the objects we want to add.\n",
    "* ** 2nd ** We tell python the object we want to work on – here by giving the variable/identifier parrots.\n",
    "* ** 3rd ** We use the full stop or “dot notation”\n",
    "* ** 4th** We call our method – here ` extend` and open our round brackets\n",
    "* ** 5th** We need to tell the method what to add - the list we created earlier. We put this in the round brackets.\n"
   ]
  },
  {
   "cell_type": "code",
   "execution_count": null,
   "metadata": {
    "collapsed": true
   },
   "outputs": [],
   "source": [
    "# Create a new list with more birds\n",
    "\n",
    "more_parrots = [\"Lovebird\", \"Kea\", \"Rosella\"]\n",
    "\n",
    "# Use the extend method to add the new list more_parrots to our parrots list\n",
    "\n",
    "parrots.extend(more_parrots)\n",
    "\n",
    "# Print out the parrots list to see what's happened.\n",
    "parrots"
   ]
  },
  {
   "cell_type": "markdown",
   "metadata": {},
   "source": [
    "<hr style=\"width:50%;height:4px;border-width:0;color:gray;background-color:#003d59; opacity:0.5\"> "
   ]
  },
  {
   "cell_type": "markdown",
   "metadata": {},
   "source": [
    "### Exercise\n",
    "Use the `.pop()` method on the `parrots` list to remove the value `Norwegian Blue`\n",
    "\n",
    "`.pop()` removes an item from a list.\n",
    "\n",
    "This takes one parameter; the argument you’ll need is the index position of the thing you wish to remove.\n"
   ]
  },
  {
   "cell_type": "code",
   "execution_count": null,
   "metadata": {
    "collapsed": true
   },
   "outputs": [],
   "source": [
    "# Run this cell to print out parrots again - it may help you find what index you need to .pop!\n",
    "\n",
    "parrots"
   ]
  },
  {
   "cell_type": "code",
   "execution_count": null,
   "metadata": {
    "collapsed": true
   },
   "outputs": [],
   "source": [
    "# Exercise\n",
    "\n"
   ]
  },
  {
   "cell_type": "code",
   "execution_count": null,
   "metadata": {
    "collapsed": true
   },
   "outputs": [],
   "source": [
    "# Solution - These cells contain answers for the exercises.\n",
    "# Run once to reveal the code.\n",
    "# Run again to reveal the output. \n",
    "\n",
    "%load ../solutions/chapter_2/methods_1.py"
   ]
  },
  {
   "cell_type": "markdown",
   "metadata": {},
   "source": [
    "<hr style=\"width:50%;height:4px;border-width:0;color:gray;background-color:#003d59; opacity:0.5\"> "
   ]
  },
  {
   "cell_type": "markdown",
   "metadata": {},
   "source": [
    "** Attributes **\n",
    "\n",
    "Sometimes we’ll want to find something out about an object. If something is descriptive about an object, we’ll often use attributes to return information.\n",
    "\n",
    "Attributes are called like methods, using dot notation. However, they do *not* have round brackets.\n",
    "e.g.\n",
    "\n",
    "`my_dataframe.shape`\n",
    "\n",
    "We’ll look at attributes more when we look at data frames in chapter four.\n",
    "\n",
    "We’ll also get a lot more practice using functions, methods and attributes throughout this course."
   ]
  },
  {
   "cell_type": "markdown",
   "metadata": {},
   "source": [
    "<hr style=\"width:75%;height:4px;border-width:0;color:gray;background-color:#003d59; opacity:0.75\"> "
   ]
  },
  {
   "cell_type": "markdown",
   "metadata": {},
   "source": [
    "## What methods and attributes can I use?\n",
    "\n",
    "To find the methods and attributes for an object you can use\n"
   ]
  },
  {
   "cell_type": "code",
   "execution_count": null,
   "metadata": {
    "collapsed": true
   },
   "outputs": [],
   "source": [
    "dir(the_pythons)"
   ]
  },
  {
   "cell_type": "markdown",
   "metadata": {},
   "source": [
    "This function returns the attributes and methods of a specified object, here a list.\n",
    "\n",
    "It doesn’t tell you if something is an attribute or a property, and it doesn’t give you any values to pass to the methods; but can be useful to see if something you want to do has a function or method that looks about right. When combined with the help documentation we’ll see later you can explore these methods and attributes in more detail."
   ]
  },
  {
   "cell_type": "markdown",
   "metadata": {},
   "source": [
    "[return to menu](#menu)"
   ]
  },
  {
   "cell_type": "markdown",
   "metadata": {},
   "source": [
    "<a id='pandas_objects'></a>\n",
    "<hr style=\"width:100%;height:4px;border-width:0;color:gray;background-color:#003d59; opacity:1\"> "
   ]
  },
  {
   "cell_type": "markdown",
   "metadata": {},
   "source": [
    "## Pandas Objects"
   ]
  },
  {
   "cell_type": "markdown",
   "metadata": {},
   "source": [
    "`pandas` is a Python library originally written by Wes McKinney, and is the most preferred, most used tool when data wrangling tabular data within Python.\n",
    "\n",
    "We will use the `pandas` library a lot throughout this course.\n",
    "\n",
    "`pandas` is a Python library, which are often refered to as \"packages\"."
   ]
  },
  {
   "cell_type": "markdown",
   "metadata": {},
   "source": [
    "<hr style=\"width:75%;height:4px;border-width:0;color:gray;background-color:#003d59; opacity:0.75\"> "
   ]
  },
  {
   "cell_type": "markdown",
   "metadata": {},
   "source": [
    "### Packages"
   ]
  },
  {
   "cell_type": "markdown",
   "metadata": {},
   "source": [
    "Packages are a collection of functions, objects and compiled code which are stored in a “library” of code within Python.\n",
    "\n",
    "Our Anaconda installation gives us access to quite a few packages \"out of the box\". \n",
    "\n",
    "ONS users may have Anaconda 4.4.0 - see a full list of [default anaconda 4.4.0 packages]( https://docs.anaconda.com/anaconda/packages/old-pkg-lists/4.4.0/py35/)\n",
    "\n",
    "Or may have Anaconda 2020.07 - see a full list of [default anaconda 2020.07 packages](https://docs.anaconda.com/anaconda/packages/old-pkg-lists/2020.07/py3.6_win-32/)\n",
    "\n",
    "You can find the default packages for other versions [at this link](https://docs.anaconda.com/anaconda/packages/oldpkglists/). You can also do this in jupyter by running the code `! conda list`\n",
    "\n",
    "All the packages we use for this course are already downloaded as part of the Anaconda distribution.\n",
    "\n",
    "You can check your version of Python and your version of Anaconda by using the following comands. The `!` allows us to access command line commands in Jupyter."
   ]
  },
  {
   "cell_type": "code",
   "execution_count": null,
   "metadata": {
    "collapsed": true
   },
   "outputs": [],
   "source": [
    "from platform import python_version\n",
    "print(\"Python Version\", python_version())\n",
    "print(\"Anaconda Version\")\n",
    "!conda list anaconda$"
   ]
  },
  {
   "cell_type": "markdown",
   "metadata": {},
   "source": [
    "For installing packages that are not included within the Anaconda distribution there are a few options. The most popular being `pip` and `conda`.  Python packages can be found on PyPi [(the Python Package Index)]( https://pypi.org/), as well as being shared by colleagues or downloaded from the internet. Caution should be taken when using the latter, as there could be malicious software in the bundle.\n",
    "\n",
    "Within ONS our packages are hosted on a mirrored version of PyPi called “Artifactory”. This may be familiar to you if you use R. Please see the instructions on Yammer [here](https://www.yammer.com/ons.gov.uk/#/Threads/show?threadId=131432635932672&search_origin=global&scoring=linear1Y-prankie-group-private-higher&match=any-exact&search_sort=relevance&page=1&search=pip.ini) for installing additional \n",
    "packages.\n",
    "\n",
    "Other government departments have their own rules regarding installation of packages, please contact your IT department or Data Science department for guidance."
   ]
  },
  {
   "cell_type": "markdown",
   "metadata": {},
   "source": [
    "<hr style=\"width:75%;height:4px;border-width:0;color:gray;background-color:#003d59; opacity:0.75\"> "
   ]
  },
  {
   "cell_type": "markdown",
   "metadata": {},
   "source": [
    "### Importing Pandas"
   ]
  },
  {
   "cell_type": "markdown",
   "metadata": {},
   "source": [
    "In order to use the functionality of the Pandas package within our Python code; we first need to import it.\n",
    "\n",
    "We need to import our packages in every script we write.\n",
    "\n",
    "You should always import the packages you’re going to use at the very ** top ** of your script.\n",
    "\n",
    "As we mentioned in the last chapter, we have already downloaded the packages we need for this course – they come bundled with the Anaconda Suite.\n",
    "\n",
    "To use the functions within a package we need to import it by using an import statement:"
   ]
  },
  {
   "cell_type": "code",
   "execution_count": null,
   "metadata": {
    "collapsed": true
   },
   "outputs": [],
   "source": [
    "import pandas as pd"
   ]
  },
  {
   "cell_type": "markdown",
   "metadata": {},
   "source": [
    "When we import a package we don't get any feedback it's worked. The cell will change from a green to blue, and the line number will increase.\n",
    "\n",
    "* We start by using the key word `import` - this is a reserved word in Python, you can see the syntax highlighting, it is now bold and green.\n",
    "\n",
    "\n",
    "* We then give the package name\n",
    "\n",
    "\n",
    "* The keyword `as` allows us to give a nickname to the package\n",
    "\n",
    "\n",
    "* Which here is `pd`\n",
    "\n",
    "We don’t have to give nicknames to packages; however, it’s a very common standard; that saves us some typing. We’ll often need to reference the package containing the function; e.g `pd.Series()` - which is much faster than `pandas.Series`().\n"
   ]
  },
  {
   "cell_type": "markdown",
   "metadata": {},
   "source": [
    "<hr style=\"width:75%;height:4px;border-width:0;color:gray;background-color:#003d59; opacity:0.75\"> "
   ]
  },
  {
   "cell_type": "markdown",
   "metadata": {},
   "source": [
    "### Checking Package Versions"
   ]
  },
  {
   "cell_type": "markdown",
   "metadata": {},
   "source": [
    "All packages have versions; this allows code to be updated, extended or modified as time goes on.\n",
    "\n",
    "\n",
    "For reproducibility purposes, as well as searching for help it can be important to know which version of a package you’re using.\n",
    "\n",
    "\n",
    "Most packages follow the PEP8 guidelines we talked about previously and allow you to find the version of a package using the command."
   ]
  },
  {
   "cell_type": "code",
   "execution_count": null,
   "metadata": {
    "collapsed": true
   },
   "outputs": [],
   "source": [
    "pd.__version__ \n",
    "\n",
    "# Note here there's TWO underscores before *and* after version."
   ]
  },
  {
   "cell_type": "markdown",
   "metadata": {
    "collapsed": true
   },
   "source": [
    "Within ONS our current version of Pandas is `0.20.1. `\n",
    "\n",
    "All course material is designed to work with this version of Pandas.\n",
    "\n",
    "If you have an older version you may find some parts may not work. \n",
    "\n",
    "If you have a more modern version you may find some small changes; like different parameter names or possibly more streamlined ways to write certain parts of code.\n",
    "\n",
    "Most versions are backwards compatible so should function as expected."
   ]
  },
  {
   "cell_type": "markdown",
   "metadata": {},
   "source": [
    "<hr style=\"width:75%;height:4px;border-width:0;color:gray;background-color:#003d59; opacity:0.75\"> "
   ]
  },
  {
   "cell_type": "markdown",
   "metadata": {},
   "source": [
    "### Series"
   ]
  },
  {
   "cell_type": "markdown",
   "metadata": {},
   "source": [
    "Pandas gives us two new object types.\n",
    "\n",
    "`Series` are\n",
    "\n",
    "* One dimensional arrays\n",
    "* Act like columns in a spreadsheet\n",
    "* Must have items of the same type (int, float or str)\n",
    "* Has a series index – defaults to start at 0\n",
    "\n",
    "\n",
    "Series have a large number of special methods and procedures associated with them; which we’ll explore in this course.\n"
   ]
  },
  {
   "cell_type": "code",
   "execution_count": null,
   "metadata": {
    "collapsed": true
   },
   "outputs": [],
   "source": [
    "# I'm manually creating a Series here - we'll talk about why we don't teach this in a second.\n",
    "\n",
    "python_movies = pd.Series([\"And Now For Something Completely Different\",\n",
    "                           \"Monty Python and the Holy Grail\",\n",
    "                           \"Monty Python's Life of Brian\",\n",
    "                           \"Monty Python Live at the Hollywood Bowl\",\n",
    "                           \"Monty Python's Meaning of Life\",\n",
    "                           \"Monty Python Live (Mostly)\"])\n",
    "\n",
    "\n",
    "# Display the series below the cell.\n",
    "\n",
    "python_movies\n"
   ]
  },
  {
   "cell_type": "markdown",
   "metadata": {},
   "source": [
    "<hr style=\"width:75%;height:4px;border-width:0;color:gray;background-color:#003d59; opacity:0.75\"> "
   ]
  },
  {
   "cell_type": "markdown",
   "metadata": {},
   "source": [
    "### DataFrames"
   ]
  },
  {
   "cell_type": "markdown",
   "metadata": {},
   "source": [
    "`DataFrames` are\n",
    "\n",
    "* A two dimensional version of the series object\n",
    "* Like a whole spreadsheet\n",
    "* Essentially a collection of series objects (one series per column)\n",
    "\n",
    "where\n",
    "\n",
    "* A column can only have one data type\n",
    "* Each column can have a different data type\n",
    "* The dimensions are labelled similarly to a series object\n",
    "\t* **index** refers to the row labels – and defaults to starting at 0\n",
    "\t* **columns** refers to the column labels – or headers.\n",
    "\n",
    "The `DataFrames` will have some of the same methods as `Series` and some different."
   ]
  },
  {
   "cell_type": "code",
   "execution_count": null,
   "metadata": {
    "collapsed": true
   },
   "outputs": [],
   "source": [
    "# First I'm setting up some Series of data to be my columns.\n",
    "# Note these are in the same order as python_movies\n",
    "# python_movies already exists from my previous cell so I can recycle it\n",
    "\n",
    "python_live = pd.Series([False, False, False, False, False, True])\n",
    "python_year = pd.Series([1971, 1975, 1979, 1982, 1983, 2014])\n",
    "\n",
    "# Now I'll create my Dataframe\n",
    "\n",
    "python_movies_df = pd.DataFrame({\"film_name\": python_movies,\n",
    "                                 \"live\": python_live, \n",
    "                                 \"year\": python_year})\n",
    "\n",
    "# This is passing a dictionary { } to the pd.DataFrame command.\n",
    "# In the dictionary I have each column header (as a string) and then the Series data.\n",
    "# These are seperated by a colon - like we saw earlier.\n",
    " \n",
    "# then print out the Data Frame\n",
    "\n",
    "python_movies_df"
   ]
  },
  {
   "cell_type": "markdown",
   "metadata": {},
   "source": [
    "### Why are we not creating series and data frames?\n",
    "\n",
    "In this course we don’t manually create `Series` or `DataFrame` objects within Python.\n",
    "\n",
    "When we work in Python we’re often reading in data from files; very rarely do we create the data we want from scratch.  It can be a useful skill to know – and if you wish to extend your knowledge [here]( https://pandas.pydata.org/pandas-docs/stable/getting_started/dsintro.html) is a short tutorial.\n"
   ]
  },
  {
   "cell_type": "markdown",
   "metadata": {},
   "source": [
    "[return to menu](#menu)"
   ]
  },
  {
   "cell_type": "markdown",
   "metadata": {},
   "source": [
    "<a id='help'></a>\n",
    "<hr style=\"width:100%;height:4px;border-width:0;color:gray;background-color:#003d59; opacity:1\"> "
   ]
  },
  {
   "cell_type": "markdown",
   "metadata": {},
   "source": [
    "## Accessing Help"
   ]
  },
  {
   "cell_type": "markdown",
   "metadata": {},
   "source": [
    "In the last chapter we talked about generic places you can find help for your work in Python.\n",
    "\n",
    "In this section we’re going to talk about the in-built help within Python, called doc (document) strings."
   ]
  },
  {
   "cell_type": "markdown",
   "metadata": {},
   "source": [
    "Here we’re going to look at the help documentation for `.sample()`.\n",
    "\n",
    "`.sample()` can be used on a column of a DataFrame – like the `python_movies_df` we created earlier."
   ]
  },
  {
   "cell_type": "code",
   "execution_count": null,
   "metadata": {
    "collapsed": true
   },
   "outputs": [],
   "source": [
    "python_movies_df.sample()"
   ]
  },
  {
   "cell_type": "markdown",
   "metadata": {},
   "source": [
    "By default `.sample()` returns us one row of a DataFrame.\n",
    "\n",
    "What if I want to change the behaviour to return multiple rows? To find out how to do this I could search the function on Google.\n",
    "\n",
    "However it’s easier to look in the documentation contained within Python.\n",
    "\n",
    "We can do this in a few different ways - by using the function `help()` on our code"
   ]
  },
  {
   "cell_type": "code",
   "execution_count": null,
   "metadata": {
    "collapsed": true
   },
   "outputs": [],
   "source": [
    "# Run this Cell to show the help\n",
    "help(python_movies_df.sample)"
   ]
  },
  {
   "cell_type": "markdown",
   "metadata": {},
   "source": [
    "The help documentation has a few different sections. As the contents of these are defined by the creator of the function some may have more information in them than others.\n",
    "\n",
    "This one has:\n",
    "\n",
    "`Signature` - the text we use to call the function and the parameters (think options) and arguments (default values) inside of the brackets. Here we have several the paramater `n = ` contols the number of rows returned and parameter called `replace = ` and the default argument for this is `False`.\n",
    "\n",
    "Underneath this tells us the `Docstring` – which is information about the function.\n",
    "\n",
    "Thirdly `Paramaters` gives us more information about the paramaters (options) we can set within this function.\n",
    "\n",
    "Going back to our `replace = ` parameter, we can see that this takes a `Boolean` argument (`True` or `False`) and that it controls if we sample with or without replacement.\n",
    "\n",
    "At the bottom we have `Returns` which tells us what the function returns; and underneath this we have `Examples` - not all functions will have this level of detail in the docstring!\n",
    "\n",
    "Now we know other parameters we can set for `python_movies_df.sample()` let’s try returning a sample of 4 rows, and turn `replace = ` to `True`"
   ]
  },
  {
   "cell_type": "code",
   "execution_count": null,
   "metadata": {
    "collapsed": true
   },
   "outputs": [],
   "source": [
    "python_movies_df.sample(n=4 , replace=True)"
   ]
  },
  {
   "cell_type": "markdown",
   "metadata": {},
   "source": [
    "Due to the random sampling you may need to run the above cell a few times until you see duplicate rows.\n",
    "\n",
    "We’ve now used our Docstring to find some additional arguments we can specify to modify the behaviour of `.sample()`. \n",
    "\n",
    "Our paramaters and their arguments (`n=4 ` and `replace=True`) go inside of the round brackets of the function. These are seperated by commas."
   ]
  },
  {
   "cell_type": "markdown",
   "metadata": {},
   "source": [
    "We can access the Docstrings in a few other ways:  \n",
    "\n",
    "We can also use a `?` before our function. Note this may not work for certain versions of Python - if this is the case use `help()` instead."
   ]
  },
  {
   "cell_type": "code",
   "execution_count": null,
   "metadata": {
    "collapsed": true
   },
   "outputs": [],
   "source": [
    "?python_movies_df.sample()"
   ]
  },
  {
   "cell_type": "markdown",
   "metadata": {},
   "source": [
    "Jupyter Notebooks also has a rather nice way of accessing the docstring.\n",
    "\n",
    "Place your cursor somewhere in the object below.\n",
    "\n",
    "Pressing Shift + Tab once shows the parameters available for the object you are looking at.\n",
    "\n",
    "Pressing Shift + Tab twice shows the whole docstring\n",
    "\n",
    "Pressing Shift + Tab a third time makes the tool-tip linger for 10 seconds.\n",
    "\n",
    "Pressing Shift + Tab a fourth time put the tool-tip into a larger pane in the browser.\n"
   ]
  },
  {
   "cell_type": "code",
   "execution_count": null,
   "metadata": {
    "collapsed": true
   },
   "outputs": [],
   "source": [
    "# Place your cursor in the .sample() command and press shift + tab\n",
    "\n",
    "python_movies_df.sample()"
   ]
  },
  {
   "cell_type": "markdown",
   "metadata": {},
   "source": [
    "`.sample()` is a fairly simple method – and doesn’t have many parameters and arguments.\n",
    "\n",
    "Depending on what your function does depends on how many arguments and parameters there may me.\n",
    "\n",
    "Have a look at the Docstring below for `pd.read_csv()` which we use for reading in CSV files into Python.\n"
   ]
  },
  {
   "cell_type": "code",
   "execution_count": null,
   "metadata": {
    "collapsed": true
   },
   "outputs": [],
   "source": [
    "help(pd.read_csv)"
   ]
  },
  {
   "cell_type": "markdown",
   "metadata": {},
   "source": [
    "[return to menu](#menu)"
   ]
  },
  {
   "cell_type": "markdown",
   "metadata": {},
   "source": [
    "<a id='help'></a>\n",
    "<hr style=\"width:100%;height:4px;border-width:0;color:gray;background-color:#003d59; opacity:1\"> "
   ]
  },
  {
   "cell_type": "markdown",
   "metadata": {},
   "source": [
    "## End of Chapter"
   ]
  },
  {
   "cell_type": "markdown",
   "metadata": {},
   "source": [
    "In this chapter we’ve explored:\n",
    "* Variables and naming objects\n",
    "* Common Data Types ( `Int`, `Float`, `Str`, `Bool` ) and how to convert them\n",
    "* Objects and Classes – including `lists` , `tuples` and `dictionaries`\n",
    "* How to select items (indexing) from our common objects\n",
    "* A basic introduction to functions, methods and attributes\n",
    "* A basic introduction to the Pandas package, and the Series and DataFrame objects.\n",
    "* How to access help\n",
    "\n",
    "\n",
    "You have completed Chapter 2 of the Introduction to Python course.\n",
    "\n",
    "Please move on to Chapter 3"
   ]
  }
 ],
 "metadata": {
  "kernelspec": {
   "display_name": "Python 3",
   "language": "python",
   "name": "python3"
  },
  "language_info": {
   "codemirror_mode": {
    "name": "ipython",
    "version": 3
   },
   "file_extension": ".py",
   "mimetype": "text/x-python",
   "name": "python",
   "nbconvert_exporter": "python",
   "pygments_lexer": "ipython3",
   "version": "3.6.1"
  },
  "toc": {
   "base_numbering": 1,
   "nav_menu": {},
   "number_sections": false,
   "sideBar": true,
   "skip_h1_title": false,
   "title_cell": "Table of Contents",
   "title_sidebar": "Contents",
   "toc_cell": false,
   "toc_position": {},
   "toc_section_display": true,
   "toc_window_display": false
  }
 },
 "nbformat": 4,
 "nbformat_minor": 2
}
