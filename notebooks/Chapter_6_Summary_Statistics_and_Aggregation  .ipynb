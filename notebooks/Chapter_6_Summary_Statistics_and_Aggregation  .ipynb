{
 "cells": [
  {
   "cell_type": "markdown",
   "metadata": {},
   "source": [
    "<a id='menu'></a>\n",
    " <hr style=\"width:100%;height:4px;border-width:0;color:gray;background-color:#003d59; opacity:0.25\"> \n",
    "\n",
    " ![learning academy and data science campus logos](../images/la_dsc_logo.jpg)\n",
    "  <hr style=\"width:100%;height:4px;border-width:0;color:gray;background-color:#003d59; opacity:0.25\"> "
   ]
  },
  {
   "cell_type": "markdown",
   "metadata": {},
   "source": [
    "<a id='menu'></a>\n",
    "# Introduction to Python\n",
    "## Chapter 6 – Summary Statistics and Aggregation  \n",
    "***\n",
    "Follow along with the code by running cells as you encounter them\n",
    "***\n",
    "*Chapter Overview/Learning Objectives*\n",
    "\n",
    "* [Packages and Data](#packages)\n",
    " * Packages\n",
    " * Data\n",
    " \n",
    " \n",
    "* [Overall Descriptive Statistics](#describe)\n",
    "\n",
    "\n",
    "* [Range](#range)\n",
    " * min\n",
    " * max\n",
    " * quantiles\n",
    " \n",
    "\n",
    "* [Averages](#averages)\n",
    " * Mean\n",
    " * Median\n",
    " * Mode\n",
    " \n",
    " \n",
    "* [Spread](#spread)\n",
    " * Standard Deviation\n",
    " * Variance\n",
    " \n",
    "\n",
    "* [Counting Values](#count)\n",
    " * Counts\n",
    " * Null Value counts\n",
    " * Value Counts\n",
    "\n",
    "\n",
    "* [Other Summary Statistics](#other)\n",
    "\n",
    "\n",
    "* [Creating Size Bands](#cut)\n",
    "\n",
    "\n",
    "* [Aggregation](#agg)"
   ]
  },
  {
   "cell_type": "markdown",
   "metadata": {},
   "source": [
    "<a id='packages'></a>\n",
    "<hr style=\"width:100%;height:4px;border-width:0;color:gray;background-color:#003d59; opacity:1\">  "
   ]
  },
  {
   "cell_type": "markdown",
   "metadata": {},
   "source": [
    "## Packages and Data"
   ]
  },
  {
   "cell_type": "markdown",
   "metadata": {},
   "source": [
    "### Packages\n",
    "\n",
    "As a reminder – we should always import our packages at the top of our script.\n",
    "\n",
    "\n",
    "In this session we will use:\n",
    "\n",
    "* `pandas`, and give it the nickname `pd`\n",
    "* `numpy` and give it the nickname `np`\n",
    "\n",
    "Complete this action in the cell below."
   ]
  },
  {
   "cell_type": "code",
   "execution_count": null,
   "metadata": {
    "collapsed": true
   },
   "outputs": [],
   "source": [
    "# Import pandas and numpy into this cell\n",
    "\n"
   ]
  },
  {
   "cell_type": "markdown",
   "metadata": {},
   "source": [
    "You can run the \"solution\" cell if you need help - or revisit Chapter 2.\n",
    "\n",
    "Practicing these basic commands helps your retention of the skills."
   ]
  },
  {
   "cell_type": "code",
   "execution_count": null,
   "metadata": {
    "collapsed": true
   },
   "outputs": [],
   "source": [
    "# Solution - These cells contain answers for the exercises.\n",
    "# Run once to reveal the code\n",
    "# Run again to reveal the output\n",
    "\n",
    "\n",
    "%load ../solutions/chapter_6/chaptersixpackages.py"
   ]
  },
  {
   "cell_type": "markdown",
   "metadata": {},
   "source": [
    "We’ll now import the data again.\n",
    "\n",
    "In this session we will use:\n",
    "\n",
    "| variable name | file name  |\n",
    "| ------- | --- |\n",
    "| animals | animals.csv |\n",
    "| titanic | titanic.xlsx |\n"
   ]
  },
  {
   "cell_type": "code",
   "execution_count": null,
   "metadata": {
    "collapsed": true
   },
   "outputs": [],
   "source": [
    "# Import the animals and the titanic data into this cell\n",
    "\n"
   ]
  },
  {
   "cell_type": "code",
   "execution_count": null,
   "metadata": {
    "collapsed": true
   },
   "outputs": [],
   "source": [
    "# Solution - These cells contain answers for the exercises.\n",
    "# Run once to reveal the code\n",
    "# Run again to reveal the output\n",
    "\n",
    "%load ../solutions/chapter_6/chaptersixdata.py"
   ]
  },
  {
   "cell_type": "markdown",
   "metadata": {},
   "source": [
    "You can check your variables are loaded by using `%whos` in Jupyter. In Spyder or other IDE's they should appear in your variable explorer. \n",
    "\n",
    "If you struggle with this section – review Chapter 3."
   ]
  },
  {
   "cell_type": "code",
   "execution_count": null,
   "metadata": {
    "collapsed": true
   },
   "outputs": [],
   "source": [
    "%whos"
   ]
  },
  {
   "cell_type": "markdown",
   "metadata": {},
   "source": [
    "[return to menu](#menu)"
   ]
  },
  {
   "cell_type": "markdown",
   "metadata": {},
   "source": [
    "<a id='describe'></a>\n",
    "<hr style=\"width:100%;height:4px;border-width:0;color:gray;background-color:#003d59; opacity:1\"> "
   ]
  },
  {
   "cell_type": "markdown",
   "metadata": {},
   "source": [
    "## Overall Descriptive Statistics"
   ]
  },
  {
   "cell_type": "markdown",
   "metadata": {},
   "source": [
    "Pandas has an inbuilt method to get basic descriptive statistics, this is `.describe()`"
   ]
  },
  {
   "cell_type": "code",
   "execution_count": null,
   "metadata": {
    "collapsed": true
   },
   "outputs": [],
   "source": [
    "titanic.describe()"
   ]
  },
  {
   "cell_type": "markdown",
   "metadata": {},
   "source": [
    "Describe works on numeric columns by default. We can also get summary statistics on a specific column."
   ]
  },
  {
   "cell_type": "code",
   "execution_count": null,
   "metadata": {
    "collapsed": true
   },
   "outputs": [],
   "source": [
    "titanic[\"fare\"].describe()"
   ]
  },
  {
   "cell_type": "markdown",
   "metadata": {},
   "source": [
    "These statistics are explained in more detail below:\n",
    " \n",
    "| Summary Statistic | Description|\n",
    "|--------------------------|-----------------|\n",
    "| count | the number (count) of non missing entries in the given column.\n",
    "| mean | the average (arithmetic mean) data value in the given column.\n",
    "| std | the standard deviation (spread) of values in the given column.\n",
    "| min |  the smallest value in the given column.\n",
    "| 25% | the value of the data at the lower quartile <br> (i.e. after the first 25% of data, ordered from smallest to largest).\n",
    "| 50% | the middle value of the data (aka the median). <br> half the values are larger than this value, and half smaller.\n",
    "| 75% | the value of the data at the upper quartile <br> (i.e. after the first 75% of data, ordered from smallest to largest).\n",
    "| max | the maximum data value recorded.\n"
   ]
  },
  {
   "cell_type": "markdown",
   "metadata": {},
   "source": [
    "We can display descriptive information for other data types by using the parameter `include= ` . \n",
    "\n",
    "This parameter takes a list as the input; even if we’re just including one kind of data. \n",
    "\n",
    "Here we’re specifying that we want to include “object” – our object columns."
   ]
  },
  {
   "cell_type": "code",
   "execution_count": null,
   "metadata": {
    "collapsed": true
   },
   "outputs": [],
   "source": [
    "titanic.describe(include=[\"object\"])"
   ]
  },
  {
   "cell_type": "markdown",
   "metadata": {},
   "source": [
    "| Summary Statistic | Description|\n",
    "|--------------------------|-----------------|\n",
    "| count | The number (count) of non missing entries in the given column.\n",
    "| unique | The number of unique variables in a column.\n",
    "| top | The most frequently occurring value.\n",
    "| freq | The frequency of the “top” value.\n",
    "\n",
    "If there are two or more “top” values; e.g. both most frequently occurring values that have the same frequency within the table then Python will [kind of arbitrarily](https://github.com/pandas-dev/pandas/issues/15833) choose one of them to be the top value. The link is added for general interest, you don't need to understand it.\n",
    "\n",
    "In this data there are two women and two men who share the same name. Pandas will choose one of them to display.\n",
    "\n",
    "`titanic.describe(include=[np.number])` will return you all numeric columns, in the same way as `titanic.describe(include=[\"int64\", \"float64\"])`"
   ]
  },
  {
   "cell_type": "markdown",
   "metadata": {},
   "source": [
    "[return to menu](#menu)"
   ]
  },
  {
   "cell_type": "markdown",
   "metadata": {},
   "source": [
    "<a id='range'></a>\n",
    "<hr style=\"width:100%;height:4px;border-width:0;color:gray;background-color:#003d59; opacity:1\"> "
   ]
  },
  {
   "cell_type": "markdown",
   "metadata": {},
   "source": [
    "## Range\n",
    "\n",
    "We can also access these summary statistics individually. In most cases the name of the method is the same as the summary statistic."
   ]
  },
  {
   "cell_type": "markdown",
   "metadata": {},
   "source": [
    "<hr style=\"width:70%;height:4px;border-width:0;color:gray;background-color:#003d59; opacity:0.75\"> "
   ]
  },
  {
   "cell_type": "markdown",
   "metadata": {},
   "source": [
    "### min"
   ]
  },
  {
   "cell_type": "markdown",
   "metadata": {},
   "source": [
    "We can use `.min()` to return the minimum value in a column."
   ]
  },
  {
   "cell_type": "code",
   "execution_count": null,
   "metadata": {
    "collapsed": true
   },
   "outputs": [],
   "source": [
    "titanic[\"fare\"].min()"
   ]
  },
  {
   "cell_type": "markdown",
   "metadata": {},
   "source": [
    "This also works for object (text) columns."
   ]
  },
  {
   "cell_type": "code",
   "execution_count": null,
   "metadata": {
    "collapsed": true
   },
   "outputs": [],
   "source": [
    "titanic[\"name\"].min()"
   ]
  },
  {
   "cell_type": "markdown",
   "metadata": {},
   "source": [
    "<hr style=\"width:70%;height:4px;border-width:0;color:gray;background-color:#003d59; opacity:0.75\"> "
   ]
  },
  {
   "cell_type": "markdown",
   "metadata": {},
   "source": [
    "### max"
   ]
  },
  {
   "cell_type": "markdown",
   "metadata": {},
   "source": [
    "We can use `.max()` to return the maximum value in a column."
   ]
  },
  {
   "cell_type": "code",
   "execution_count": null,
   "metadata": {
    "collapsed": true
   },
   "outputs": [],
   "source": [
    "titanic[\"fare\"].max()"
   ]
  },
  {
   "cell_type": "markdown",
   "metadata": {},
   "source": [
    "This also works for object (text) columns."
   ]
  },
  {
   "cell_type": "code",
   "execution_count": null,
   "metadata": {
    "collapsed": true
   },
   "outputs": [],
   "source": [
    "titanic[\"name\"].max()"
   ]
  },
  {
   "cell_type": "markdown",
   "metadata": {},
   "source": [
    "Something important to note here is that `pandas` effectively assigns a value to each letter. \n",
    "\n",
    "This goes A-Z and **then** a-z.\n",
    "\n",
    "A lower case \"a\" is treated as coming **after** a capital \"Z\" in Python.\n",
    "\n",
    "This is why van Melkebeke, Mr. Philemon is the maximum value in our `Titanic` Dataframe rather than Zimmerman, Mr Leo.\n",
    "\n",
    "We can handle this by ensuring our data is either all lower case or all upper case before finding the `.min()` or `.max()` values. Here I’ve done this by chaining the methods `.str.lower()` and `.max()` together.\n",
    "\n",
    "If I wanted to do more work with this column in future I may consider overwriting it with a lower case version."
   ]
  },
  {
   "cell_type": "code",
   "execution_count": null,
   "metadata": {
    "collapsed": true
   },
   "outputs": [],
   "source": [
    "titanic[\"name\"].str.lower().max()"
   ]
  },
  {
   "cell_type": "markdown",
   "metadata": {},
   "source": [
    "<hr style=\"width:70%;height:4px;border-width:0;color:gray;background-color:#003d59; opacity:0.75\"> "
   ]
  },
  {
   "cell_type": "markdown",
   "metadata": {},
   "source": [
    "### Quantiles"
   ]
  },
  {
   "cell_type": "markdown",
   "metadata": {},
   "source": [
    "We can use `.quantile()` to find information at different points of our data.\n",
    "\n",
    "Our parameter is `q= ` and then a decimal number.\n",
    "\n",
    "If we don't specify this the default behaviour is `0.5`."
   ]
  },
  {
   "cell_type": "code",
   "execution_count": null,
   "metadata": {
    "collapsed": true
   },
   "outputs": [],
   "source": [
    "titanic[\"fare\"].quantile(q=0.25)"
   ]
  },
  {
   "cell_type": "markdown",
   "metadata": {},
   "source": [
    "If we wish to specify more than one, we pass a list to the parameter `q= `"
   ]
  },
  {
   "cell_type": "code",
   "execution_count": null,
   "metadata": {
    "collapsed": true
   },
   "outputs": [],
   "source": [
    "titanic[\"fare\"].quantile(q=[0, 0.25, 0.5, 0.75, 1])"
   ]
  },
  {
   "cell_type": "markdown",
   "metadata": {},
   "source": [
    "We can also use the `np.arange()` function from the `numpy` package (`np`) here rather than manually specifying as a list. This creates *a* range (not arranging the data). Note the `range()` function only works with integers; or whole numbers, while `np.arange()` allows us to work with floats; or decimal numbers.\n",
    "\n",
    "Like in `range()` in `np.arange()` the stop number is exclusive."
   ]
  },
  {
   "cell_type": "code",
   "execution_count": null,
   "metadata": {
    "collapsed": true
   },
   "outputs": [],
   "source": [
    "# Note that .arange() comes from the numpy package (np)\n",
    "\n",
    "\n",
    "titanic[\"fare\"].quantile(q=np.arange(start=0.0, \n",
    "                                     stop=1.1,  # Remember this is exclusive!\n",
    "                                     step=0.1)) "
   ]
  },
  {
   "cell_type": "markdown",
   "metadata": {},
   "source": [
    "<hr style=\"width:50%;height:4px;border-width:0;color:gray;background-color:#003d59; opacity:0.5\"> "
   ]
  },
  {
   "cell_type": "markdown",
   "metadata": {},
   "source": [
    "## Exercise 1\n",
    "\n",
    "How old is the oldest passenger in the DataFrame\n"
   ]
  },
  {
   "cell_type": "code",
   "execution_count": null,
   "metadata": {
    "collapsed": true
   },
   "outputs": [],
   "source": [
    "# Exercise\n",
    "\n"
   ]
  },
  {
   "cell_type": "code",
   "execution_count": null,
   "metadata": {
    "collapsed": true
   },
   "outputs": [],
   "source": [
    "# Solution - These cells contain answers for the exercises.\n",
    "# Run once to reveal the code\n",
    "# Run again to reveal the output\n",
    "\n",
    "%load ../solutions/chapter_6/oldest_passenger.py"
   ]
  },
  {
   "cell_type": "markdown",
   "metadata": {},
   "source": [
    "[return to menu](#menu)"
   ]
  },
  {
   "cell_type": "markdown",
   "metadata": {},
   "source": [
    "<a id='averages'></a>\n",
    "<hr style=\"width:100%;height:4px;border-width:0;color:gray;background-color:#003d59; opacity:1\"> "
   ]
  },
  {
   "cell_type": "markdown",
   "metadata": {},
   "source": [
    "## Averages"
   ]
  },
  {
   "cell_type": "markdown",
   "metadata": {},
   "source": [
    "### Mean\n"
   ]
  },
  {
   "cell_type": "markdown",
   "metadata": {},
   "source": [
    "`.mean()` finds us the sum of the column, divided by the number of items in the column."
   ]
  },
  {
   "cell_type": "code",
   "execution_count": null,
   "metadata": {
    "collapsed": true
   },
   "outputs": [],
   "source": [
    "titanic[\"fare\"].mean()"
   ]
  },
  {
   "cell_type": "markdown",
   "metadata": {},
   "source": [
    "<hr style=\"width:70%;height:4px;border-width:0;color:gray;background-color:#003d59; opacity:0.75\"> "
   ]
  },
  {
   "cell_type": "markdown",
   "metadata": {},
   "source": [
    "### Median"
   ]
  },
  {
   "cell_type": "markdown",
   "metadata": {},
   "source": [
    "The `.median()` is the middle value when the numbers are listed in order."
   ]
  },
  {
   "cell_type": "code",
   "execution_count": null,
   "metadata": {
    "collapsed": true
   },
   "outputs": [],
   "source": [
    "titanic[\"fare\"].median()"
   ]
  },
  {
   "cell_type": "markdown",
   "metadata": {},
   "source": [
    "<hr style=\"width:70%;height:4px;border-width:0;color:gray;background-color:#003d59; opacity:0.75\"> "
   ]
  },
  {
   "cell_type": "markdown",
   "metadata": {},
   "source": [
    "### Mode"
   ]
  },
  {
   "cell_type": "markdown",
   "metadata": {},
   "source": [
    "The `.mode()` is the value that occurs most frequently in the column."
   ]
  },
  {
   "cell_type": "code",
   "execution_count": null,
   "metadata": {
    "collapsed": true
   },
   "outputs": [],
   "source": [
    "titanic[\"fare\"].mode()"
   ]
  },
  {
   "cell_type": "markdown",
   "metadata": {},
   "source": [
    "`.mode()` can also be calculated for object based columns.\n",
    "\n",
    "Here the `name` column has two modes; both `Connolly, Miss. Kate` and `Kelly, Mr. James` appear twice in the Data Frame.\n",
    "\n",
    "How do we know they appear twice? We’ll look at the function to find this  `.value_counts()` later in this section."
   ]
  },
  {
   "cell_type": "code",
   "execution_count": null,
   "metadata": {
    "collapsed": true
   },
   "outputs": [],
   "source": [
    "titanic[\"name\"].mode()"
   ]
  },
  {
   "cell_type": "markdown",
   "metadata": {},
   "source": [
    "Interestingly this data isn’t duplicates, There really were two separate individuals with those names!"
   ]
  },
  {
   "cell_type": "code",
   "execution_count": null,
   "metadata": {
    "collapsed": true
   },
   "outputs": [],
   "source": [
    "titanic[(titanic[\"name\"] == \"Connolly, Miss. Kate\") | (titanic[\"name\"] == \"Kelly, Mr. James\")]"
   ]
  },
  {
   "cell_type": "markdown",
   "metadata": {},
   "source": [
    "[return to menu](#menu)"
   ]
  },
  {
   "cell_type": "markdown",
   "metadata": {},
   "source": [
    "<a id='spread'></a>\n",
    "<hr style=\"width:100%;height:4px;border-width:0;color:gray;background-color:#003d59; opacity:1\"> "
   ]
  },
  {
   "cell_type": "markdown",
   "metadata": {},
   "source": [
    "## Spread"
   ]
  },
  {
   "cell_type": "markdown",
   "metadata": {},
   "source": [
    "### Standard Deviation\n"
   ]
  },
  {
   "cell_type": "markdown",
   "metadata": {},
   "source": [
    "The standard deviation measures the spread of the data about the mean value. It shows you how much your data distribution is spread out around the mean or average.\n",
    "\n",
    "We can calculate the standard deviation using the `.std()` method.\n"
   ]
  },
  {
   "cell_type": "code",
   "execution_count": null,
   "metadata": {
    "collapsed": true
   },
   "outputs": [],
   "source": [
    "titanic[\"fare\"].std()"
   ]
  },
  {
   "cell_type": "markdown",
   "metadata": {},
   "source": [
    "<hr style=\"width:70%;height:4px;border-width:0;color:gray;background-color:#003d59; opacity:0.75\"> "
   ]
  },
  {
   "cell_type": "markdown",
   "metadata": {},
   "source": [
    "### Variance"
   ]
  },
  {
   "cell_type": "markdown",
   "metadata": {},
   "source": [
    "Variance measures how spread the values of a variable are.\n",
    "We can calculate the variance using the `.var()` method."
   ]
  },
  {
   "cell_type": "code",
   "execution_count": null,
   "metadata": {
    "collapsed": true
   },
   "outputs": [],
   "source": [
    "titanic[\"fare\"].var()"
   ]
  },
  {
   "cell_type": "markdown",
   "metadata": {},
   "source": [
    "<hr style=\"width:50%;height:4px;border-width:0;color:gray;background-color:#003d59; opacity:0.5\"> "
   ]
  },
  {
   "cell_type": "markdown",
   "metadata": {},
   "source": [
    "## Exercise\n",
    "\n",
    "Find the standard deviation of the `age` column"
   ]
  },
  {
   "cell_type": "code",
   "execution_count": null,
   "metadata": {
    "collapsed": true
   },
   "outputs": [],
   "source": [
    "# Exercise\n",
    "\n"
   ]
  },
  {
   "cell_type": "code",
   "execution_count": null,
   "metadata": {
    "collapsed": true
   },
   "outputs": [],
   "source": [
    "# Solution - These cells contain answers for the exercises.\n",
    "# Run once to reveal the code\n",
    "# Run again to reveal the output\n",
    "\n",
    "%load ../solutions/chapter_6/standard_deviation.py"
   ]
  },
  {
   "cell_type": "markdown",
   "metadata": {},
   "source": [
    "[return to menu](#menu)"
   ]
  },
  {
   "cell_type": "markdown",
   "metadata": {},
   "source": [
    "<a id='count'></a>\n",
    "<hr style=\"width:100%;height:4px;border-width:0;color:gray;background-color:#003d59; opacity:1\"> "
   ]
  },
  {
   "cell_type": "markdown",
   "metadata": {},
   "source": [
    "## Counting Values\n"
   ]
  },
  {
   "cell_type": "markdown",
   "metadata": {},
   "source": [
    "### Counts"
   ]
  },
  {
   "cell_type": "markdown",
   "metadata": {},
   "source": [
    "We can find the number of non null values in a column using the `.count()` method. \n",
    "\n",
    "By non null values we mean values with data in them - not the missing values."
   ]
  },
  {
   "cell_type": "code",
   "execution_count": null,
   "metadata": {
    "collapsed": true
   },
   "outputs": [],
   "source": [
    "titanic[\"sex\"].count()"
   ]
  },
  {
   "cell_type": "markdown",
   "metadata": {},
   "source": [
    "<hr style=\"width:70%;height:4px;border-width:0;color:gray;background-color:#003d59; opacity:0.75\"> "
   ]
  },
  {
   "cell_type": "markdown",
   "metadata": {},
   "source": [
    "### Null Value counts"
   ]
  },
  {
   "cell_type": "markdown",
   "metadata": {},
   "source": [
    "We can find how many null values we have by using the `.isnull()` method. \n",
    "\n",
    "`.isnull()` returns a Boolean series – of `True` and `False` values."
   ]
  },
  {
   "cell_type": "code",
   "execution_count": null,
   "metadata": {
    "collapsed": true
   },
   "outputs": [],
   "source": [
    "titanic[\"age\"].isnull().head()"
   ]
  },
  {
   "cell_type": "markdown",
   "metadata": {},
   "source": [
    "As these have numeric values behind them (`True` is 1, `False` is 0 ) we can use `.sum()` to total them."
   ]
  },
  {
   "cell_type": "code",
   "execution_count": null,
   "metadata": {
    "collapsed": true
   },
   "outputs": [],
   "source": [
    "titanic[\"age\"].isnull().sum()"
   ]
  },
  {
   "cell_type": "markdown",
   "metadata": {},
   "source": [
    "In more modern versions of Pandas the method `.isna()` also exists and provides the same output."
   ]
  },
  {
   "cell_type": "markdown",
   "metadata": {},
   "source": [
    "<hr style=\"width:70%;height:4px;border-width:0;color:gray;background-color:#003d59; opacity:0.75\"> "
   ]
  },
  {
   "cell_type": "markdown",
   "metadata": {},
   "source": [
    "### Value Counts"
   ]
  },
  {
   "cell_type": "markdown",
   "metadata": {},
   "source": [
    "We can find the frequencies of each unique value in a column, by using `.value_counts()`."
   ]
  },
  {
   "cell_type": "code",
   "execution_count": null,
   "metadata": {
    "collapsed": true
   },
   "outputs": [],
   "source": [
    "titanic[\"sex\"].value_counts()"
   ]
  },
  {
   "cell_type": "markdown",
   "metadata": {},
   "source": [
    "<hr style=\"width:50%;height:4px;border-width:0;color:gray;background-color:#003d59; opacity:0.5\"> "
   ]
  },
  {
   "cell_type": "markdown",
   "metadata": {},
   "source": [
    "## Exercise 1\n",
    "\n",
    "How many passengers were in each class?"
   ]
  },
  {
   "cell_type": "code",
   "execution_count": null,
   "metadata": {
    "collapsed": true
   },
   "outputs": [],
   "source": [
    "# Exercise\n"
   ]
  },
  {
   "cell_type": "code",
   "execution_count": null,
   "metadata": {
    "collapsed": true
   },
   "outputs": [],
   "source": [
    "# Solution - These cells contain answers for the exercises.\n",
    "#Run once to reveal the code.\n",
    "#Run again to reveal the output. \n",
    "\n",
    "%load ../solutions/chapter_6/how_many_pclass.py"
   ]
  },
  {
   "cell_type": "markdown",
   "metadata": {},
   "source": [
    "<hr style=\"width:50%;height:4px;border-width:0;color:gray;background-color:#003d59; opacity:0.5\"> "
   ]
  },
  {
   "cell_type": "markdown",
   "metadata": {},
   "source": [
    "## Exercise 2\n",
    "\n",
    "Look in the help for `pd.Series.value_counts()` to see how you can return the values as a proportion"
   ]
  },
  {
   "cell_type": "code",
   "execution_count": null,
   "metadata": {
    "collapsed": true
   },
   "outputs": [],
   "source": [
    "# Exercise\n",
    "\n"
   ]
  },
  {
   "cell_type": "code",
   "execution_count": null,
   "metadata": {
    "collapsed": true
   },
   "outputs": [],
   "source": [
    "# Solution - These cells contain answers for the exercises.\n",
    "#Run once to reveal the code.\n",
    "#Run again to reveal the output. \n",
    "\n",
    "%load ../solutions/chapter_6/pclass_proportion.py"
   ]
  },
  {
   "cell_type": "markdown",
   "metadata": {},
   "source": [
    "[return to menu](#menu)"
   ]
  },
  {
   "cell_type": "markdown",
   "metadata": {},
   "source": [
    "<a id='other'></a>\n",
    "<hr style=\"width:100%;height:4px;border-width:0;color:gray;background-color:#003d59; opacity:1\"> "
   ]
  },
  {
   "cell_type": "markdown",
   "metadata": {},
   "source": [
    "## Other Aggregation Statistics"
   ]
  },
  {
   "cell_type": "markdown",
   "metadata": {},
   "source": [
    "### Sum\n",
    "\n",
    "We can use `.sum()` to add up columns of numeric data."
   ]
  },
  {
   "cell_type": "code",
   "execution_count": null,
   "metadata": {
    "collapsed": true
   },
   "outputs": [],
   "source": [
    "titanic[\"fare\"].sum()"
   ]
  },
  {
   "cell_type": "markdown",
   "metadata": {},
   "source": [
    "The `.sum()` method comes from Pandas; there is also an inbuilt function `sum()`. However if we have null values in the column this will return us `nan`."
   ]
  },
  {
   "cell_type": "code",
   "execution_count": null,
   "metadata": {
    "collapsed": true
   },
   "outputs": [],
   "source": [
    "sum(titanic[\"fare\"])"
   ]
  },
  {
   "cell_type": "markdown",
   "metadata": {},
   "source": [
    "If we have null values using the `.sum()` Panda’s method handles the null values for us.\n"
   ]
  },
  {
   "cell_type": "markdown",
   "metadata": {},
   "source": [
    "<hr style=\"width:70%;height:4px;border-width:0;color:gray;background-color:#003d59; opacity:0.75\"> "
   ]
  },
  {
   "cell_type": "markdown",
   "metadata": {},
   "source": [
    "### Unique\n",
    "\n",
    "We can use `.unique()` to find values that are unique in a column. This is returned as an array."
   ]
  },
  {
   "cell_type": "code",
   "execution_count": null,
   "metadata": {
    "collapsed": true
   },
   "outputs": [],
   "source": [
    "titanic[\"boat\"].unique()"
   ]
  },
  {
   "cell_type": "markdown",
   "metadata": {},
   "source": [
    "<hr style=\"width:70%;height:4px;border-width:0;color:gray;background-color:#003d59; opacity:0.75\"> "
   ]
  },
  {
   "cell_type": "markdown",
   "metadata": {},
   "source": [
    "### Nunique\n",
    "\n",
    "`.nunique()` can be used to find the number of unique values in a column."
   ]
  },
  {
   "cell_type": "code",
   "execution_count": null,
   "metadata": {
    "collapsed": true
   },
   "outputs": [],
   "source": [
    "titanic[\"boat\"].nunique()"
   ]
  },
  {
   "cell_type": "markdown",
   "metadata": {},
   "source": [
    "[return to menu](#menu)"
   ]
  },
  {
   "cell_type": "markdown",
   "metadata": {},
   "source": [
    "<a id='cut'></a>\n",
    "<hr style=\"width:100%;height:4px;border-width:0;color:gray;background-color:#003d59; opacity:1\"> "
   ]
  },
  {
   "cell_type": "markdown",
   "metadata": {},
   "source": [
    "## Creating Size Bands"
   ]
  },
  {
   "cell_type": "markdown",
   "metadata": {},
   "source": [
    "## pd.cut()\n",
    "\n",
    "We can use the method `pd.cut()` to cut or “bin” our data into groups or categories. This is commonly done when creating size bands; like age bands.\n",
    "\n",
    "`pd.cut()` takes a column of data and groups it into “bins” or categories. This column will have the data type of “category”. There’s some more information about the “category” data type [in this link]( https://pbpython.com/pandas_dtypes_cat.html).\n",
    "\n",
    "We often assign the output of `pd.cut()` to a new column. This is because we don’t want to overwrite and change the data type of the existing column.\n"
   ]
  },
  {
   "cell_type": "code",
   "execution_count": null,
   "metadata": {
    "collapsed": true
   },
   "outputs": [],
   "source": [
    "titanic[\"binned_ages\"] = pd.cut(titanic[\"age\"],\n",
    "                                bins=10)\n",
    "\n",
    "titanic.head()"
   ]
  },
  {
   "cell_type": "markdown",
   "metadata": {},
   "source": [
    "We set the parameter bins = to specify the number of categories that we want.\n",
    "\n",
    "By passing an integer to this, Pandas takes the smallest value and the largest value in the column and creates the number of categories defined.\n",
    "\n",
    "We can look at our bins. Note the ( denotes exclusion of that number and the ] denotes inclusion of that number.\n",
    "\n",
    "Now these are `categories` we can see there is a relationship between each category."
   ]
  },
  {
   "cell_type": "code",
   "execution_count": null,
   "metadata": {
    "collapsed": true
   },
   "outputs": [],
   "source": [
    "titanic[\"binned_ages\"].unique()"
   ]
  },
  {
   "cell_type": "markdown",
   "metadata": {},
   "source": [
    "We can also pass our own values to determine where the edges of the categories are.\n",
    "\n",
    "This could be as a list of values or here I create a range.\n",
    "\n",
    "Note that here I am having to use the `numpy` method  `np.arange()` as this number contains decimals. "
   ]
  },
  {
   "cell_type": "code",
   "execution_count": null,
   "metadata": {
    "collapsed": true
   },
   "outputs": [],
   "source": [
    "titanic[\"binned_ages2\"]  = pd.cut(titanic[\"age\"],  # Data to cut\n",
    "                                  bins=np.arange(start=0,\n",
    "                                                 stop=(titanic[\"age\"].max() + 1) , # Remember stop is exclusive!\n",
    "                                                 step=10))\n",
    "\n",
    "titanic.head()"
   ]
  },
  {
   "cell_type": "markdown",
   "metadata": {},
   "source": [
    "Here we’re combining the `.max()` method with the `np.arange()` method within the `pd.cut()` method. \n",
    "\n",
    "This means I don’t have to know the maximum value for the column before I write this piece of code. You can see how we can combine methods quite easily to make our life easier.\n",
    "\n",
    "\n",
    "It is important to note that in this part of the code :\n",
    "\n",
    "`stop=(titanic[\"age\"].max() + 1)` \n",
    "\n",
    "I use brackets to enforce the order of operations. If I didn’t add 1 to the stop, the entry at my maximum value would read `NaN`.\n"
   ]
  },
  {
   "cell_type": "markdown",
   "metadata": {},
   "source": [
    "We can also add labels to our categories. This time rather than displaying the bin edges it will display the text strings we specify.\n",
    "\n",
    "This is passed as a list to the parameter `labels=` ."
   ]
  },
  {
   "cell_type": "code",
   "execution_count": null,
   "metadata": {
    "collapsed": true
   },
   "outputs": [],
   "source": [
    "titanic[\"binned_ages3\"] = pd.cut(titanic[\"age\"],  # Data to cut\n",
    "                                 bins=np.arange(start=0,\n",
    "                                                stop=(titanic[\"age\"].max() + 1),\n",
    "                                                step=10),\n",
    "                                 labels=[\"0 – 10\", \"11-20\", \" 21 – 30\",\n",
    "                                         \"31 – 40\", \"41 – 50\", \"51 – 60\",\n",
    "                                         \"61 – 70\", \"71 - 80\"])\n",
    "\n",
    "titanic.head()"
   ]
  },
  {
   "cell_type": "markdown",
   "metadata": {},
   "source": [
    "Note these bands are approximate, e.g someone with an age of 20.2 will go into the band labelled `21-30`. Integers were chosen as it's an easier read, and most ages after 1 are whole numbers. \n",
    "\n",
    "There’s additional parameters we can set here; check the help function if there’s anything specific you need to do."
   ]
  },
  {
   "cell_type": "markdown",
   "metadata": {},
   "source": [
    "<hr style=\"width:70%;height:4px;border-width:0;color:gray;background-color:#003d59; opacity:0.75\"> "
   ]
  },
  {
   "cell_type": "markdown",
   "metadata": {},
   "source": [
    "## pd.qcut()\n",
    "\n",
    "`pd.qcut()` is described in the documentation as a “Quantile-based discretization function”. This means that `pd.qcut()` tries to divide the data into bins of equal sizes, rather than using the numeric edges of the data to create the bins.\n",
    "\n",
    "In the cell below I’m using `pd.qcut()` to cut the `age` column in to 10. This using the same data and the same number of segments as the `pd.cut()` we did at the start."
   ]
  },
  {
   "cell_type": "code",
   "execution_count": null,
   "metadata": {
    "collapsed": true
   },
   "outputs": [],
   "source": [
    "# Divide fare into 3 equally sized classes.\n",
    "titanic[\"age_qcut\"] = pd.qcut(titanic[\"age\"],\n",
    "                              q=10)  # Note the parameter here is q\n",
    "\n",
    "#View the data\n",
    "titanic.head()"
   ]
  },
  {
   "cell_type": "markdown",
   "metadata": {},
   "source": [
    "We can really see the difference between the two new \"cut\" columns if we visualise them.\n",
    "\n",
    "Here I've taken a `pd.cut()` and a `pd.qcut()` and set `bins/q = 10`.\n",
    "\n",
    "The `pd.cut()` action on the left, cuts the range of the data into 10 bins. You can see the data is not distributed evenly between these 10 bins, but the bins are of equal size.\n",
    "\n",
    "The `pd.qcut()` action on the right cuts the data so each of the 10 bins has roughly an equal number in each bin (edge cases in this case have made it slightly more uneven as we cannot split identical values between bins!). You can see the size of bins is not uniform, unlike the `pd.cut()` bins.\n",
    "\n",
    "\n",
    "![A comparison of cut and qcut](../images/comparing_cut_and_qcut.svg)\n"
   ]
  },
  {
   "cell_type": "code",
   "execution_count": null,
   "metadata": {
    "collapsed": true
   },
   "outputs": [],
   "source": [
    "# The code used to create this figures can be loaded in this cell.\n",
    "# Note this used a package called Matplotlib.pyplot - one of many options for visualising your data. \n",
    "# Learning Visualisation is out of the scope of this course\n",
    "\n",
    "%load ../solutions/chapter_6/pdcutvisualisationcode.py"
   ]
  },
  {
   "cell_type": "markdown",
   "metadata": {},
   "source": [
    "[return to menu](#menu)"
   ]
  },
  {
   "cell_type": "markdown",
   "metadata": {},
   "source": [
    "<a id='agg'></a>\n",
    "<hr style=\"width:100%;height:4px;border-width:0;color:gray;background-color:#003d59; opacity:1\"> "
   ]
  },
  {
   "cell_type": "markdown",
   "metadata": {},
   "source": [
    "## Aggregation"
   ]
  },
  {
   "cell_type": "markdown",
   "metadata": {},
   "source": [
    "Aggregation means grouping data together by a particular grouping variable and producing a summary of one or more columns for that grouping variable.\n",
    "\n",
    "I want to find out if the average fare paid is different for each passenger class.\n",
    "\n",
    "We have 3 passenger classes; 1st, 2nd and 3rd.\n",
    "\n",
    "We can check that using the `.unique()` function as we saw earlier.\n"
   ]
  },
  {
   "cell_type": "code",
   "execution_count": null,
   "metadata": {
    "collapsed": true
   },
   "outputs": [],
   "source": [
    "titanic[\"pclass\"].unique()"
   ]
  },
  {
   "cell_type": "markdown",
   "metadata": {},
   "source": [
    "We'll use the .groupby() method in this tutorial. Panda's also provides us with the pd.crosstab() and the pd.pivot_table() methods as well. You can find these in the additional materials chapter.\n",
    "\n",
    "This function can be really useful, especially when your data are disaggregate  - e.g. data about individual units of people or things.\n",
    "\n",
    ".groupby() allows us to aggregate by a categorical variable and summarise numerical data into a new DataFrame.\n",
    "\n",
    ".groupby() works on a principle known as 'split-apply-combine':\n"
   ]
  },
  {
   "cell_type": "markdown",
   "metadata": {},
   "source": [
    "![image showing the stages of a group by](../images/group_by.JPG)"
   ]
  },
  {
   "cell_type": "markdown",
   "metadata": {},
   "source": [
    "Split - a DataFrame is divided into a set of smaller DataFrames based on the grouping variable. \n",
    "\n",
    "Apply - an aggregation is applied to each of the groups to create a single row for each group in the original DataFrame. \n",
    "\n",
    "Combine - bring together the aggregated DataFrame rows into a final new DataFrame.\n"
   ]
  },
  {
   "cell_type": "code",
   "execution_count": null,
   "metadata": {
    "collapsed": true
   },
   "outputs": [],
   "source": [
    "titanic_class_fare = titanic.groupby(by=\"pclass\")[\"fare\"].mean() \n",
    "\n",
    "titanic_class_fare"
   ]
  },
  {
   "cell_type": "markdown",
   "metadata": {},
   "source": [
    "I want to find if the `.mean()` value of the `Fare` was different depending where someone embarked.\n",
    "\n",
    "In the `.groupby()` method to the `by= ` parameter I pass the column I wish to group by.\n",
    "\n",
    "The column `pclass` has three values – \"1\" , \"2\" and \"3\".\n",
    "\n",
    "The `.groupby()` behaviour will effectively split the original DataFrame `titanic` into three new DataFrames. One with the values of `1`, one for \"2\" and one with the values of `3`. This is the **split** step.\n",
    "\n",
    "From these new `.groupby()` DataFrames I select the column `[\"fare\"]` and apply the summary statistic `.mean()` to it. This is the **apply** step.\n",
    "\n",
    "This is returned in the DataFrame “titanic_class_fare”, this is the **combine** step.\n",
    "\n",
    "We can also use more complicates groupings - here grouping first by `pclass` then `embarked`."
   ]
  },
  {
   "cell_type": "code",
   "execution_count": null,
   "metadata": {
    "collapsed": true
   },
   "outputs": [],
   "source": [
    "titanic.groupby(by=[\"pclass\", \"embarked\"])[\"fare\"].mean()"
   ]
  },
  {
   "cell_type": "markdown",
   "metadata": {},
   "source": [
    "The order we pass these columns affects our output.\n",
    "\n",
    "Note here with `embarked` and `pclass` reversed the resultant DataFrame is different."
   ]
  },
  {
   "cell_type": "code",
   "execution_count": null,
   "metadata": {
    "collapsed": true
   },
   "outputs": [],
   "source": [
    "titanic.groupby(by=[\"embarked\", \"pclass\"])[\"fare\"].mean()"
   ]
  },
  {
   "cell_type": "markdown",
   "metadata": {},
   "source": [
    "You can also use other summary statistics here – including `.count()` to return the number of values.\n",
    "\n",
    "\n",
    "Here 141 passengers were embarked in Cherbourg and were pclass 1."
   ]
  },
  {
   "cell_type": "code",
   "execution_count": null,
   "metadata": {
    "collapsed": true
   },
   "outputs": [],
   "source": [
    "titanic.groupby(by=[\"embarked\", \"pclass\"])[\"fare\"].count()"
   ]
  },
  {
   "cell_type": "markdown",
   "metadata": {},
   "source": [
    "[return to menu](#menu)"
   ]
  },
  {
   "cell_type": "markdown",
   "metadata": {},
   "source": [
    "<hr style=\"width:50%;height:4px;border-width:0;color:gray;background-color:#003d59; opacity:0.5\"> "
   ]
  },
  {
   "cell_type": "markdown",
   "metadata": {},
   "source": [
    "## Exercise 1\n",
    "\n",
    "\n"
   ]
  },
  {
   "cell_type": "markdown",
   "metadata": {},
   "source": [
    "Group `animals` by the column `AnimalClass` and find the `.sum()` of the `IncidentNominalCost(£)` column."
   ]
  },
  {
   "cell_type": "code",
   "execution_count": null,
   "metadata": {
    "collapsed": true
   },
   "outputs": [],
   "source": [
    "# Exercise\n",
    "\n"
   ]
  },
  {
   "cell_type": "code",
   "execution_count": null,
   "metadata": {
    "collapsed": true
   },
   "outputs": [],
   "source": [
    "# Solution - These cells contain answers for the exercises.\n",
    "#Run once to reveal the code.\n",
    "#Run again to reveal the output. \n",
    "\n",
    "%load ../solutions/chapter_6/animalclass_gb_incident_nominal.py\n"
   ]
  },
  {
   "cell_type": "markdown",
   "metadata": {},
   "source": [
    "<hr style=\"width:50%;height:4px;border-width:0;color:gray;background-color:#003d59; opacity:0.5\"> "
   ]
  },
  {
   "cell_type": "markdown",
   "metadata": {},
   "source": [
    "## Exercise 2\n",
    "\n",
    "\n"
   ]
  },
  {
   "cell_type": "markdown",
   "metadata": {},
   "source": [
    "Group `animals` by the column `Borough` and `AnimalClass` and find the `.mean()` of the `PumpHoursTotal` column."
   ]
  },
  {
   "cell_type": "code",
   "execution_count": null,
   "metadata": {
    "collapsed": true
   },
   "outputs": [],
   "source": [
    "# Exercise\n",
    "\n"
   ]
  },
  {
   "cell_type": "code",
   "execution_count": null,
   "metadata": {
    "collapsed": true
   },
   "outputs": [],
   "source": [
    "# Solution - These cells contain answers for the exercises.\n",
    "# Run once to reveal the code\n",
    "# Run again to reveal the output\n",
    "\n",
    "%load ../solutions/chapter_6/animalclass_groupby.py"
   ]
  },
  {
   "cell_type": "markdown",
   "metadata": {},
   "source": [
    "<hr style=\"width:50%;height:4px;border-width:0;color:gray;background-color:#003d59; opacity:0.5\"> "
   ]
  },
  {
   "cell_type": "markdown",
   "metadata": {},
   "source": [
    "If we want to do return more than one aggregation there is the `.agg()` method.\n",
    "\n",
    "This takes a dictionary where the key is our column and the value is the aggregation method we wish to apply as a string.\n",
    "\n",
    "These aggfuncs are slightly different to what we’ve seen, but are straightforward like “sum”, ”count”, ”mean” etc.\n"
   ]
  },
  {
   "cell_type": "code",
   "execution_count": null,
   "metadata": {
    "collapsed": true
   },
   "outputs": [],
   "source": [
    "animalclass_sum = animals.groupby(by=\"AnimalClass\", as_index = True).agg({\"IncidentNominalCost(£)\": \"sum\",\n",
    "                                                         \"PumpHoursTotal\": \"mean\"})\n",
    "\n",
    "animalclass_sum"
   ]
  },
  {
   "cell_type": "markdown",
   "metadata": {},
   "source": [
    "If we want to apply more than one aggregation to a column we can pass a list to the values of the dictionary.\n",
    "\n",
    "This requires us to use the numpy methods – so `np.sum` , `np.mean` etc."
   ]
  },
  {
   "cell_type": "code",
   "execution_count": null,
   "metadata": {
    "collapsed": true
   },
   "outputs": [],
   "source": [
    "animalclass_sum = animals.groupby(by=\"AnimalClass\").agg({\"IncidentNominalCost(£)\": [np.sum, np.mean],\n",
    "                                                         \"PumpHoursTotal\": \"mean\"})\n",
    "\n",
    "animalclass_sum"
   ]
  },
  {
   "cell_type": "markdown",
   "metadata": {},
   "source": [
    "In later versions of Pandas (from 0.25.0) named aggregation also exists. [The help guide can be found here]( https://pandas-docs.github.io/pandas-docs-travis/user_guide/groupby.html#named-aggregation)"
   ]
  },
  {
   "cell_type": "markdown",
   "metadata": {},
   "source": [
    "Note that these DataFrames look a little different to the ones we’ve seen so far. The index is our grouping categories.\n",
    "\n",
    "We can use the parameter `as_index = False` to reset it - or we could do a `.reset_index()` method we have seen previously. There are a few reasons we might do this, including visualisation.\n"
   ]
  },
  {
   "cell_type": "code",
   "execution_count": null,
   "metadata": {
    "collapsed": true
   },
   "outputs": [],
   "source": [
    "group_by_dropped_index = titanic.groupby(by=[\"embarked\", \"pclass\"], as_index = False)[\"fare\"].count()\n",
    "\n",
    "group_by_dropped_index"
   ]
  },
  {
   "cell_type": "markdown",
   "metadata": {},
   "source": [
    "<a id='END'></a>\n",
    "<hr style=\"width:100%;height:4px;border-width:0;color:gray;background-color:#003d59; opacity:1\"> "
   ]
  },
  {
   "cell_type": "markdown",
   "metadata": {},
   "source": [
    "## End of Chapter"
   ]
  },
  {
   "cell_type": "markdown",
   "metadata": {},
   "source": [
    "In this chapter we’ve explored:\n",
    "* Overall descriptive statistics\n",
    "* Range\n",
    "* Averages\n",
    "* Spread\n",
    "* Counting Values\n",
    "* Other general summary statistics\n",
    "* Size Bands\n",
    "* Aggregation.\n",
    "\n",
    "\n",
    "You have completed chapter 6 of the Introduction to Python course. Please move on to chapter 7."
   ]
  },
  {
   "cell_type": "markdown",
   "metadata": {},
   "source": [
    "[return to menu](#menu)"
   ]
  }
 ],
 "metadata": {
  "kernelspec": {
   "display_name": "Python 3",
   "language": "python",
   "name": "python3"
  },
  "language_info": {
   "codemirror_mode": {
    "name": "ipython",
    "version": 3
   },
   "file_extension": ".py",
   "mimetype": "text/x-python",
   "name": "python",
   "nbconvert_exporter": "python",
   "pygments_lexer": "ipython3",
   "version": "3.6.1"
  },
  "toc": {
   "base_numbering": 1,
   "nav_menu": {},
   "number_sections": false,
   "sideBar": true,
   "skip_h1_title": false,
   "title_cell": "Table of Contents",
   "title_sidebar": "Contents",
   "toc_cell": false,
   "toc_position": {},
   "toc_section_display": true,
   "toc_window_display": false
  }
 },
 "nbformat": 4,
 "nbformat_minor": 2
}
