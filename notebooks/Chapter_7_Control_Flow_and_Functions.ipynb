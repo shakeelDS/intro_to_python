{
 "cells": [
  {
   "cell_type": "markdown",
   "metadata": {},
   "source": [
    "<a id='menu'></a>\n",
    " <hr style=\"width:100%;height:4px;border-width:0;color:gray;background-color:#003d59; opacity:0.25\"> \n",
    "\n",
    " ![learning academy and data science campus logos](../images/la_dsc_logo.jpg)\n",
    "  <hr style=\"width:100%;height:4px;border-width:0;color:gray;background-color:#003d59; opacity:0.25\"> "
   ]
  },
  {
   "cell_type": "markdown",
   "metadata": {},
   "source": [
    "<a id='menu'></a>\n",
    "# Introduction to Python\n",
    "\n",
    "## Chapter 7 – Control Flow and Functions\n",
    "***\n",
    "Follow along with the code by running cells as you encounter them\n",
    "***\n",
    "*Chapter Overview/ Learning Objectives*\n",
    "\n",
    "* [Packages and Data](#packages)\n",
    " * Packages\n",
    " * Data\n",
    " \n",
    "\n",
    "* [Comparison and Logical Operators](#comparison)\n",
    " * Comparison operators\n",
    " * Logical operators\n",
    " \n",
    " \n",
    "* [Loops / Control Flow](#flow)\n",
    " * For Loops\n",
    " * While Loops\n",
    " * If, Elif, Else \n",
    " * Exercise\n",
    " * List comprehension\n",
    "\n",
    "\n",
    "* [Functions](#functions)\n",
    " * Basic structure\n",
    " * Named paramaters\n",
    " * Default Values\n",
    " * Scope\n",
    " * Docstrings\n",
    " * Indentation\n",
    " * Exercise\n",
    " \n",
    "\n",
    " * [Functions for DataFrames](#functions_dataframes)"
   ]
  },
  {
   "cell_type": "markdown",
   "metadata": {},
   "source": [
    "<a id='packages'></a>\n",
    "<hr style=\"width:100%;height:4px;border-width:0;color:gray;background-color:#003d59; opacity:1\">  "
   ]
  },
  {
   "cell_type": "markdown",
   "metadata": {},
   "source": [
    "## Packages and Data"
   ]
  },
  {
   "cell_type": "markdown",
   "metadata": {},
   "source": [
    "### Packages\n",
    "\n",
    "As a reminder – we should always import our packages at the top of our script.\n",
    "\n",
    "\n",
    "In this session we will use `pandas`, and give it the nickname `pd`\n",
    "\n",
    "Complete this action in the cell below."
   ]
  },
  {
   "cell_type": "code",
   "execution_count": null,
   "metadata": {
    "collapsed": true
   },
   "outputs": [],
   "source": [
    "# Import pandas into this cell\n"
   ]
  },
  {
   "cell_type": "markdown",
   "metadata": {},
   "source": [
    "You can run the \"solution\" cell if you need help - or revisit module 2.\n",
    "\n",
    "Practicing these basic commands helps your retention of the skills."
   ]
  },
  {
   "cell_type": "code",
   "execution_count": null,
   "metadata": {
    "collapsed": true
   },
   "outputs": [],
   "source": [
    "# Solution - These cells contain answers for the exercises.\n",
    "#Run once to reveal the code.\n",
    "#Run again to reveal the output. \n",
    "\n",
    "%load ../solutions/chapter_7/importpandas.py"
   ]
  },
  {
   "cell_type": "markdown",
   "metadata": {
    "collapsed": true
   },
   "source": [
    "Load in the data:\n",
    "\n",
    "| variable name | file name  |\n",
    "| ---           | --- |\n",
    "| animals | animals.csv |\n",
    "| titanic | titanic.xlsx |\n",
    "\n"
   ]
  },
  {
   "cell_type": "code",
   "execution_count": null,
   "metadata": {
    "collapsed": true
   },
   "outputs": [],
   "source": [
    "# Load the Data \n",
    "\n"
   ]
  },
  {
   "cell_type": "code",
   "execution_count": null,
   "metadata": {
    "collapsed": true
   },
   "outputs": [],
   "source": [
    "# Solution - These cells contain answers for the exercises.\n",
    "#Run once to reveal the code.\n",
    "#Run again to reveal the output. \n",
    "\n",
    "%load ../solutions/chapter_7/chaptersixdata.py\n"
   ]
  },
  {
   "cell_type": "markdown",
   "metadata": {},
   "source": [
    "Practicing these basic commands helps your retention of the skills.\n",
    "\n",
    "This chapter uses the same data as chapter 6.\n",
    "\n",
    "You can run the \"solution\" cell if you need help - or revisit chapter 3.\n",
    "\n",
    "You can check your variables are loaded by using `%whos` in Jupyter. In Spyder or other IDE's they should appear in your variable explorer. \n",
    "\n",
    "If you struggle with this section – review Chapter 3."
   ]
  },
  {
   "cell_type": "code",
   "execution_count": null,
   "metadata": {
    "collapsed": true
   },
   "outputs": [],
   "source": [
    "%whos"
   ]
  },
  {
   "cell_type": "markdown",
   "metadata": {},
   "source": [
    "[return to menu](#menu)"
   ]
  },
  {
   "cell_type": "markdown",
   "metadata": {},
   "source": [
    "<a id='comparison'></a>\n",
    "<hr style=\"width:100%;height:4px;border-width:0;color:gray;background-color:#003d59; opacity:1\">   "
   ]
  },
  {
   "cell_type": "markdown",
   "metadata": {},
   "source": [
    "## Comparison and Logical Operators\n",
    "\n",
    "When we use control flow or functions, we will often use comparison operators.\n",
    "\n",
    "As a reminder our comparison operators are:\n",
    "\n",
    "|Operator | Description|\n",
    "|--------------|-----------------|\n",
    "|== | Equivalent to |\n",
    "|!= | Not equivalent to|\n",
    "|< | Less than|\n",
    "|<= | Less than or equal to|\n",
    "|> | Greater than|\n",
    "|>= | Greater than or equal to|\n",
    "\n",
    "Our comparison operators return us a Boolean value = `True` or `False`.\n",
    "\n",
    "Test yourself to see if your prediction matches the results from the cell below."
   ]
  },
  {
   "cell_type": "code",
   "execution_count": null,
   "metadata": {
    "collapsed": true
   },
   "outputs": [],
   "source": [
    "print(4 == 2)\n",
    "print(\"Hannah\" != \"hannah\")\n",
    "print(True > False)\n",
    "print(1 > 0) # Same as the one above - think about the numbers behind Boolean values"
   ]
  },
  {
   "cell_type": "markdown",
   "metadata": {},
   "source": [
    "This also applies to `pandas` Series where it checks each element individually."
   ]
  },
  {
   "cell_type": "code",
   "execution_count": null,
   "metadata": {
    "collapsed": true
   },
   "outputs": [],
   "source": [
    "(titanic[\"sex\"] == \"female\").head()"
   ]
  },
  {
   "cell_type": "markdown",
   "metadata": {},
   "source": [
    "<hr style=\"width:75%;height:4px;border-width:0;color:gray;background-color:#003d59; opacity:0.75\"> "
   ]
  },
  {
   "cell_type": "markdown",
   "metadata": {},
   "source": [
    "We also have our logical operators:\n",
    "\n",
    "|Operator | Description |\n",
    "|--------------|-------------- |\n",
    "| & | And |\n",
    "| &#124; | Or |\n",
    "| ! | Not |\n",
    "\n",
    "We can use these to join our conditional statements, like we've seen when we did filters.\n",
    "\n",
    "As a reminder of how these work - here's our `Truth table` from chapter 4 again\n",
    "\n",
    "\n",
    "| Condition 1 | Condition 2  | & (AND) Equates to | &#124; (OR) Equates to |\n",
    "|:-----------:|:------------:|:------------------:|:------------------:|\n",
    "|     True    |     True     |        True        |        True        |\n",
    "|     True    |     False    |        False       |        True        |\n",
    "|    False    |     True     |        False       |        True        |\n",
    "|    False    |     False    |        False       |        False       |\n",
    "\n",
    "Here I've filtered the `titanic` dataframe to show female passengers with a recorded age under 18."
   ]
  },
  {
   "cell_type": "code",
   "execution_count": null,
   "metadata": {
    "collapsed": true
   },
   "outputs": [],
   "source": [
    "titanic_f_kids = titanic[(titanic[\"sex\"] == \"female\") & (titanic[\"age\"] < 18)]\n",
    "\n",
    "titanic_f_kids.head()"
   ]
  },
  {
   "cell_type": "markdown",
   "metadata": {},
   "source": [
    "<a id='flow'></a>\n",
    "<hr style=\"width:100%;height:4px;border-width:0;color:gray;background-color:#003d59; opacity:1\">   "
   ]
  },
  {
   "cell_type": "markdown",
   "metadata": {},
   "source": [
    "## Loops / Control Flow"
   ]
  },
  {
   "cell_type": "markdown",
   "metadata": {},
   "source": [
    "We use these conditional statements and comparison operators when we create loops and control flow.\n",
    "\n",
    "Loops are useful for when we need to repeat a section of code, such as for each piece of data in a list. \n",
    "\n",
    "Python gives us two forms of loops, a `for` loop and a `while` loop."
   ]
  },
  {
   "cell_type": "markdown",
   "metadata": {},
   "source": [
    "<hr style=\"width:75%;height:4px;border-width:0;color:gray;background-color:#003d59; opacity:0.75\"> "
   ]
  },
  {
   "cell_type": "markdown",
   "metadata": {},
   "source": [
    "\n",
    "### For Loops\n",
    "\n",
    "`for` loops take each item in an iterable and repeat the action over it.\n",
    "\n",
    "An iterable is something we can iterate over.\n",
    "\n",
    "We've seen a few of these so far, thinks like strings or more commonly lists, tuples or ranges.\n",
    "\n",
    "Essentially an object that contains things we can go over in turn.\n",
    "\n",
    "\n",
    "```python\n",
    "\n",
    "for each_thing in my_iterable:\n",
    "    do_this_action()\n",
    "\n",
    "```\n",
    "For example:\n",
    "\n",
    "![For Loop as a flow diagram](../images/for_loop.png)\n",
    "\n",
    "\n",
    "For loops start with the keyword `for`. \n",
    "\n",
    "This is followed by a variable that refers to each item within my iterable in turn.\n",
    "\n",
    "The keyword `in` is followed by the iterable I want to loop over. \n",
    "\n",
    "The line is finished with a colon `:`. This tells python that whatever follows belongs to this loop.\n",
    "\n",
    "The next lines contain the actions that will happen for each item in the iterable. This is indented by 4 spaces or a tab. Most code writing tools will automatically indent for you."
   ]
  },
  {
   "cell_type": "code",
   "execution_count": null,
   "metadata": {
    "collapsed": true
   },
   "outputs": [],
   "source": [
    "# Create my iterable\n",
    "number_list = [0, 1, 2, 3, 4, 5]\n",
    "\n",
    "# Create my for loop\n",
    "for each_number in number_list:\n",
    "    print(each_number*2)"
   ]
  },
  {
   "cell_type": "markdown",
   "metadata": {},
   "source": [
    "Here I’ve created a list called `number_list` with the numbers 0 to 5.\n",
    "\n",
    "Again the keyword `for` is followed by a variable that refers to each item in my iterable at a givin point in the loop. I’ve called this variable `each_number` . You’ll often see letters like `i` used here.\n",
    "\n",
    "The keyword `in` is followed by the iterable I want to loop over and the line is finished with a colon `:` .\n",
    "\n",
    "My action is indented (by 4 spaces or a tab – but Jupyter did this automatically), and tells the computer to use the `print()` function to print `each_number` multiplied by 2.\n"
   ]
  },
  {
   "cell_type": "markdown",
   "metadata": {},
   "source": [
    "The following uses the built-in `range` function, and has the exact same effect. "
   ]
  },
  {
   "cell_type": "code",
   "execution_count": null,
   "metadata": {
    "collapsed": true,
    "scrolled": false
   },
   "outputs": [],
   "source": [
    "for each_item in range(6): #Remember the last number is exclusive!\n",
    "    print(each_item*2)"
   ]
  },
  {
   "cell_type": "markdown",
   "metadata": {},
   "source": [
    "This is really basic – but obviously can be applied to more complicated things.\n",
    "\n",
    "Slightly more complicated - we can also use functions within our `For` loops.\n",
    "\n",
    "Here we’re using the `len()` function to return the length of the string of each day of the week."
   ]
  },
  {
   "cell_type": "code",
   "execution_count": null,
   "metadata": {
    "collapsed": true
   },
   "outputs": [],
   "source": [
    "days_list = [\"Monday\", \"Tuesday\", \"Wednesday\", \"Thursday\",\n",
    "             \"Friday\", \"Saturday\", \"Sunday\"]\n",
    "\n",
    "for day in days_list:\n",
    "    print(day, \"has\", len(day), \"letters\")"
   ]
  },
  {
   "cell_type": "markdown",
   "metadata": {},
   "source": [
    "I want to add each day and it’s length as a list into a new list called days_and_length.\n",
    "\n",
    "I create a new blank list using []\n",
    "\n",
    "In my `for` loop I use `.append()` to add a list of the day and the number of letters in the day to my list.\n"
   ]
  },
  {
   "cell_type": "code",
   "execution_count": null,
   "metadata": {
    "collapsed": true
   },
   "outputs": [],
   "source": [
    "days_list = [\"Monday\", \"Tuesday\", \"Wednesday\", \"Thursday\",\n",
    "             \"Friday\", \"Saturday\", \"Sunday\"]\n",
    "\n",
    "days_and_length = [] # Create a new blank list\n",
    "\n",
    "for day in days_list:\n",
    "    days_and_length.append( [ day, len(day)] )\n",
    "    \n",
    "# Return my new list\n",
    "\n",
    "days_and_length"
   ]
  },
  {
   "cell_type": "markdown",
   "metadata": {},
   "source": [
    "<hr style=\"width:50%;height:4px;border-width:0;color:gray;background-color:#003d59; opacity:0.5\"> "
   ]
  },
  {
   "cell_type": "markdown",
   "metadata": {},
   "source": [
    "## Exercise:\n",
    "\n",
    "You are given a list of measurements that are grams (g). \n",
    "\n",
    "Write a for loop to convert all of these measurements to kilograms (kg).\n",
    "\n",
    "For reference, 1kg is the same as 1000 grams."
   ]
  },
  {
   "cell_type": "code",
   "execution_count": null,
   "metadata": {
    "collapsed": true
   },
   "outputs": [],
   "source": [
    "# Exercise\n",
    "\n",
    "grams = [100000, 7899900, 967312, 49185, 6100]\n",
    "\n",
    "\n"
   ]
  },
  {
   "cell_type": "code",
   "execution_count": null,
   "metadata": {
    "collapsed": true
   },
   "outputs": [],
   "source": [
    "# Solution - These cells contain answers for the exercises.\n",
    "# Run once to reveal the code\n",
    "# Run again to reveal the output\n",
    "\n",
    "%load ../solutions/chapter_7/weight_conversion.py"
   ]
  },
  {
   "cell_type": "markdown",
   "metadata": {},
   "source": [
    "<hr style=\"width:70%;height:4px;border-width:0;color:gray;background-color:#003d59; opacity:0.75\"> "
   ]
  },
  {
   "cell_type": "markdown",
   "metadata": {},
   "source": [
    "It’s also worth remembering here that while loops can be useful, they can also be less efficient than inbuilt Python methods. \n",
    "\n",
    "I could use a `for` loop to go through each row of the `titanic` dataframe and find each persons fare as a % of the whole. While this wouldn’t be an incorrect use of code; it would be more inefficient then creating a new column using the `pandas` methods we’ve seen in pervious chapters. \n",
    "\n",
    "It’s always good to think when faced with a scenario where you loop – is there a more “pythonic” way of doing this action.\n"
   ]
  },
  {
   "cell_type": "markdown",
   "metadata": {},
   "source": [
    "<hr style=\"width:70%;height:4px;border-width:0;color:gray;background-color:#003d59; opacity:0.75\"> "
   ]
  },
  {
   "cell_type": "markdown",
   "metadata": {},
   "source": [
    "### While Loops\n",
    "\n",
    "Our other type of loops are `while` loops.\n",
    "\n",
    "`For` loops iterate a set amount of times, or over a set number of things. A while loop iterates until it no longer meets a certain condition.\n",
    "\n",
    "\n",
    "```python\n",
    "condition = value\n",
    "\n",
    "while condition is True:\n",
    "    do_this_action()\n",
    "\n",
    "```\n",
    "\n",
    "![While Loop as a flow diagram](../images/while_loop.png)\n",
    "\n",
    "\n",
    "First we have to set our conditon - here `stop_value = 0`.\n",
    "\n",
    "We start the for loop with the keyword `while` followed by our conditional statement and we finish, as with the for loop, with a colon `:`.\n",
    "\n",
    "Underneath, as before we have the instructions that will be carried out until the condition equates to `False`.\n",
    "\n",
    "Here we’re printing out the value and then adding 1 to it; `+= 1` is a convenient way of adding `1` to a number.\n",
    "\n",
    "It is important that our condition at some point will change so that the `while` loop will stop, or else it will continue running \"forever\" (you can always stop your code running with the stop button)."
   ]
  },
  {
   "cell_type": "code",
   "execution_count": null,
   "metadata": {
    "collapsed": true
   },
   "outputs": [],
   "source": [
    "stop_value = 0\n",
    "\n",
    "while stop_value < 5:\n",
    "    print(stop_value)\n",
    "    stop_value += 1  # This is short hand for adding something to a value. -=, /= and *= also work!"
   ]
  },
  {
   "cell_type": "markdown",
   "metadata": {},
   "source": [
    "What happens if you put the `print()` statement after the `stop_value += 1`?"
   ]
  },
  {
   "cell_type": "code",
   "execution_count": null,
   "metadata": {
    "collapsed": true
   },
   "outputs": [],
   "source": [
    "stop_value = 0\n",
    "\n",
    "while stop_value < 5 :\n",
    "    stop_value += 1\n",
    "    print(stop_value)"
   ]
  },
  {
   "cell_type": "markdown",
   "metadata": {},
   "source": [
    "What happens if you remove the `stop_value += 1` condition?\n",
    "\n",
    "To escape your infinite loop press the solid square \"stop\" button on the menu bar."
   ]
  },
  {
   "cell_type": "code",
   "execution_count": null,
   "metadata": {
    "collapsed": true
   },
   "outputs": [],
   "source": [
    "stop_value = 0\n",
    "\n",
    "while stop_value < 5 :\n",
    "    print(stop_value)\n",
    "    \n",
    "# This will loop forever and ever and ever"
   ]
  },
  {
   "cell_type": "markdown",
   "metadata": {},
   "source": [
    "<hr style=\"width:50%;height:4px;border-width:0;color:gray;background-color:#003d59; opacity:0.5\"> "
   ]
  },
  {
   "cell_type": "markdown",
   "metadata": {},
   "source": [
    "What is the difference in output if we put the print statement after `stop_value += 1`?"
   ]
  },
  {
   "cell_type": "markdown",
   "metadata": {},
   "source": [
    "## Exercise:\n",
    "\n",
    "Code a `while` loop with the following characteristics:\n",
    "\n",
    "Assign the value of a variable `temperature` to be 40.\n",
    "\n",
    "The condition of the `while` loop, should check if the `temperature` is higher than 20.\n",
    "\n",
    "The first command in the body should print out `\"Its way too hot, it's\"` followed by the current value of `temperature`.\n",
    "\n",
    "The next command should decrease the `temperature` by 2 and assign this new value to `temperature` again."
   ]
  },
  {
   "cell_type": "code",
   "execution_count": null,
   "metadata": {
    "collapsed": true
   },
   "outputs": [],
   "source": [
    "# Exercise\n",
    "\n"
   ]
  },
  {
   "cell_type": "code",
   "execution_count": null,
   "metadata": {
    "collapsed": true
   },
   "outputs": [],
   "source": [
    "# Solution - These cells contain answers for the exercises.\n",
    "#Run once to reveal the code.\n",
    "#Run again to reveal the output. \n",
    "\n",
    "%load ../solutions/chapter_7/while_exercise.py\n"
   ]
  },
  {
   "cell_type": "markdown",
   "metadata": {},
   "source": [
    "<hr style=\"width:70%;height:4px;border-width:0;color:gray;background-color:#003d59; opacity:0.75\"> "
   ]
  },
  {
   "cell_type": "markdown",
   "metadata": {},
   "source": [
    "### If, Elif and Else\n",
    "\n",
    "`if, elif and else` are not loops, but fall under the category of control flow.\n",
    "\n",
    "\n",
    "These take a conditional argument, and if that is met (evaluates to `True`) then the associated action is completed.\n",
    "\n",
    "\n",
    "If the condition is not met it will move to an `elif` (if present) and if that condition is met the associated action will be completed.\n",
    "\n",
    "\n",
    "Finally, if none of the conditions are met the actions in the `else` block are executed.\n",
    "\n",
    "\n",
    "These conditional statements allow us to execute different bits of code depending on which condition is met. This gives us a lot of flexibility.\n",
    "\n",
    "``` python\n",
    "condition = value\n",
    "\n",
    "if condition_1:\n",
    "    do_action_1()\n",
    "elif condition_2:\n",
    "    do_action_2()\n",
    "else:\n",
    "    do_action_3()\n",
    "```\n",
    "\n",
    "![If, Elif and Else as a flow diagram](../images/if_elif_else.png)\n"
   ]
  },
  {
   "cell_type": "code",
   "execution_count": null,
   "metadata": {
    "collapsed": true
   },
   "outputs": [],
   "source": [
    "my_height = 6\n",
    "\n",
    "if my_height == 5:\n",
    "    print(\"We're the same height\")\n",
    "\n",
    "else:\n",
    "    print(\"Your height is different\")"
   ]
  },
  {
   "cell_type": "markdown",
   "metadata": {},
   "source": [
    "Remember our `if`, `elif` and `else` statements take a contion so we need a double equals sign (`==`) for checking equivalency.\n",
    "\n",
    "We can just have an `if`, or we can just have an `if` and an `else`. \n",
    "\n",
    "If the first criteria isn’t met it will move to an `elif` if one exists and evaluate that statement. If `True` that code will be actioned.\n",
    "\n",
    "If the `elif` equates to `False` it will skip that code block and move to the next `elif` if one exists. If not it will skip to the `else`.\n",
    "\n",
    "Note both `if` and `else` are at the same level of indentation with their respective commands indented.\n",
    "\n",
    "We can add in more choices using an `elif` statement"
   ]
  },
  {
   "cell_type": "code",
   "execution_count": null,
   "metadata": {
    "collapsed": true
   },
   "outputs": [],
   "source": [
    "my_height = 7\n",
    "\n",
    "if my_height == 5:\n",
    "    print(\"We're the same height\")\n",
    "\n",
    "elif my_height > 7:\n",
    "    print(\"You're tall!\")\n",
    "\n",
    "else:\n",
    "    print(\"Your height is different\")"
   ]
  },
  {
   "cell_type": "markdown",
   "metadata": {},
   "source": [
    "We can use multiple conditions too - using our logical operators too - & (and) , | (or)\n",
    "\n",
    "Like our filters each condition gets it's own set of round brackets."
   ]
  },
  {
   "cell_type": "code",
   "execution_count": null,
   "metadata": {
    "collapsed": true
   },
   "outputs": [],
   "source": [
    "my_height = 9\n",
    "\n",
    "if (my_height == 5):\n",
    "    print(\"We're the same height\")\n",
    "\n",
    "elif (my_height > 7) & (my_height < 10):\n",
    "    print(\"You're tall!\")\n",
    "\n",
    "else:\n",
    "    print(\"Your height is different\")"
   ]
  },
  {
   "cell_type": "code",
   "execution_count": null,
   "metadata": {
    "collapsed": true
   },
   "outputs": [],
   "source": [
    "my_height = 11\n",
    "\n",
    "if my_height == 5:\n",
    "    print(\"We're the same height\")\n",
    "\n",
    "elif my_height > 7 & my_height < 10:\n",
    "    print(\"You're tall!\")\n",
    "\n",
    "else:\n",
    "    print(\"Your height is different\")"
   ]
  },
  {
   "cell_type": "markdown",
   "metadata": {},
   "source": [
    "Here we want the action to happen if the value is greater than 7 and less than 10.\n",
    "\n",
    "The brackets are important as they tell Python to evaluate the elif as a whole.\n",
    "\n",
    "If we didn't have the brackets inputing 11 still evaluates as \"You're tall\" because it meets the condition `my_height > 7` and performs the action."
   ]
  },
  {
   "cell_type": "code",
   "execution_count": null,
   "metadata": {
    "collapsed": true
   },
   "outputs": [],
   "source": [
    "my_height = 5\n",
    "\n",
    "if (my_height == 5):\n",
    "    print(\"We're the same height\")\n",
    "\n",
    "elif (my_height > 7) & (my_height < 10):\n",
    "    print(\"You're tall!\")\n",
    "    \n",
    "elif (my_height == 5):\n",
    "    print(\"Wow, it's still 5!\")\n",
    "\n",
    "else:\n",
    "    print(\"Your height is different\")"
   ]
  },
  {
   "cell_type": "markdown",
   "metadata": {},
   "source": [
    "It’s important to know how the `if, elif, else` works.\n",
    "\n",
    "Here we have two option for when the value is 5.\n",
    "\n",
    "However it will only print out  ` “We’re the same height!” ` \n",
    "\n",
    "When the condition is met it performs the action associated with it and then stops evaluating the rest of the conditional code.\n"
   ]
  },
  {
   "cell_type": "markdown",
   "metadata": {
    "collapsed": true
   },
   "source": [
    "Try changing the value stored in `my_height` to see the other results.\n",
    "\n",
    "If you use other languages you may be used to using switch cases; or `case_when()` in R.\n",
    "Python does not support switch cases currently, in fact a [proposal]( https://www.python.org/dev/peps/pep-3103/) for including a switch case was rejected.\n",
    "\n",
    "There are ways to implement something similar using either functions or classes. [This tutorial]( https://data-flair.training/blogs/python-switch-case/ ) from Data Flair explains how.\n"
   ]
  },
  {
   "cell_type": "markdown",
   "metadata": {},
   "source": [
    "<hr style=\"width:50%;height:4px;border-width:0;color:gray;background-color:#003d59; opacity:0.5\"> "
   ]
  },
  {
   "cell_type": "markdown",
   "metadata": {},
   "source": [
    "## Exercise\n",
    "\n",
    "Can you write a loop with an if, elif and else statement, that loops through the numbers from 1 to 30.\n",
    "\n",
    "* If the number is a multiple of both 3 and 5, print FizzBuzz. \n",
    "\n",
    "* If the number is a mutiple of 3, print the word Fizz. \n",
    "\n",
    "* If the number is a mutiple of 5, print the word Buzz.\n",
    "\n",
    "* For all other values print the number.\n",
    "\n",
    "You can use the modulus operator for this - this is the % in python, and shows us our remainder.\n",
    "\n",
    "For example checking if something is completely divisible by 7 we could do\n",
    "\n",
    "`item % 7 == 0`\n",
    "\n",
    "If this returns `True` we know it's divisible by 7, if it returns `False` then it's not!"
   ]
  },
  {
   "cell_type": "code",
   "execution_count": null,
   "metadata": {
    "collapsed": true
   },
   "outputs": [],
   "source": [
    "# Example of Modulo\n",
    "\n",
    "10 % 3 == 0\n",
    "\n",
    "# Returns False (10 / 3 has a remainder of 1 - so does not have a remainder of 0)"
   ]
  },
  {
   "cell_type": "code",
   "execution_count": null,
   "metadata": {
    "collapsed": true
   },
   "outputs": [],
   "source": [
    "# Second example of Modulo\n",
    "\n",
    "9 % 3 == 0\n",
    "\n",
    "# Returns True (9 / 3 has a remainder of 0  )"
   ]
  },
  {
   "cell_type": "code",
   "execution_count": null,
   "metadata": {
    "collapsed": true
   },
   "outputs": [],
   "source": [
    "# Exercise\n",
    "\n"
   ]
  },
  {
   "cell_type": "markdown",
   "metadata": {},
   "source": [
    "Running this cell will give you what we expect your output to look like."
   ]
  },
  {
   "cell_type": "code",
   "execution_count": null,
   "metadata": {
    "collapsed": true
   },
   "outputs": [],
   "source": [
    "# This will show you what we expect as an output\n",
    "\n",
    "%load ../solutions/chapter_7/Fizz_Buzz_Output.py"
   ]
  },
  {
   "cell_type": "markdown",
   "metadata": {},
   "source": [
    "The cell below will give you some Pseudocode - an idea of how to structure your code if you're stuck!\n",
    "\n",
    "This is the general structure and concepts you need to use in written English rather than in the Python programming language."
   ]
  },
  {
   "cell_type": "code",
   "execution_count": null,
   "metadata": {
    "collapsed": true
   },
   "outputs": [],
   "source": [
    "# This is pseudo code!\n",
    "# Code written in english to help you stucture your code.\n",
    "# It will not work if you run it\n",
    "\n",
    "%load ../solutions/chapter_7/ifelifpseudocode.py\n"
   ]
  },
  {
   "cell_type": "markdown",
   "metadata": {},
   "source": [
    "Solution Cell:"
   ]
  },
  {
   "cell_type": "code",
   "execution_count": null,
   "metadata": {
    "collapsed": true
   },
   "outputs": [],
   "source": [
    "# Solution - These cells contain answers for the exercises.\n",
    "# Run once to reveal the code\n",
    "# Run again to reveal the output\n",
    "\n",
    "%load ../solutions/chapter_7/control_flow_exercise.py"
   ]
  },
  {
   "cell_type": "markdown",
   "metadata": {},
   "source": [
    "<hr style=\"width:70%;height:4px;border-width:0;color:gray;background-color:#003d59; opacity:0.75\"> "
   ]
  },
  {
   "cell_type": "markdown",
   "metadata": {},
   "source": [
    "### List Comprehension\n",
    "\n",
    "A useful tool within Python is list comprehensions.\n",
    "\n",
    "I have a list of numbers, and I want to double them.\n",
    "\n",
    "I can create a new list and use a for loop to append the new list with the numbers doubled – like so:\n",
    "\n",
    "This method is very robust. \n",
    "\n",
    "It allows us to store the data in the same order as our original list, and it’s perfect for intermediate to complex cases. \n",
    "\n",
    "This is especially true if we’re using complex logic, multiple commands and conditional statements."
   ]
  },
  {
   "cell_type": "code",
   "execution_count": null,
   "metadata": {
    "collapsed": true,
    "scrolled": true
   },
   "outputs": [],
   "source": [
    "numbers = [1, 2, 3, 4, 5, 6, 7, 8, 9, 10]\n",
    "\n",
    "double_list = [] # We can create a blank list to store our doubled numbers\n",
    "\n",
    "for each_number in numbers:\n",
    "    double_list.append(each_number * 2) \n",
    "    \n",
    "print(double_list)\n"
   ]
  },
  {
   "cell_type": "markdown",
   "metadata": {},
   "source": [
    "You may see something called list comprehension here instead. List comprehension condenses down the code into one line.\n",
    "\n",
    "We put our actions within square brackets `[]` to create our list.\n",
    "\n",
    "We then write our action. This looks quite similar to how we could write in plain English.\n",
    "\n",
    "Here – take each_number and multiply it by 2 for each_number in the numbers list."
   ]
  },
  {
   "cell_type": "code",
   "execution_count": null,
   "metadata": {
    "collapsed": true
   },
   "outputs": [],
   "source": [
    "# take each number in the numbers list and double it\n",
    "\n",
    "numbers = [1, 2, 3, 4, 5, 6, 7, 8, 9, 10]\n",
    "\n",
    "double_list_comprehension = [(each_number * 2) for each_number in numbers]\n",
    "\n",
    "double_list_comprehension"
   ]
  },
  {
   "cell_type": "markdown",
   "metadata": {
    "collapsed": true
   },
   "source": [
    " Comprehensions can be a really useful tool; here we're just using a `for` loop - but they can also be used for control flow.\n",
    " \n",
    "[Geeks for Geeks tutorial on comprehensions](https://www.geeksforgeeks.org/comprehensions-in-python/) is useful for understanding more about this concept and more advanced things you can do with list comprehensions and dictionary comprehensions.\n",
    "\n",
    "[Corey Schafer's Youtube Video](https://www.youtube.com/watch?v=3dt4OGnU5sM) on comprehensions and when you should use them is also a great introduction.\n",
    "\n",
    "Remember though that comprehensions can be harder for humans to read, and require a bit more understanding about how they work. \n",
    "As mentioned above if you have complicated logic or multiple commands using a for loop may be better, and more readable."
   ]
  },
  {
   "cell_type": "markdown",
   "metadata": {},
   "source": [
    "[return to menu](#menu)"
   ]
  },
  {
   "cell_type": "markdown",
   "metadata": {},
   "source": [
    "<a id='functions'></a>\n",
    "<hr style=\"width:100%;height:4px;border-width:0;color:gray;background-color:#003d59; opacity:1\">  "
   ]
  },
  {
   "cell_type": "markdown",
   "metadata": {},
   "source": [
    "## Functions"
   ]
  },
  {
   "cell_type": "markdown",
   "metadata": {},
   "source": [
    "Functions within Python generally fall into three categories:\n",
    "\n",
    "|Type | Description|\n",
    "|--------|---------------|\n",
    "|[Built in Functions](https://docs.python.org/3.6/library/functions.html) | These are built into Python and always available for use <br> Examples – `pow()`, `print()`, `help()`|\n",
    "|User Defined Functions | Created by users to carry out specific tasks. <br> Declared using the `def` keyword.|\n",
    "|Anonymous Functions – “lambda functions” |  User defined - generally one line functions <br> used within a larger piece of code.|\n",
    "\n",
    "\n",
    "The code inside of user created functions is not run (executed) until we call or run the function. If your code has correct syntax but produces errors this will not be clear until the code is called and executed.\n",
    "\n",
    "In this section we’re going to focus on User Defined functions.\n",
    "\n",
    "These functions allow us to organise chunks of reusable code. This can help optimise our code and create blocks of code dedicated to performing a specific procedure or task. Functions can help us to write code that is consistent, readable and reproducible.\n",
    "\n"
   ]
  },
  {
   "cell_type": "markdown",
   "metadata": {},
   "source": [
    "<hr style=\"width:70%;height:4px;border-width:0;color:gray;background-color:#003d59; opacity:0.75\"> "
   ]
  },
  {
   "cell_type": "markdown",
   "metadata": {},
   "source": [
    "### Basic Structure of a Function\n",
    "\n",
    "``` python\n",
    "def my_function_name(parameter_1, parameter_2):\n",
    "    function_actions\n",
    "    ...\n",
    "    return function_output\n",
    "\n",
    "```\n",
    "\n",
    "Our functions start with the keyword `def` (define), which is followed by our function name. This:\n",
    " * Must start with a letter or an underscore,\n",
    " * Should be lowercase (by python convention),\n",
    " * Should be short and descriptive,\n",
    " * Can’t have the same name as a python keyword,\n",
    " * Shouldn’t have the name of an existing function (it will overwrite it locally).\n",
    "\n",
    "Following the function name is brackets. These can contain any necessary parameters that the function will take.\n",
    "\n",
    "It is finished with a colon, the same as our loops and control flow.\n",
    "\n",
    "The code below is indented (by 4 spaces, 1 tab or automatically) and is what is executed when the function is called.\n",
    "\n",
    "The keyword `return` will return whatever value is after it. When the return statement is executed the function will stop at that line and return the given value. No code after the return statement will be executed. \n",
    "\n",
    "Note that the keyword return is not necessary; but any function without a return statement will return a value of None - it will produce no output for future code to work with.\n"
   ]
  },
  {
   "cell_type": "code",
   "execution_count": null,
   "metadata": {
    "collapsed": true
   },
   "outputs": [],
   "source": [
    "# Here is a simple function to add together two values and return the sum.\n",
    "# I need to run this cell to declare my function\n",
    "\n",
    "def add_two_values(value_1, value_2):\n",
    "    total = value_1 + value_2\n",
    "    return total"
   ]
  },
  {
   "cell_type": "code",
   "execution_count": null,
   "metadata": {
    "collapsed": true
   },
   "outputs": [],
   "source": [
    "# I can now run my function\n",
    "\n",
    "add_two_values(1, 2)"
   ]
  },
  {
   "cell_type": "markdown",
   "metadata": {},
   "source": [
    "<hr style=\"width:50%;height:4px;border-width:0;color:gray;background-color:#003d59; opacity:0.5\"> "
   ]
  },
  {
   "cell_type": "markdown",
   "metadata": {},
   "source": [
    "## Exercise\n",
    "\n",
    "Write a function that converts from Fahrenheit to degrees Celsius using the equation below.\n",
    "\n",
    "$C= \\frac{5}{9}(F - 32)$\n",
    "\n",
    "Expected outputs (these are rounded, you don't need to worry about that for now):\n",
    "\n",
    "fahrenheit_to_degrees_celsius(32) returns: 0\n",
    "\n",
    "fahrenheit_to_degrees_celsius(11) returns: -11.7\n",
    "\n",
    "fahrenheit_to_degrees_celsius(81.3) returns: 27.4"
   ]
  },
  {
   "cell_type": "code",
   "execution_count": null,
   "metadata": {
    "collapsed": true
   },
   "outputs": [],
   "source": [
    "# Exercise\n",
    "\n"
   ]
  },
  {
   "cell_type": "code",
   "execution_count": null,
   "metadata": {
    "collapsed": true
   },
   "outputs": [],
   "source": [
    "# Solution - These cells contain answers for the exercises.\n",
    "# Run once to reveal the code\n",
    "# Run again to reveal the output\n",
    "\n",
    "%load ../solutions/chapter_7/f_to_c.py"
   ]
  },
  {
   "cell_type": "markdown",
   "metadata": {},
   "source": [
    "<hr style=\"width:50%;height:4px;border-width:0;color:gray;background-color:#003d59; opacity:0.5\"> "
   ]
  },
  {
   "cell_type": "markdown",
   "metadata": {},
   "source": [
    "## Extension Exercise\n",
    "\n",
    "Update your function so it rounds to 1 decimal place."
   ]
  },
  {
   "cell_type": "code",
   "execution_count": null,
   "metadata": {
    "collapsed": true
   },
   "outputs": [],
   "source": [
    "# Exercise\n",
    "\n"
   ]
  },
  {
   "cell_type": "code",
   "execution_count": null,
   "metadata": {
    "collapsed": true
   },
   "outputs": [],
   "source": [
    "# Solution - These cells contain answers for the exercises.\n",
    "# Run once to reveal the code\n",
    "# Run again to reveal the output\n",
    "\n",
    "%load ../solutions/chapter_7/f_to_c_rounded.py"
   ]
  },
  {
   "cell_type": "markdown",
   "metadata": {},
   "source": [
    "<hr style=\"width:70%;height:4px;border-width:0;color:gray;background-color:#003d59; opacity:0.75\"> "
   ]
  },
  {
   "cell_type": "markdown",
   "metadata": {},
   "source": [
    "### Named parameters\n",
    "\n",
    "We called the parameters `value_1 ` and `value_2` - this is a simple function, where we could expect to pass two values to be added together – as the function states. You may see similar functions written like this\n",
    "\n",
    "``` python \n",
    "def add_two_values(x, y) :\n",
    "    total = x + y\n",
    "    return total\n",
    "\n",
    "```\n",
    "\n",
    "However `x` and `y` as argument names are not very descriptive, especially if we were writing a more complicated function.\n",
    "\n",
    "As we have seen through the course we can also use the parameter names here and pass the arguments using an = sign.\n"
   ]
  },
  {
   "cell_type": "code",
   "execution_count": null,
   "metadata": {
    "collapsed": true
   },
   "outputs": [],
   "source": [
    "add_two_values(value_1=3, value_2=10)"
   ]
  },
  {
   "cell_type": "markdown",
   "metadata": {},
   "source": [
    "As we’ve talked about previously using named parameters means we can pass them in any order."
   ]
  },
  {
   "cell_type": "code",
   "execution_count": null,
   "metadata": {
    "collapsed": true
   },
   "outputs": [],
   "source": [
    "add_two_values(value_2=10, value_1=3)"
   ]
  },
  {
   "cell_type": "markdown",
   "metadata": {},
   "source": [
    "<hr style=\"width:70%;height:4px;border-width:0;color:gray;background-color:#003d59; opacity:0.75\"> "
   ]
  },
  {
   "cell_type": "markdown",
   "metadata": {},
   "source": [
    "### Default Values\n",
    "\n",
    "We can also set default values when we declare a function.\n",
    "\n",
    "I’ve set `value_1=10` and `value_2=5`\n",
    "\n",
    "Note now when I run the function without any parameters it uses 10 and 5 as the default values.\n"
   ]
  },
  {
   "cell_type": "code",
   "execution_count": null,
   "metadata": {
    "collapsed": true
   },
   "outputs": [],
   "source": [
    "def add_two_values(value_1=10 , value_2=5):\n",
    "    total = value_1 + value_2\n",
    "    return total\n",
    "\n",
    "add_two_values()"
   ]
  },
  {
   "cell_type": "markdown",
   "metadata": {},
   "source": [
    "Now if I just pass `value_2` it will use the default for `value_1` and add it to my specified `value_2`"
   ]
  },
  {
   "cell_type": "code",
   "execution_count": null,
   "metadata": {
    "collapsed": true
   },
   "outputs": [],
   "source": [
    "add_two_values(value_2=15)"
   ]
  },
  {
   "cell_type": "markdown",
   "metadata": {},
   "source": [
    "<hr style=\"width:70%;height:4px;border-width:0;color:gray;background-color:#003d59; opacity:0.75\"> "
   ]
  },
  {
   "cell_type": "markdown",
   "metadata": {},
   "source": [
    "### Scope\n",
    "\n",
    "It’s important to notice here that the variables I create within my functions – like `total` are not available outside of my function.\n",
    "\n",
    "This has to do with scope; there are two types: global and local.  Variables with global scope are visible and can be accessed anywhere, however ones with local scope are only visible and can only be used within the local area.\n",
    "\n",
    "When we create a new function we effectively create a new local scope – so the variables we declare within our functions are only available within that local scope.\n",
    "\n",
    "Trying to return the value stored under `total` will return a `NameError`. Effectively `total` is created when the function is run, and then cleaned up and removed by Python after completion. This makes `return`ing variables very important.\n"
   ]
  },
  {
   "cell_type": "code",
   "execution_count": null,
   "metadata": {
    "collapsed": true
   },
   "outputs": [],
   "source": [
    "# Trying to return the value under total will result in a NameError\n",
    "\n",
    "total"
   ]
  },
  {
   "cell_type": "markdown",
   "metadata": {},
   "source": [
    "<hr style=\"width:70%;height:4px;border-width:0;color:gray;background-color:#003d59; opacity:0.75\"> "
   ]
  },
  {
   "cell_type": "markdown",
   "metadata": {},
   "source": [
    "### Docstrings\n",
    "\n",
    "We’ve had a look at several docstrings throughout this course. They’re very useful for finding out what a function or method does, what our parameters are called, and what we should expect to be passed as arguments. \n",
    "\n",
    "Including our own docstrings in a function is as simple as using three sets of speech marks to surround the information we want to include.\n",
    "\n",
    "For this function - this is overkill really, but good practice!\n"
   ]
  },
  {
   "cell_type": "code",
   "execution_count": null,
   "metadata": {
    "collapsed": true
   },
   "outputs": [],
   "source": [
    "def add_two_values(value_1, value_2) :\n",
    "    \"\"\" \n",
    "    This function will add together two values\n",
    "    \n",
    "    value_1 : The first value to add\n",
    "    value_2 : The second value to add\n",
    "    \n",
    "    Returns: The sum / concatenation of the two values specificed.\n",
    "    \n",
    "    Examples:\n",
    "    \n",
    "    add_two_values(1, 2) \n",
    "    returns 3\n",
    "    \n",
    "    add_two_values(4.7,  3.2) \n",
    "    returns 7.9 \n",
    "    \n",
    "    add_two_values(\"Hello\", \"World\") \n",
    "    returns \"HelloWorld\" (The + symbol concatenates strings)\n",
    "    \n",
    "    Errors will occur if adding together strings and numerics, unless you use str() around the numeric.\n",
    "    \n",
    "    \"\"\"\n",
    "    total = value_1 + value_2\n",
    "    return total"
   ]
  },
  {
   "cell_type": "markdown",
   "metadata": {},
   "source": [
    "We can now access our docstring in the same ways we do for inbuilt functions:"
   ]
  },
  {
   "cell_type": "code",
   "execution_count": null,
   "metadata": {
    "collapsed": true
   },
   "outputs": [],
   "source": [
    "help(add_two_values)"
   ]
  },
  {
   "cell_type": "markdown",
   "metadata": {},
   "source": [
    "<hr style=\"width:70%;height:4px;border-width:0;color:gray;background-color:#003d59; opacity:0.75\"> "
   ]
  },
  {
   "cell_type": "markdown",
   "metadata": {},
   "source": [
    "## Helpful Indentation hint!\n",
    "\n",
    "The indentation of code in functions and loops is incredibly important!\n",
    "\n",
    "If we’re copying code from other places it can often be not indented correctly to run in our new function.\n",
    "\n",
    "If you highlight the code you wish to “move” and press\n",
    "* tab  - to increase the indent one “level”\n",
    "* shift + tab will decrease the indent one level.\n"
   ]
  },
  {
   "cell_type": "code",
   "execution_count": null,
   "metadata": {
    "collapsed": true
   },
   "outputs": [],
   "source": [
    "# This cell will give an error - our indentation is off!\n",
    "\n",
    "def whos_the_best(print_x_times):\n",
    "\n",
    "for each_num in range(print_x_times):\n",
    "    print(\"Hannah is the best!\")\n",
    "\n",
    "# Use the function\n",
    "\n",
    "whos_the_best(10)"
   ]
  },
  {
   "cell_type": "markdown",
   "metadata": {},
   "source": [
    "This will give us an error!\n",
    "\n",
    "If we highlight everything from the `for` line down and hit tab we get"
   ]
  },
  {
   "cell_type": "code",
   "execution_count": null,
   "metadata": {
    "collapsed": true
   },
   "outputs": [],
   "source": [
    "def whos_the_best(print_x_times):\n",
    "    \n",
    "    for each_num in range(print_x_times):\n",
    "        print(\"Hannah is the best!\")\n",
    "\n",
    "        \n",
    "# Use the function\n",
    "\n",
    "whos_the_best(10)"
   ]
  },
  {
   "cell_type": "markdown",
   "metadata": {},
   "source": [
    "much better!"
   ]
  },
  {
   "cell_type": "markdown",
   "metadata": {},
   "source": [
    "<hr style=\"width:50%;height:4px;border-width:0;color:gray;background-color:#003d59; opacity:0.5\"> "
   ]
  },
  {
   "cell_type": "markdown",
   "metadata": {},
   "source": [
    "## Exercise\n",
    "\n",
    "Returning to the FizzBuzz exercise:\n",
    "\n",
    "This previously worked over a hard-coded number of values.\n",
    "\n",
    "** Create a function so the user can find fizzbuzz values for any range of numbers **\n",
    "\n",
    "If you've used a for loop an example could be 1 to 100,\n",
    "\n",
    "If you've used a while loop your top number could be 100.\n",
    "\n",
    "Make sure you include a docstring.\n",
    "\n",
    "A reminder for Fizz Buzz: \n",
    "\n",
    "Can you write a loop with an `if`, `elif` and `else` statement, that loops through the numbers from 1 to 30.\n",
    "\n",
    "* If the number is a mutiple of 3, print the word Fizz. \n",
    "\n",
    "* For multiples of 5 print the word Buzz.\n",
    "\n",
    "* If the number is a multiple of both 3 and 5, print FizzBuzz. \n",
    "\n",
    "* For all other values print the number.\n",
    "\n",
    "You can use the modulus operator for this - this is the % in python, and shows us our remainder.\n",
    "\n",
    "For example checking if something is divisible by 7 we could do\n",
    "\n",
    "`item % 7 == 0`\n",
    "\n",
    "If this divided completely it would return `True`, if there was a remainder it would return `False`"
   ]
  },
  {
   "cell_type": "code",
   "execution_count": null,
   "metadata": {
    "collapsed": true
   },
   "outputs": [],
   "source": [
    "# Exercise\n",
    "\n"
   ]
  },
  {
   "cell_type": "markdown",
   "metadata": {},
   "source": [
    "The cell below will give you some Pseudocode - an idea of how to structure your code if you're stuck!\n",
    "\n",
    "This is the general structure and concepts you need to use in written English rather than in the Python programming language."
   ]
  },
  {
   "cell_type": "code",
   "execution_count": null,
   "metadata": {
    "collapsed": true
   },
   "outputs": [],
   "source": [
    "# This is pseudo code!\n",
    "# Code written in english to help you stucture your code.\n",
    "# It will not work if you run it\n",
    "\n",
    "%load ../solutions/chapter_7/functionpseudocode.py"
   ]
  },
  {
   "cell_type": "code",
   "execution_count": null,
   "metadata": {
    "collapsed": true
   },
   "outputs": [],
   "source": [
    "# Solution - These cells contain answers for the exercises.\n",
    "#Run once to reveal the code.\n",
    "#Run again to reveal the output. \n",
    "\n",
    "%load ../solutions/chapter_7/function_exercise.py\n"
   ]
  },
  {
   "cell_type": "markdown",
   "metadata": {},
   "source": [
    "<hr style=\"width:50%;height:4px;border-width:0;color:gray;background-color:#003d59; opacity:0.5\"> "
   ]
  },
  {
   "cell_type": "markdown",
   "metadata": {},
   "source": [
    "This part of the course is a quick overview of functions and how they work.\n",
    "\n",
    "There’s a whole lot more to be explored; including returning multiple values from a function and lambda functions.\n",
    "\n",
    "Some additional information about functions can be found:\n",
    "\n",
    "[Datacamp Python Functions Tutorial](https://www.datacamp.com/community/tutorials/functions-python-tutorial)\n",
    "\n",
    "[Geeks for Geeks Python Functions Tutorial](https://www.geeksforgeeks.org/functions-in-python/)\n",
    "\n",
    "[Python Lambda – Anonymous Functions](https://www.geeksforgeeks.org/python-lambda-anonymous-functions-filter-map-reduce/)\n"
   ]
  },
  {
   "cell_type": "markdown",
   "metadata": {},
   "source": [
    "[return to menu](#menu)"
   ]
  },
  {
   "cell_type": "markdown",
   "metadata": {},
   "source": [
    "<a id='functions_dataframes'></a>\n",
    "<hr style=\"width:100%;height:4px;border-width:0;color:gray;background-color:#003d59; opacity:1\">  "
   ]
  },
  {
   "cell_type": "markdown",
   "metadata": {},
   "source": [
    "# Functions for DataFrames"
   ]
  },
  {
   "cell_type": "markdown",
   "metadata": {},
   "source": [
    "So far we’ve seen how functions work, but how can we apply them to our DataFrames?\n",
    "\n",
    "I want to:\n",
    "* Remove spaces from my column names and change to underscores\n",
    "* Change column names to lower case\n",
    "* Select just the columns of the “object” data Type.\n",
    "\n",
    "If I have a few DataFrames to run this for the process can mean a lot of lines of code used for basic cleaning.\n",
    "\n",
    "Let's make a copy of our animals data frame.\n"
   ]
  },
  {
   "cell_type": "code",
   "execution_count": null,
   "metadata": {
    "collapsed": true
   },
   "outputs": [],
   "source": [
    "# Make a copy\n",
    "\n",
    "animals_new = animals.copy()"
   ]
  },
  {
   "cell_type": "markdown",
   "metadata": {},
   "source": [
    "Now let's do some basic cleaning."
   ]
  },
  {
   "cell_type": "code",
   "execution_count": null,
   "metadata": {
    "collapsed": true
   },
   "outputs": [],
   "source": [
    "# replace column spaces with \"_\"\n",
    "animals_new.columns = animals_new.columns.str.replace(\" \", \"_\")\n",
    "\n",
    "# lower case the columns names\n",
    "animals_new.columns = animals_new.columns.str.lower()\n",
    "\n",
    "animals_new_objects = animals_new.select_dtypes([\"O\"])\n",
    "\n",
    "animals_new_objects"
   ]
  },
  {
   "cell_type": "markdown",
   "metadata": {},
   "source": [
    "Without a function for each DataFrame I wanted to do this on I’d have to go in and change the object names.\n",
    "\n",
    "I can make a function to repeat this same action over and over."
   ]
  },
  {
   "cell_type": "code",
   "execution_count": null,
   "metadata": {
    "collapsed": true
   },
   "outputs": [],
   "source": [
    "def clean_frame_give_objects(dataframe):\n",
    "    \"\"\"\n",
    "    Function that cleans the column names of the input frame\n",
    "    It also selects the columns with object data\n",
    "    \n",
    "    Arguments:\n",
    "        dataframe - pandas dataframe\n",
    "        \n",
    "    Returns:\n",
    "        dataframe_objects - cleaned columns with\n",
    "                            only objects    \n",
    "    \"\"\"\n",
    "    dataframe.columns = dataframe.columns.str.replace(\" \" , \"_\")\n",
    "    dataframe.columns = dataframe.columns.str.lower()\n",
    "    dataframe_objects = dataframe.select_dtypes(include = [\"O\"] )\n",
    "    return dataframe_objects\n",
    "\n"
   ]
  },
  {
   "cell_type": "code",
   "execution_count": null,
   "metadata": {
    "collapsed": true
   },
   "outputs": [],
   "source": [
    "# Our function does the same as our script did.\n",
    "clean_frame_give_objects(animals)"
   ]
  },
  {
   "cell_type": "markdown",
   "metadata": {},
   "source": [
    "We could also expand this loop to allow us to perfom the function on multiple DataFrames. \n",
    "\n",
    "This would allow us to clean multiple DataFrames at once and store them in a `list` object."
   ]
  },
  {
   "cell_type": "code",
   "execution_count": null,
   "metadata": {
    "collapsed": true
   },
   "outputs": [],
   "source": [
    "# We can then loop through the list of frames and process them one after another\n",
    "\n",
    "# Collect our list of frames\n",
    "list_of_frames = [animals, titanic]\n",
    "\n",
    "# Create a new blank list to store our frames in\n",
    "\n",
    "new_frames = []\n",
    "\n",
    "\n",
    "for each_frame in list_of_frames:\n",
    "    clean_frame = clean_frame_give_objects(each_frame)\n",
    "    new_frames.append(clean_frame)"
   ]
  },
  {
   "cell_type": "markdown",
   "metadata": {},
   "source": [
    "We can then sub select each DataFrame from our list like so:"
   ]
  },
  {
   "cell_type": "code",
   "execution_count": null,
   "metadata": {
    "collapsed": true
   },
   "outputs": [],
   "source": [
    "# selects the datafame at position 0 in our list\n",
    "\n",
    "new_frames[1].head()"
   ]
  },
  {
   "cell_type": "code",
   "execution_count": null,
   "metadata": {
    "collapsed": true
   },
   "outputs": [],
   "source": [
    "# selects the datafame at position 1 in our list\n",
    "\n",
    "new_frames[1].head()"
   ]
  },
  {
   "cell_type": "markdown",
   "metadata": {},
   "source": [
    "[return to menu](#menu)"
   ]
  },
  {
   "cell_type": "markdown",
   "metadata": {},
   "source": [
    "<a id='end'></a>\n",
    "<hr style=\"width:100%;height:4px;border-width:0;color:gray;background-color:#003d59; opacity:1.0\"> "
   ]
  },
  {
   "cell_type": "markdown",
   "metadata": {},
   "source": [
    "## End of Chapter"
   ]
  },
  {
   "cell_type": "markdown",
   "metadata": {},
   "source": [
    "In this chapter we’ve explored:\n",
    "* Comparison and Logical Operators\n",
    "* For Loops\n",
    "* While Loops\n",
    "* Control flow (If, Elif and Else conditions)\n",
    "* List comprehension\n",
    "* Basic Functions\n",
    "* Exploring paramaters, default values and scope\n",
    "* Application of functions to DataFrames.\n",
    "\n",
    "You have completed chapter 7 of the Introduction to Python course. \n",
    "\n",
    "Please ensure you complete the post course survey on the Learning Hub to complete your learning."
   ]
  },
  {
   "cell_type": "markdown",
   "metadata": {},
   "source": [
    "[return to menu](#menu)"
   ]
  }
 ],
 "metadata": {
  "kernelspec": {
   "display_name": "Python 3",
   "language": "python",
   "name": "python3"
  },
  "language_info": {
   "codemirror_mode": {
    "name": "ipython",
    "version": 3
   },
   "file_extension": ".py",
   "mimetype": "text/x-python",
   "name": "python",
   "nbconvert_exporter": "python",
   "pygments_lexer": "ipython3",
   "version": "3.6.1"
  },
  "toc": {
   "base_numbering": 1,
   "nav_menu": {},
   "number_sections": false,
   "sideBar": true,
   "skip_h1_title": false,
   "title_cell": "Table of Contents",
   "title_sidebar": "Contents",
   "toc_cell": false,
   "toc_position": {},
   "toc_section_display": true,
   "toc_window_display": false
  }
 },
 "nbformat": 4,
 "nbformat_minor": 2
}
