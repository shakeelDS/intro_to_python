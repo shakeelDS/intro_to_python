{
 "cells": [
  {
   "cell_type": "markdown",
   "metadata": {},
   "source": [
    "<a id='menu'></a>\n",
    " <hr style=\"width:100%;height:4px;border-width:0;color:gray;background-color:#003d59; opacity:0.25\"> \n",
    "\n",
    " ![learning academy and data science campus logos](../images/la_dsc_logo.jpg)\n",
    "  <hr style=\"width:100%;height:4px;border-width:0;color:gray;background-color:#003d59; opacity:0.25\"> "
   ]
  },
  {
   "cell_type": "markdown",
   "metadata": {},
   "source": [
    "<a id='menu'></a>\n",
    "# Introduction to Python\n",
    "\n",
    "## Chapter 8 – Additonal Materials\n",
    "***\n",
    "Follow along with the code by running cells as you encounter them\n",
    "***\n",
    "*Chapter Overview*\n",
    "\n",
    "* [Packages and Data](#packages)\n",
    " * Packages\n",
    " * Data\n",
    " \n",
    "\n",
    "* [Cross Tabs and Pivot Tables](#crosstabs_pivot)\n",
    " * Cross Tabs\n",
    " * Pivot Tables"
   ]
  },
  {
   "cell_type": "markdown",
   "metadata": {},
   "source": [
    "<a id='packages'></a>\n",
    "<hr style=\"width:100%;height:4px;border-width:0;color:gray;background-color:#003d59; opacity:1\"> "
   ]
  },
  {
   "cell_type": "markdown",
   "metadata": {},
   "source": [
    "## Packages and Data"
   ]
  },
  {
   "cell_type": "markdown",
   "metadata": {},
   "source": [
    "### Packages\n",
    "\n",
    "As a reminder – we should always import our packages at the top of our script.\n",
    "\n",
    "\n",
    "In this session we will use pandas, and give it the nickname pd\n",
    "\n",
    "Complete this action in the cell below."
   ]
  },
  {
   "cell_type": "code",
   "execution_count": null,
   "metadata": {
    "collapsed": true
   },
   "outputs": [],
   "source": [
    "# Import pandas into this cell\n"
   ]
  },
  {
   "cell_type": "markdown",
   "metadata": {},
   "source": [
    "You can run the \"solution\" cell if you need help - or revisit module 2.\n",
    "\n",
    "Practicing these basic commands helps your retention of the skills."
   ]
  },
  {
   "cell_type": "code",
   "execution_count": null,
   "metadata": {
    "collapsed": true
   },
   "outputs": [],
   "source": [
    "%load ../solutions/chapter_7/importpandas.py"
   ]
  },
  {
   "cell_type": "markdown",
   "metadata": {
    "collapsed": true
   },
   "source": [
    "Load in the data:\n",
    "\n",
    "| variable name | file name  |\n",
    "| --- | --- | --- |\n",
    "| animals | animals.csv |\n",
    "| titanic | titanic.xlsx |\n",
    "\n"
   ]
  },
  {
   "cell_type": "code",
   "execution_count": null,
   "metadata": {
    "collapsed": true
   },
   "outputs": [],
   "source": [
    "# Load the Data \n",
    "\n"
   ]
  },
  {
   "cell_type": "markdown",
   "metadata": {},
   "source": [
    "You can run the \"solution\" cell if you need help - or revisit chapter 3.\n",
    "\n",
    "\n",
    "Practicing these basic commands helps your retention of the skills.\n",
    "\n",
    "This chapter uses the same data as chapter 6.\n",
    "\n",
    "You can check your variables are loaded by using `%whos` in Jupyter. In Spyder or other IDE's they should appear in your variable explorer. \n",
    "\n",
    "If you struggle with this section – review Chapter 3.\n"
   ]
  },
  {
   "cell_type": "code",
   "execution_count": null,
   "metadata": {
    "collapsed": true
   },
   "outputs": [],
   "source": [
    "# Solution - These cells contain answers for the exercises.\n",
    "# Run once to reveal the code\n",
    "# Run again to reveal the output\n",
    "\n",
    "%load ../solutions/chapter_7/chaptersixdata.py"
   ]
  },
  {
   "cell_type": "markdown",
   "metadata": {},
   "source": [
    "[return to menu](#menu)"
   ]
  },
  {
   "cell_type": "markdown",
   "metadata": {},
   "source": [
    "<a id='crosstabs_pivot'></a>\n",
    "<hr style=\"width:100%;height:4px;border-width:0;color:gray;background-color:#003d59; opacity:1\"> "
   ]
  },
  {
   "cell_type": "markdown",
   "metadata": {},
   "source": [
    "## Cross Tabs and Pivot Tables\n",
    "\n",
    "Similar to aggregation with `.groupby()` a cross-tabulation table allows you to generate frequencies for combinations of groups of data.\n",
    "\n",
    "Crosstabs are often also referred to as 'contingency tables' and 'two-way tables' and, although there may be some subtle distinctions, these all refer to the setting of one categorical variable against another, creating a matrix, and then counting, or otherwise aggregating by cell values.\n",
    "\n",
    "To create cross-tabulations, you can use the `pd.crosstab()` function.\n",
    "\n",
    "Let's have a look at a simple example:\n"
   ]
  },
  {
   "cell_type": "code",
   "execution_count": null,
   "metadata": {
    "collapsed": true
   },
   "outputs": [],
   "source": [
    "# Crosstab the new variable 'London' by 'AnimalClass'\n",
    "\n",
    "pd.crosstab(animals['London'],animals['AnimalClass'])"
   ]
  },
  {
   "cell_type": "markdown",
   "metadata": {},
   "source": [
    "The basic use of .crosstab() requires that you input the row category ('London') and the column category ('AnimalClass'). \n",
    "\n",
    "This produces cell counts for the cross-tabulation of the two categories, so there were 433 records that were both 'Inner London' and 'Bird'.\n",
    "\n",
    "The basic crosstab can be augmented with some additional parameters:\n",
    "\n",
    "*\tmargins - set to True to add row and column totals.\n",
    "*\tnormalize - create row or column proportions, or overall proportions, rather than frequencies. Keywords are 'index', 'columns' or 'all'.\n"
   ]
  },
  {
   "cell_type": "code",
   "execution_count": null,
   "metadata": {
    "collapsed": true
   },
   "outputs": [],
   "source": [
    "# Check out margins\n",
    "pd.crosstab(animals['London'],animals['AnimalClass'], margins=True)"
   ]
  },
  {
   "cell_type": "code",
   "execution_count": null,
   "metadata": {
    "collapsed": true
   },
   "outputs": [],
   "source": [
    "# Compute row proportions, with margins. 'index'\n",
    "pd.crosstab(animals['London'],animals['AnimalClass'], normalize = 'index', margins=True)"
   ]
  },
  {
   "cell_type": "code",
   "execution_count": null,
   "metadata": {
    "collapsed": true
   },
   "outputs": [],
   "source": [
    "# Compute overall proportions, with margins. 'all'\n",
    "pd.crosstab(animals['London'],animals['AnimalClass'], normalize = 'all', margins=True)"
   ]
  },
  {
   "cell_type": "markdown",
   "metadata": {},
   "source": [
    "Finally, by using the 'values' parameter, we can use a column to produce a similar output to the .groupby() on 'Cat' and 'Borough', but in a different data structure."
   ]
  },
  {
   "cell_type": "code",
   "execution_count": null,
   "metadata": {
    "collapsed": true
   },
   "outputs": [],
   "source": [
    "pd.crosstab(animals['Borough'],\n",
    "            animals['Cat'],\n",
    "            values = animals['IncidentNominalCost(£)'],\n",
    "            aggfunc='sum').head(6)"
   ]
  },
  {
   "cell_type": "markdown",
   "metadata": {},
   "source": [
    "<hr style=\"width:70%;height:4px;border-width:0;color:gray;background-color:#003d59; opacity:0.75\"> "
   ]
  },
  {
   "cell_type": "markdown",
   "metadata": {},
   "source": [
    "## Pivot Tables\n",
    "Pandas also provides a .pivot_table() function, which acts a bit like the .groupby() and .crosstab() function combined, but is set out in a way that may be more intuitive to people used to using pivot tables in spreadsheets, as opposed to crosstabs or aggregations in statistical software.\n",
    "Below, it is quite simple to reproduce the two-group aggregation behaviour of groupby and crosstab.\n",
    "\n",
    "\n"
   ]
  },
  {
   "cell_type": "code",
   "execution_count": null,
   "metadata": {
    "collapsed": true
   },
   "outputs": [],
   "source": [
    "pd.pivot_table(data = animals,\n",
    "               values = 'IncidentNominalCost(£)', \n",
    "               index='Borough',\n",
    "               columns='Cat',\n",
    "               aggfunc='sum',\n",
    "               fill_value=0).head()"
   ]
  },
  {
   "cell_type": "markdown",
   "metadata": {},
   "source": [
    "In addition, pivot tables can also behave almost identically to .groupby() if you want an aggregation by a single group (which crosstab cannot do):"
   ]
  },
  {
   "cell_type": "code",
   "execution_count": null,
   "metadata": {
    "collapsed": true
   },
   "outputs": [],
   "source": [
    "pd.pivot_table(data=animals,values='IncidentNominalCost(£)',\n",
    "               index='AnimalClass',\n",
    "               aggfunc='sum')"
   ]
  },
  {
   "cell_type": "markdown",
   "metadata": {},
   "source": [
    "In this sense, your approach to aggregating data can be led by whichever method you feel more comfortable applying as there is clearly overlap between the functions. In terms of clarity, directed use of .crosstab() or .groupby() may be more instructive to reader than .pivot_table() as pivot table necessarily requires a little more engagement to understand exactly what process data are undergoing."
   ]
  },
  {
   "cell_type": "markdown",
   "metadata": {},
   "source": [
    "[return to menu](#menu)"
   ]
  },
  {
   "cell_type": "markdown",
   "metadata": {},
   "source": [
    "<a id='end'></a>\n",
    "<hr style=\"width:100%;height:4px;border-width:0;color:gray;background-color:#003d59; opacity:1\"> "
   ]
  },
  {
   "cell_type": "markdown",
   "metadata": {},
   "source": [
    "## End of Chapter"
   ]
  },
  {
   "cell_type": "markdown",
   "metadata": {},
   "source": [
    "You’ve reached the end of the additional material in this course.\n",
    "\n",
    "If you feel there’s something that would make a good addition here please let us know!\n"
   ]
  },
  {
   "cell_type": "markdown",
   "metadata": {},
   "source": [
    "[return to menu](#menu)"
   ]
  }
 ],
 "metadata": {
  "kernelspec": {
   "display_name": "Python 3",
   "language": "python",
   "name": "python3"
  },
  "language_info": {
   "codemirror_mode": {
    "name": "ipython",
    "version": 3
   },
   "file_extension": ".py",
   "mimetype": "text/x-python",
   "name": "python",
   "nbconvert_exporter": "python",
   "pygments_lexer": "ipython3",
   "version": "3.6.1"
  }
 },
 "nbformat": 4,
 "nbformat_minor": 2
}
