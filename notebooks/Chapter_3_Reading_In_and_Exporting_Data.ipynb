{
 "cells": [
  {
   "cell_type": "markdown",
   "metadata": {},
   "source": [
    "<a id='menu'></a>\n",
    " <hr style=\"width:100%;height:4px;border-width:0;color:gray;background-color:#003d59; opacity:0.25\"> \n",
    "\n",
    " ![learning academy and data science campus logos](../images/la_dsc_logo.jpg)\n",
    "  <hr style=\"width:100%;height:4px;border-width:0;color:gray;background-color:#003d59; opacity:0.25\"> "
   ]
  },
  {
   "cell_type": "markdown",
   "metadata": {},
   "source": [
    "\n",
    "# Introduction to Python\n",
    "## Chapter 3 – Reading In and Exporting Data\n",
    "***\n",
    "Follow along with the code by running cells as you encounter them\n",
    "***\n",
    "*Chapter Overview and Learning Objectives:*\n",
    "\n",
    "* [Script Structure and Packages](#packages)\n",
    " * Script Structure\n",
    " * Packages in this session\n",
    "\n",
    "\n",
    "* [Project Structure](#structure)\n",
    "    - Setting Working Directories\n",
    "    - Relative vs Absolute file Paths\n",
    "    - A note on file paths\n",
    "\n",
    "\n",
    "* [Reading Flat Files](#flat_files)\n",
    " \n",
    "\n",
    "* [Reading Excel Files](#excel_files)\n",
    "\n",
    "\n",
    "* [Reading in other file types](#other_files)\n",
    "\n",
    "\n",
    "* [Exporting Data](#export)"
   ]
  },
  {
   "cell_type": "markdown",
   "metadata": {},
   "source": [
    "<a id='packages'></a>\n",
    "<hr style=\"width:100%;height:4px;border-width:0;color:gray;background-color:#003d59; opacity:1\"> "
   ]
  },
  {
   "cell_type": "markdown",
   "metadata": {},
   "source": [
    "## Script Structure and Packages"
   ]
  },
  {
   "cell_type": "markdown",
   "metadata": {},
   "source": [
    "### Script Structure\n",
    "\n",
    "Scripts should be read like books, from top to bottom and left to right.\n",
    "\n",
    "Packages and data should be loaded at the top of the script – this ensures that they’re available to use right from the start of your work.\n",
    "\n",
    "This also makes your code easier to read. \n",
    "\n",
    "Your code should also include explanatory comments, as well as following the naming conventions we talked about in chapter 2.\n",
    "\n",
    "You may understand your code now, but will you still understand it 6 months down the line – or will your co-worker understand it when you leave?"
   ]
  },
  {
   "cell_type": "markdown",
   "metadata": {},
   "source": [
    "### Packages\n",
    "\n",
    "As a reminder – we should always import our packages at the top of our script.\n",
    "\n",
    "\n",
    "In this session we will use `pandas`, and give it the nickname `pd`.\n",
    "\n",
    "Complete this action in the cell below."
   ]
  },
  {
   "cell_type": "code",
   "execution_count": null,
   "metadata": {
    "collapsed": true
   },
   "outputs": [],
   "source": [
    "# Import Pandas into this cell\n",
    "\n"
   ]
  },
  {
   "cell_type": "markdown",
   "metadata": {},
   "source": [
    "You can run the \"solution\" cell if you need help - or revisit chapter 2.\n",
    "\n",
    "Practicing these basic commands helps your retention of the skills."
   ]
  },
  {
   "cell_type": "code",
   "execution_count": null,
   "metadata": {
    "collapsed": true
   },
   "outputs": [],
   "source": [
    "# Solution - These cells contain answers for the exercises.\n",
    "#Run once to reveal the code.\n",
    "#Run again to reveal the output. \n",
    "\n",
    "%load ../solutions/chapter_3/importpandas.py"
   ]
  },
  {
   "cell_type": "markdown",
   "metadata": {},
   "source": [
    "[return to menu](#menu)"
   ]
  },
  {
   "cell_type": "markdown",
   "metadata": {},
   "source": [
    "<a id='structure'></a>\n",
    "<hr style=\"width:100%;height:4px;border-width:0;color:gray;background-color:#003d59; opacity:1\"> "
   ]
  },
  {
   "cell_type": "markdown",
   "metadata": {},
   "source": [
    "## Project Structure"
   ]
  },
  {
   "cell_type": "markdown",
   "metadata": {},
   "source": [
    "There's many important reasons to structure our projects:\n",
    "\n",
    "You may have noticed the folder structure of the `intro_to_python.zip ` folder you downloaded.\n",
    "\n",
    "As our projects grow we can end up with a large amount of data files; notebook files and outputs. Keeping them structured is a really important aspect of managing your data.\n",
    "Imagine if you sent your colleague a folder that looked like this:\n",
    "\n",
    "![cluttered](../images/cluttered.png)\n"
   ]
  },
  {
   "cell_type": "markdown",
   "metadata": {},
   "source": [
    "Finding the right files within here is tricky – and this is just the content we’ve explored so far on the course!\n",
    "\n",
    "Having a folder structure like this – helps to keep our data organised.\n",
    "\n",
    "![folderstructure)](../images/folderstructure.png)\n"
   ]
  },
  {
   "cell_type": "markdown",
   "metadata": {},
   "source": [
    "<hr style=\"width:70%;height:4px;border-width:0;color:gray;background-color:#003d59; opacity:0.75\"> "
   ]
  },
  {
   "cell_type": "markdown",
   "metadata": {},
   "source": [
    "### Setting Working Directories"
   ]
  },
  {
   "cell_type": "markdown",
   "metadata": {},
   "source": [
    "The working directory is the place where Python automatically looks for our files.\n",
    "\n",
    "You can check what your working directory is by using the magic command in Jupyter.\n"
   ]
  },
  {
   "cell_type": "code",
   "execution_count": null,
   "metadata": {
    "collapsed": true
   },
   "outputs": [],
   "source": [
    "%pwd"
   ]
  },
  {
   "cell_type": "markdown",
   "metadata": {},
   "source": [
    "This stands for \"Print Working Directory\".\n",
    "\n",
    "Yours is likely to be: \n",
    "\n",
    "` 'C:\\\\Users\\\\username\\\\Intro_to_Python\\\\notebooks' `\n",
    "\n",
    "If you work within ONS. This is because we saved this zip file into our C Drive. If you saved to a different location the first part may be different.\n",
    "\n",
    "If you're using Spyder or another IDE you can find your working directory using:\n",
    "\n",
    "```python\n",
    "import os # os is a package that allows us to interact with the operating system.\n",
    "os.getcwd() # gets the current working directory.\n",
    "```\n",
    "\n",
    "No matter what the first part is – you will always have `Intro_to_Python\\\\notebooks ` as the end part. We’ll see why this happens in a second.\n",
    "\n",
    "You can change your working directory by using the command \n",
    "\n",
    "`%cd ‘filepath_of_new_directory’`\n",
    "\n",
    "e.g\n",
    "\n",
    "`%cd //fa1rvwapxx333/Intro_to_Python/Notebooks`\n",
    "\n",
    "In Spyder\n",
    "\n",
    "```python\n",
    "os.chdir(\"filepath\") # This assumes you've already imported os\n",
    "```\n",
    "\n",
    "You may want to change your directory if you are working with large data files; or working on a group project from a shared network drive.  Note shared network drives have two forward slashes at the start.\n",
    "\n",
    "You do not need to do this for this course."
   ]
  },
  {
   "cell_type": "markdown",
   "metadata": {},
   "source": [
    "<hr style=\"width:70%;height:4px;border-width:0;color:gray;background-color:#003d59; opacity:0.75\"> "
   ]
  },
  {
   "cell_type": "markdown",
   "metadata": {},
   "source": [
    "### Relative vs Absolute file Paths"
   ]
  },
  {
   "cell_type": "markdown",
   "metadata": {
    "collapsed": true
   },
   "source": [
    "If I want to give you a location of a file, I can use the absolute file path. \n",
    "\n",
    "Let's say I have saved the `“Intro_to_Python”` folder in my C Drive and I want to access the file – `animals.csv`. \n",
    "\n",
    "The full or **absolute** location of this file is:\n",
    "\n",
    "`\"C:/Users/Hodgeh/Intro_to_Python/Data/animals.csv\" `\n",
    "\n",
    "This is clear and explicit about where the data is stored. However if you were to use this link you would need to change elements of it – for example your username is not “Hodgeh”.\n",
    "\n",
    "Because my working directory is automatically set to `\"C:/Users/Hodgeh/Intro_to_Python/notebooks\"`  I can use what’s called a relative path.\n",
    "\n",
    "A **relative** path is the location relative to the working directory.\n",
    "\n",
    "For example, I can load the same file as above using the path\n",
    "\n",
    "`\"../data/animals.csv\"`\n",
    "\n",
    "This will work for any user – as long as their working directory is set to the `Notebooks` Folder in the `Into_to_Python` folder.\n"
   ]
  },
  {
   "cell_type": "markdown",
   "metadata": {},
   "source": [
    "You may notice here I’ve used `“..”` - This may not be something you’ve come across before.\n",
    "\n",
    "This is the code we can use to go back up a level in our folder structure. We can’t go directly between sub-folders in a directory. We must go back to the parent folder – here `“Intro_to_Python”` before we can go into the `data` folder.\n",
    "\n",
    "Here's a diagram that explains this principle.\n",
    "\n",
    "![relative](../images/relativefilepath.jpg)\n",
    "\n",
    "The black arrow leads from the starting location; or the working directory `\"notebooks\"`, and moves to the parent `Intro_to_Python\"` folder – using the `“..”` notation.\n",
    "\n",
    "The blue arrow moves forwards into the required folder – `\"/data\"`.\n",
    "\n",
    "And the purple arrow selects our file name `\"/animals.csv\"`.\n"
   ]
  },
  {
   "cell_type": "markdown",
   "metadata": {},
   "source": [
    "<hr style=\"width:70%;height:4px;border-width:0;color:gray;background-color:#003d59; opacity:0.75\"> "
   ]
  },
  {
   "cell_type": "markdown",
   "metadata": {},
   "source": [
    "### A note on file paths\n",
    "\n",
    "We highly recommend using forward slashes “/” within file paths.\n",
    "\n",
    "\n",
    "When copying a file path from Windows Explorer it will often have the `“\\”` backslash character instead of a forward slash.\n",
    "\n",
    "\n",
    "This causes issues in two ways. Firstly the Windows operating system is the only one to use this system, Mac and Linux operating systems use the forward slash `/`. Secondly the backslash symbol is often used as an escape character within Python. \n",
    "\n",
    "\n",
    "Thirdly; although Python will often accept backslashes, other commonly used languages – like the statistical programming language “R” will not. It’s worth getting into the good practice of using forward slashes. \n",
    "\n",
    "\n",
    "Lastly – if you absolutely must use backslashes you should preface the string with the letter `r` – to ensure it’s passed as a raw string - e.g\n",
    "\n",
    "``` python\n",
    "\n",
    "school = pd.read_csv(r\"..\\data\\schools_data.csv\")\n",
    "\n",
    "```\n"
   ]
  },
  {
   "cell_type": "markdown",
   "metadata": {},
   "source": [
    "[return to menu](#menu)"
   ]
  },
  {
   "cell_type": "markdown",
   "metadata": {},
   "source": [
    "<a id='flat_files'></a>\n",
    "<hr style=\"width:100%;height:4px;border-width:0;color:gray;background-color:#003d59; opacity:1\">  "
   ]
  },
  {
   "cell_type": "markdown",
   "metadata": {},
   "source": [
    "## Flat Files"
   ]
  },
  {
   "cell_type": "markdown",
   "metadata": {},
   "source": [
    "We use `pandas` to read in our files in this course.\n",
    "\n",
    "There are ways of reading in files without using this package; however, using `pandas` will bring in our data as the specialised data type – a `pandas` DataFrame.\n",
    "\n",
    "\n",
    "Flat files are files like CSV (Comma Separated Values), .txt files etc. \n",
    "\n",
    "The data is stored in a single table, with a specific delimiter used to separate values into column."
   ]
  },
  {
   "cell_type": "markdown",
   "metadata": {},
   "source": [
    "To import a .csv file we need to give the data an identifier or a variable name.\n",
    "\n",
    "I am going to import the animals data – so I will give it the variable name `animals` and use an `=` to assign to it.\n",
    "\n",
    "I’m using one of the read functions from pandas. So I use the `pd` abbreviation before calling my method.\n",
    "\n",
    "My function starts `.read_`\n",
    "\n",
    "Pandas has a variety of `.read_` functions. \n",
    "\n",
    "Place your cursor in the cell below, after the underscore and hit the tab key to see them all.\n",
    "\n",
    "If this doesn’t work, please ensure you have imported Pandas to your session. See Chapter 2 or top of this script."
   ]
  },
  {
   "cell_type": "code",
   "execution_count": null,
   "metadata": {
    "collapsed": true
   },
   "outputs": [],
   "source": [
    "animals = pd.read_\n",
    "\n",
    "# Put your cursor after the _ in the line above and hit tab"
   ]
  },
  {
   "cell_type": "markdown",
   "metadata": {},
   "source": [
    "![read_autocomplete](../images/read_autocomplete.png)"
   ]
  },
  {
   "cell_type": "code",
   "execution_count": null,
   "metadata": {
    "collapsed": true
   },
   "outputs": [],
   "source": [
    "animals = pd.read_csv(\"../data/animals.csv\")"
   ]
  },
  {
   "cell_type": "markdown",
   "metadata": {},
   "source": [
    "The `pd.read_` function I want is `pd.read_csv()`\n",
    "\n",
    "In the brackets the only parameter I need to specify is the location of my file.\n",
    "\n",
    "This goes within quotation marks.\n",
    "\n",
    "I also need to specifiy the file extension.\n",
    "\n",
    "I have specified the relative file path to my working directory.\n",
    "\n",
    "When I import data into Jupyter notebooks I get no confirmation that my code has worked. The number within the square brackets increases, indicating the cell has run.\n",
    "\n",
    "After importing data it may be useful to check using it appears as a variable using`%whos`. In Spyder you should see the DataFrame appear in your variable explorer."
   ]
  },
  {
   "cell_type": "code",
   "execution_count": null,
   "metadata": {
    "collapsed": true
   },
   "outputs": [],
   "source": [
    "%whos"
   ]
  },
  {
   "cell_type": "markdown",
   "metadata": {},
   "source": [
    "I can view my data by using a variety of methods; which we'll explore later.\n",
    "\n",
    "For small datasets I can print it by inputting the name – however for large data sets this is not practical.\n",
    "\n",
    "Here I'll give Python my DataFrame name and then call the `.head()` method. This returns the top 5 rows by default.\n"
   ]
  },
  {
   "cell_type": "code",
   "execution_count": null,
   "metadata": {
    "collapsed": true
   },
   "outputs": [],
   "source": [
    "animals.head()"
   ]
  },
  {
   "cell_type": "markdown",
   "metadata": {},
   "source": [
    "<hr style=\"width:50%;height:4px;border-width:0;color:gray;background-color:#003d59; opacity:0.5\"> "
   ]
  },
  {
   "cell_type": "markdown",
   "metadata": {},
   "source": [
    "### Exercise\n",
    "\n",
    "Import the data `schools_data.csv` from the data folder with an apropriate variable name.\n",
    "\n",
    "Look at the bottom of the data using the `.tail()` method. All of our missing data is at the bottom, so you may see lots of `nan` values."
   ]
  },
  {
   "cell_type": "code",
   "execution_count": null,
   "metadata": {
    "collapsed": true
   },
   "outputs": [],
   "source": [
    "# Exercise\n",
    "\n"
   ]
  },
  {
   "cell_type": "code",
   "execution_count": null,
   "metadata": {
    "collapsed": true
   },
   "outputs": [],
   "source": [
    "# Solution - These cells contain answers for the exercises.\n",
    "# Run once to reveal the code\n",
    "# Run again to reveal the output\n",
    "\n",
    "%load ../solutions/chapter_3/read_csv.py"
   ]
  },
  {
   "cell_type": "markdown",
   "metadata": {},
   "source": [
    "<hr style=\"width:50%;height:4px;border-width:0;color:gray;background-color:#003d59; opacity:0.5\"> "
   ]
  },
  {
   "cell_type": "markdown",
   "metadata": {},
   "source": [
    "We have only specified one argument here; the file path for the data.\n",
    "\n",
    "When we look at the docstring we can see that there are many other arguments we can specify. This includes:\n",
    "\n",
    "* Changing the delimiter\n",
    "* Skipping Rows\n",
    "* Parsing in date columns\n",
    "* Manually specifying additional missing values \n",
    "\n",
    "Have a look at the docstring for `read_csv()`\n"
   ]
  },
  {
   "cell_type": "code",
   "execution_count": null,
   "metadata": {
    "collapsed": true
   },
   "outputs": [],
   "source": [
    "?pd.read_csv()"
   ]
  },
  {
   "cell_type": "markdown",
   "metadata": {},
   "source": [
    "We talk more about parameters and arguments in chapter 4.\n",
    "\n",
    "A **parameter** is a name or a label for an *argument* that follows it.\n",
    "\n",
    "As we’ll see later some parameters are optional – Python can identify what they relate to by the order we pass them to our method.\n",
    "\n",
    "However it’s less ambiguous to both python (and whoever reads your code) if you include the parameter as well.\n",
    "\n",
    "It's worth noting here that most of these parameters have default arguments.\n",
    "\n",
    "e.g -  `sep=','`\n",
    "\n",
    "The `sep= ` parameter tells python that the argument that follows will be what the separator type is in this file.\n",
    "\n",
    "The comma `\",\" ` is the default argument. \n",
    "\n",
    "Unless I specify differently `pd.read_csv()` assumes that the separator is a comma. If my seperator was a semi colon I could write my `pd.read_csv()` statment like this:\n",
    "\n",
    "``` python\n",
    "\n",
    "school = pd.read_csv(\"../data/schools_data.csv\", sep=\";\")\n",
    "\n",
    "```"
   ]
  },
  {
   "cell_type": "markdown",
   "metadata": {},
   "source": [
    "[return to menu](#menu)"
   ]
  },
  {
   "cell_type": "markdown",
   "metadata": {},
   "source": [
    "<a id='excel_files'></a>\n",
    "<hr style=\"width:100%;height:4px;border-width:0;color:gray;background-color:#003d59; opacity:1\"> "
   ]
  },
  {
   "cell_type": "markdown",
   "metadata": {},
   "source": [
    "## Excel Files"
   ]
  },
  {
   "cell_type": "markdown",
   "metadata": {},
   "source": [
    " As mentioned earlier we can also use the `pd.read_` functions to read in excel files.\n",
    " \n",
    "The function is `pd.read_excel()`\n",
    "\n",
    "This also takes a minimum of one argument; the location of the file including the file extension.\n",
    "\n",
    "Here I am reading in a file called `titanic.xlsx` from the usual data folder. I am calling it the object `titanic`.\n",
    "\n",
    "I am running `.sample()` to display just the a sample of a row of the data.\n"
   ]
  },
  {
   "cell_type": "code",
   "execution_count": null,
   "metadata": {
    "collapsed": true,
    "scrolled": true
   },
   "outputs": [],
   "source": [
    "titanic = pd.read_excel(\"../data/titanic.xlsx\")\n",
    "titanic.sample()"
   ]
  },
  {
   "cell_type": "markdown",
   "metadata": {},
   "source": [
    "`pd.read_excel()` also has additional parameters we can set.\n",
    "\n",
    "Have a look at the docstring below."
   ]
  },
  {
   "cell_type": "code",
   "execution_count": null,
   "metadata": {
    "collapsed": true
   },
   "outputs": [],
   "source": [
    "?pd.read_excel()"
   ]
  },
  {
   "cell_type": "markdown",
   "metadata": {},
   "source": [
    "<hr style=\"width:50%;height:4px;border-width:0;color:gray;background-color:#003d59; opacity:0.5\"> "
   ]
  },
  {
   "cell_type": "markdown",
   "metadata": {},
   "source": [
    "## Exercise\n",
    "\n",
    "Import the data `police_data.xlsx`. We want to import the second sheet, this has the name \"Table P1\".\n",
    "\n",
    "You may need to specify some additional parameters. Look in the help to see which one you should specify.\n",
    "\n",
    "A hint; if referencing the sheet by index position; remember that Python starts counting at 0!\n"
   ]
  },
  {
   "cell_type": "code",
   "execution_count": null,
   "metadata": {
    "collapsed": true
   },
   "outputs": [],
   "source": [
    "# Exercise\n",
    "\n"
   ]
  },
  {
   "cell_type": "code",
   "execution_count": null,
   "metadata": {
    "collapsed": true
   },
   "outputs": [],
   "source": [
    "# Solution - These cells contain answers for the exercises.\n",
    "# Run once to reveal the code\n",
    "# Run again to reveal the output\n",
    "\n",
    "\n",
    "%load ../solutions/chapter_3/read_excel.py"
   ]
  },
  {
   "cell_type": "markdown",
   "metadata": {},
   "source": [
    "[return to menu](#menu)"
   ]
  },
  {
   "cell_type": "markdown",
   "metadata": {},
   "source": [
    "<a id='other_files'></a>\n",
    "<hr style=\"width:100%;height:4px;border-width:0;color:gray;background-color:#003d59; opacity:1\"> "
   ]
  },
  {
   "cell_type": "markdown",
   "metadata": {},
   "source": [
    "# Reading in Other File types\n",
    "\n",
    "We can also import a wide variety of other file types using the `pd.read_` function.\n",
    "As you’ll see by pressing tab in the cell below, we can read in a variety of files.\n",
    "Such as:\n",
    "*  json\n",
    "* sas\n",
    "* sql\n",
    "* stata\n",
    "* pickles\n",
    "\n",
    "\n"
   ]
  },
  {
   "cell_type": "code",
   "execution_count": null,
   "metadata": {
    "collapsed": true
   },
   "outputs": [],
   "source": [
    "pd.read_"
   ]
  },
  {
   "cell_type": "markdown",
   "metadata": {},
   "source": [
    "While we don’t cover these in this course you can explore the docstrings for each of these file types.\n",
    "\n",
    "There are other packages available if you wish to load other file types. For ONS users this may require you downloading other packages. You can find instructions on how to do this from [Yammer](https://www.yammer.com/ons.gov.uk/#/Threads/show?threadId=131432635932672&search_origin=global&scoring=linear1Y-prankie-group-private-higher&match=any-exact&search_sort=relevance&page=1&search=pip.ini).\n",
    "\n",
    "For users outside of ONS you may wish to consult your department; or if you are using a non-networked laptop you can see [here](https://jakevdp.github.io/blog/2017/12/05/installing-python-packages-from-jupyter/) for instructions.\n"
   ]
  },
  {
   "cell_type": "markdown",
   "metadata": {},
   "source": [
    "[return to menu](#menu)"
   ]
  },
  {
   "cell_type": "markdown",
   "metadata": {},
   "source": [
    "<a id='export'></a>\n",
    "<hr style=\"width:100%;height:4px;border-width:0;color:gray;background-color:#003d59; opacity:1\"> "
   ]
  },
  {
   "cell_type": "markdown",
   "metadata": {},
   "source": [
    "## Exporting Data"
   ]
  },
  {
   "cell_type": "markdown",
   "metadata": {},
   "source": [
    "As well as reading in data we can also export data from Python.\n",
    "\n",
    "When we load data into Python using Pandas we create a temporary copy of it within our session. \n",
    "\n",
    "Any changes we make to the data won’t be reflected in the saved file.\n",
    "\n",
    "For example if you deleted columns, and closed your Python script **without** exporting the data – your data would still have all of it’s columns when you reloaded it in. \n",
    "\n",
    "To save our files we use the `to_csv()` after our DataFrame object.\n"
   ]
  },
  {
   "cell_type": "code",
   "execution_count": null,
   "metadata": {
    "collapsed": true
   },
   "outputs": [],
   "source": [
    "titanic.to_csv(\"../outputs/my_titanic.csv\")"
   ]
  },
  {
   "cell_type": "markdown",
   "metadata": {},
   "source": [
    "Again, nothing seems to have actioned within Jupyter - the line number has increased so we know the code has run.\n",
    "\n",
    "If you check the outputs folder in File Explorer you will see the new file there.\n",
    "\n",
    "As we talked about earlier; having the outputs in a different folder to the raw data is a good step for keeping our projects organised."
   ]
  },
  {
   "cell_type": "code",
   "execution_count": null,
   "metadata": {
    "collapsed": true
   },
   "outputs": [],
   "source": [
    "titanic.to_"
   ]
  },
  {
   "cell_type": "markdown",
   "metadata": {},
   "source": [
    "Place your cursor after the underscore in the cell above and hit tab. You will see that there are many other file formats we can export to.\n",
    "\n",
    "Each of these has additional parameters you can specify to get the exact exported file you want."
   ]
  },
  {
   "cell_type": "markdown",
   "metadata": {},
   "source": [
    "<hr style=\"width:50%;height:4px;border-width:0;color:gray;background-color:#003d59; opacity:0.5\"> "
   ]
  },
  {
   "cell_type": "markdown",
   "metadata": {},
   "source": [
    "## Exercise\n",
    "\n",
    "Export the `animals` dataset as an excel file - The file extension is `.xlsx`\n",
    "\n",
    "Save it in the Outputs folder.\n"
   ]
  },
  {
   "cell_type": "code",
   "execution_count": null,
   "metadata": {
    "collapsed": true
   },
   "outputs": [],
   "source": [
    "# Exercise\n",
    "\n"
   ]
  },
  {
   "cell_type": "code",
   "execution_count": null,
   "metadata": {
    "collapsed": true
   },
   "outputs": [],
   "source": [
    "# Solution - These cells contain answers for the exercises.\n",
    "# Run once to reveal the code\n",
    "# Run again to reveal the output\n",
    "\n",
    "%load ../solutions/chapter_3/export_animals.py"
   ]
  },
  {
   "cell_type": "markdown",
   "metadata": {},
   "source": [
    "<a id='END'></a>\n",
    "<hr style=\"width:100%;height:4px;border-width:0;color:gray;background-color:#003d59; opacity:1\"> "
   ]
  },
  {
   "cell_type": "markdown",
   "metadata": {},
   "source": [
    "## End of Chapter"
   ]
  },
  {
   "cell_type": "markdown",
   "metadata": {},
   "source": [
    "In this chapter we’ve explored:\n",
    "\n",
    "* Script Structure\n",
    "* Loading in packages\n",
    "* Project Structure\n",
    "* Reading CSV Files\n",
    "* Reading Excel Files\n",
    "* Reading other file types\n",
    "* Exporting Data.\n",
    "\n",
    "\n",
    "You have completed chapter 3 of the Introduction to Python course. Please move on to chapter 4."
   ]
  },
  {
   "cell_type": "markdown",
   "metadata": {},
   "source": [
    "[return to menu](#menu)"
   ]
  }
 ],
 "metadata": {
  "kernelspec": {
   "display_name": "Python 3",
   "language": "python",
   "name": "python3"
  },
  "language_info": {
   "codemirror_mode": {
    "name": "ipython",
    "version": 3
   },
   "file_extension": ".py",
   "mimetype": "text/x-python",
   "name": "python",
   "nbconvert_exporter": "python",
   "pygments_lexer": "ipython3",
   "version": "3.6.1"
  },
  "toc": {
   "base_numbering": 1,
   "nav_menu": {},
   "number_sections": false,
   "sideBar": true,
   "skip_h1_title": false,
   "title_cell": "Table of Contents",
   "title_sidebar": "Contents",
   "toc_cell": false,
   "toc_position": {},
   "toc_section_display": true,
   "toc_window_display": false
  }
 },
 "nbformat": 4,
 "nbformat_minor": 2
}
