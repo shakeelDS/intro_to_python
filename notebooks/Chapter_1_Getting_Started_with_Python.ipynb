{
 "cells": [
  {
   "cell_type": "markdown",
   "metadata": {},
   "source": [
    "<a id='menu'></a>\n",
    "***\n",
    "<hr style=\"width:100%;height:4px;border-width:0;color:gray;background-color:#003d59; opacity:0.25\"> \n",
    " ![learning academy and data science campus logos](../images/la_dsc_logo.jpg)\n",
    " <hr style=\"width:100%;height:4px;border-width:0;color:gray;background-color:#003d59; opacity:0.25\"> "
   ]
  },
  {
   "cell_type": "markdown",
   "metadata": {},
   "source": [
    "# Introduction to Python\n",
    "\n",
    "## Chapter 1 – Getting Started with Python\n",
    "***\n",
    "Follow along with the code by running cells as you encounter them\n",
    "***\n",
    "*Chapter Overview/ Learning Objectives*\n",
    "* [Background of Python](#background)\n",
    "\n",
    "\n",
    "* [Interacting with Jupyter](#interacting_jp)\n",
    "  - Creating a blank file\n",
    "  - Cells\n",
    "  - Markdown Cells\n",
    "  - Working with a new notebook\n",
    "  - Settings\n",
    "  - Fonts\n",
    "  - Accessing help\n",
    "  - Saving Notebooks\n",
    "  - Saving Notebooks to Share\t\n",
    "\n",
    "\n",
    "\n",
    "* [Interacting with Python in other ways](#other_software)\n"
   ]
  },
  {
   "cell_type": "markdown",
   "metadata": {},
   "source": [
    "<a id='background'></a>\n",
    "<hr style=\"width:100%;height:4px;border-width:0;color:gray;background-color:#003d59; opacity:1\"> "
   ]
  },
  {
   "cell_type": "markdown",
   "metadata": {},
   "source": [
    "## Background of Python\n",
    "\n",
    "Python was created by Guido van Rossum and first released in 1991. Python is a general-purpose programming language that has four key aims:\n",
    "*  An easy and intuitive language that’s still powerful\n",
    "* Open source (so anyone can contribute to the development)\n",
    "* Understandable in plain English\n",
    "* Suitable for everyday tasks – allowing for short development times\n",
    "\n",
    "By learning Python you’re in good company – in [2020 Quarter 2](https://madnight.github.io/githut/#/pull_requests/2020/2) GitHub ranked it as the 2nd most commonly used language and many websites list it as a key tool to learn for Data Science.\n",
    "\n",
    "Due to Python’s open source nature there’s a wide variety of support out there for Python. At the time of writing (August 2020) Stack Overflow has [1,517,275 questions](https://stackoverflow.com/questions/tagged/python) tagged with “Python”, the [r/Python subreddit](https://www.reddit.com/r/Python/) has 646,000 members, and countless tutorials, Github projects and guides are available online. \n",
    "\n",
    "Python is extensible – we can use a broad range of additional packages to enhance our code and make processes easier. These are also (mostly) open source, and often have great support from the developers. Your Anaconda Distribution gives you access to a lot [(for version 4.4.0)](https://docs.anaconda.com/anaconda/packages/old-pkg-lists/4.4.0/py35/) of these packages without having to download anything else. In this couse we’ll use the Pandas and Numpy packages.\n",
    "\n",
    "Python was named after Monty Python’s Flying Circus. You’ll often see a lot of examples (including in this course!) that reference that fact."
   ]
  },
  {
   "cell_type": "markdown",
   "metadata": {},
   "source": [
    "Python has a strong set of “guiding principles” written to influence the design of the programming language. \n",
    "\n",
    "Written by Tim Peters the “Zen of Python” was posted on the mailing list in 1999.\n",
    "\n",
    "We can load it by using the keyword `import` and the word `this`. We'll look at how to run code in a second."
   ]
  },
  {
   "cell_type": "code",
   "execution_count": 1,
   "metadata": {},
   "outputs": [
    {
     "name": "stdout",
     "output_type": "stream",
     "text": [
      "The Zen of Python, by Tim Peters\n",
      "\n",
      "Beautiful is better than ugly.\n",
      "Explicit is better than implicit.\n",
      "Simple is better than complex.\n",
      "Complex is better than complicated.\n",
      "Flat is better than nested.\n",
      "Sparse is better than dense.\n",
      "Readability counts.\n",
      "Special cases aren't special enough to break the rules.\n",
      "Although practicality beats purity.\n",
      "Errors should never pass silently.\n",
      "Unless explicitly silenced.\n",
      "In the face of ambiguity, refuse the temptation to guess.\n",
      "There should be one-- and preferably only one --obvious way to do it.\n",
      "Although that way may not be obvious at first unless you're Dutch.\n",
      "Now is better than never.\n",
      "Although never is often better than *right* now.\n",
      "If the implementation is hard to explain, it's a bad idea.\n",
      "If the implementation is easy to explain, it may be a good idea.\n",
      "Namespaces are one honking great idea -- let's do more of those!\n"
     ]
    }
   ],
   "source": [
    "import this"
   ]
  },
  {
   "cell_type": "markdown",
   "metadata": {},
   "source": [
    "[return to menu](#menu)"
   ]
  },
  {
   "cell_type": "markdown",
   "metadata": {},
   "source": [
    "<a id='interacting_jp'></a>\n",
    "<hr style=\"width:100%;height:4px;border-width:0;color:gray;background-color:#003d59; opacity:1\"> "
   ]
  },
  {
   "cell_type": "markdown",
   "metadata": {},
   "source": [
    "## Interacting with Jupyter\n",
    "\n",
    "This document is a Jupyter Notebook. The file has the extension type `.ipynb`. \n",
    "\n",
    "We should open notebooks in a program like Jupyter Notebook - opening them from file explorer will often not work.\n",
    "\n",
    "Jupyter Notebooks is an open-source web application that allows you to create and share documents that contain live code, equations, visualisations and narrative text.\n",
    "\n",
    "Jupyter can support over 40 programming languages but is commonly used when writing Python code.\n",
    "\n",
    "Notebooks can be shared easily with other users, e.g. by email or through GitLab or GitHub\n",
    "\n",
    "Notebooks have an interactive output. We can have explanatory cells (like this one) alongside code cells and output cells.\n",
    "\n",
    "Jupyter Notebooks are widely used in private sector (Google, IBM, Soundcloud, NASA), the education sector (University of Sheffield, NYU, Berkley) and within Public Sector organisations.\n",
    "\n",
    "Basically speaking - Jupyter has two main components – kernels and a dashboard.\n",
    "\n",
    "The kernel is the part that runs and examines the code we write. There are other kernels available for other languages, but Python is the one we’ll be using today.\n",
    "\n",
    "The dashboard or the notebooks we write code in communicate with this kernel and give us a user-friendly interface to work with code, visualisations and descriptive text.\n"
   ]
  },
  {
   "cell_type": "markdown",
   "metadata": {},
   "source": [
    "<hr style=\"width:75%;height:4px;border-width:0;color:gray;background-color:#003d59; opacity:0.75\"> "
   ]
  },
  {
   "cell_type": "markdown",
   "metadata": {},
   "source": [
    "#### Cells\n",
    "\n",
    "In Jupyter Notebooks we write our document in a sequence of multiple line input boxes called cells.\n",
    "\n",
    "The default is a code cell – we’ll look at how to change the type later. \n",
    "\n",
    "If you click into the cell below you’ll notice a box on the menu bar that says `code` - if your output doesn’t behave as expected, check this box. It can be easy to accidentally toggle between the options using keyboard shortcuts.\n",
    "\n",
    " ![image showing the cell type as code](../images/cell_type.jpg)"
   ]
  },
  {
   "cell_type": "code",
   "execution_count": null,
   "metadata": {
    "collapsed": true
   },
   "outputs": [],
   "source": []
  },
  {
   "cell_type": "markdown",
   "metadata": {},
   "source": [
    "In code cells you can edit and write new code. Jupyter also gives us some nice features, like syntax highlighting and tab completion.\n",
    "\n",
    "Don’t worry if you don’t know what that is – we’ll explain as we see it in action.\n",
    "\n",
    "The cell bellow contains some Python code: `print(“Hello World”)`\n",
    "\n",
    "When we run this cell we get the output “Hello World” displayed below the cell.\n",
    "\n",
    "To run the cell click into it, and press the `CTRL` key and the `ENTER` key. \n",
    "\n",
    "(In later parts of this course keyboard combinations with a plus will be used to indicate 'and' - e.g `CTRL + ENTER` )\n",
    "\n",
    "For Mac users the keys are different. This course will use Windows shortcuts please subsititue:\n",
    "\n",
    "* Ctrl for command key ⌘\n",
    "* Shift for Shift ⇧\n",
    "* Alt for option ⌥"
   ]
  },
  {
   "cell_type": "code",
   "execution_count": 2,
   "metadata": {},
   "outputs": [
    {
     "name": "stdout",
     "output_type": "stream",
     "text": [
      "Hello World\n"
     ]
    }
   ],
   "source": [
    "print(\"Hello World\")"
   ]
  },
  {
   "cell_type": "markdown",
   "metadata": {},
   "source": [
    "Try changing `\"Hello World\"` to your name. It must be in either ‘single’ or “double” quote marks – and needs to be within the round brackets () of the `print` function."
   ]
  },
  {
   "cell_type": "markdown",
   "metadata": {},
   "source": [
    "You can add in new cells in a variety of ways;\n",
    "\n",
    "* `ALT + ENTER` runs a cell and adds in a new blank one below\n",
    "* From the menu bar choose `Insert` and choose either `Insert Cell Above` or `Insert Cell Below`\n",
    "* On the menu bar press the `+` symbol\n",
    "\n",
    "You can just run a cell by pressing `CTRL + ENTER`\n",
    "\n",
    "Let’s practise running and adding some new cells. Perform the following mathematical operations – **one per cell.**\n",
    "\n",
    "We’ve given you the first blank cell.\n",
    "\n",
    "* 3 * 5 (three multiplied by five)\n",
    "* (10 - 3) ** 3 (ten minus three, to the power of three)\n",
    "* 97623 / 9 (ninety seven thousand six hundred and twenty three divided by nine)\n"
   ]
  },
  {
   "cell_type": "code",
   "execution_count": null,
   "metadata": {
    "collapsed": true
   },
   "outputs": [],
   "source": [
    "# Practise running cells and adding new ones\n",
    "\n"
   ]
  },
  {
   "cell_type": "markdown",
   "metadata": {},
   "source": [
    "You can display line numbers inside your cells. This can be helpful, especially when someone is reviewing your code. For example, saying “the code on line 5 showed an error” rather than just “there is an error in the code”.\n",
    "\n",
    "To turn on line numbering choose “view” and then “toggle line numbers” to turn them on or off. \n"
   ]
  },
  {
   "cell_type": "markdown",
   "metadata": {},
   "source": [
    "We can add comments into our code.\n",
    "\n",
    "To do this we use the hash `#` symbol. Anything following this symbol is a comment.\n",
    "\n",
    "This is on the right of my keyboard, next to the at symbol (@)\n",
    "For users with a numeric keypad the alt code is ALT 35.\n",
    "For Mac users the keyboard shortcut for the hash symbol is ALT and 3."
   ]
  },
  {
   "cell_type": "code",
   "execution_count": null,
   "metadata": {
    "collapsed": true
   },
   "outputs": [],
   "source": [
    "# It is good practice to comment your code regularly\n",
    "\n",
    "print(\"comments are cool!\") # comments can also go on the end of lines"
   ]
  },
  {
   "cell_type": "markdown",
   "metadata": {},
   "source": [
    "<hr style=\"width:75%;height:4px;border-width:0;color:gray;background-color:#003d59; opacity:0.75\"> "
   ]
  },
  {
   "cell_type": "markdown",
   "metadata": {},
   "source": [
    "#### Markdown Cells\n",
    "\n",
    "Markdown is a language that allows us to add explanatory text to our Notebooks. In fact most of the cells you’ve seen so far are written in markdown.\n",
    "\n",
    "You may want to use markdown cells to make notes as you follow along with this course.\n",
    "\n",
    "Click on the bold text below that says `This is a markdown cell`, it will have a green border and be in edit mode. \n",
    "\n",
    "Look at the menu bar - you'll notice it says `Markdown`\n"
   ]
  },
  {
   "cell_type": "markdown",
   "metadata": {},
   "source": [
    "** This is a markdown cell **"
   ]
  },
  {
   "cell_type": "markdown",
   "metadata": {},
   "source": [
    "When we run a markdown cell the borders disappear, and it looks like part of the text document.\n",
    "\n",
    "Try it with this cell above. We run these cells in exactly same way as our code ones (e.g `CTRL + ENTER`)"
   ]
  },
  {
   "cell_type": "markdown",
   "metadata": {
    "collapsed": true
   },
   "source": [
    "##### Mini Markdown Tutorial\n",
    "\n",
    "We can do much more than just plain text within Markdown.\n",
    "\n",
    "**Bold** text is created with two asterisks either side - ``` **bold** ```\n",
    "\n",
    "*Italics* text is created one asterisk either side - ``` *italics* ```\n",
    "\n",
    "# Headers \n",
    "\n",
    "are created using the hash or pound symbol \\# followed by a space. Smaller headers have 2 or more \\## symbols.\n",
    "\n",
    "* Bullet Points\n",
    "* Are created by an asterisk followed by a space \n",
    "\n",
    "E.G - <br>\n",
    "\\* One<br>\\* Two\n",
    "\n",
    "There’s lots more you can do with Markdown too – here’s a [link](https://jupyter-notebook.readthedocs.io/en/stable/examples/Notebook/Working%20With%20Markdown%20Cells.html) if you’d like to learn more."
   ]
  },
  {
   "cell_type": "markdown",
   "metadata": {
    "collapsed": true
   },
   "source": [
    "Use this Cell to have a practise with the above techniques if you like\n",
    "\n"
   ]
  },
  {
   "cell_type": "markdown",
   "metadata": {},
   "source": [
    " "
   ]
  },
  {
   "cell_type": "markdown",
   "metadata": {},
   "source": [
    "### Cell Modes\n",
    "\n",
    "Cells have two modes.\n",
    "\n",
    "`Edit Mode`: The cell has a green border and can have edits made to it. A pencil icon will appear in the top right, next to the words \"Python 3\"\n",
    "\n",
    "`Command Mode`: The cell has a blue border. In this mode you can use keyboard shortcuts to control the overall notebook. Try pressing the `d` key twice quickly when a cell is in blue mode – it will delete it.\n",
    "\n",
    "Keyboard shortcuts can be found in the help menu under keyboard shortcuts.\n",
    "\n",
    "There is also an interface tour that covers the Jupyter interface; it can be useful to look at, but we cover the same concepts in this chapter."
   ]
  },
  {
   "cell_type": "markdown",
   "metadata": {},
   "source": [
    "<hr style=\"width:75%;height:4px;border-width:0;color:gray;background-color:#003d59; opacity:0.75\"> "
   ]
  },
  {
   "cell_type": "markdown",
   "metadata": {},
   "source": [
    "### Working with a new notebook\n",
    "\n",
    "In this tutorial you are working with a pre-populated notebook.\n",
    "\n",
    "This ensures you have the explanatory text alongside code cells and room to practise your own code.\n",
    "\n",
    "When you work on your own projects you will want to start a new notebook for each project.\n",
    "\n",
    "You may wish to keep both this tab and your new notebook tab open during this section.\n",
    "\n",
    "To create a new notebook choose:\n",
    "\n",
    "File -> New Notebook -> Python 3\n",
    "\n",
    "A new tab will open with a blank notebook – that looks similar to this:\n",
    "\n",
    "![A Blank Jupyter Notebook](../images/m1_new_notebook.png)\n",
    "\n",
    "N.B. This notebook is saved in the same place as our current notebook - In your `C/Users/Your_Username/intro_to_python/notebooks` location."
   ]
  },
  {
   "cell_type": "markdown",
   "metadata": {},
   "source": [
    "You can change the name of the notebook by clicking on the title – e.g. “Untitled”.\n",
    "This brings up an interface where you can alter the name of your notebook.\n",
    "\n",
    "![Changing the notebook name](../images/m1_rename_notebook.png)"
   ]
  },
  {
   "cell_type": "markdown",
   "metadata": {},
   "source": [
    "You can add new cells and interact with your new notebook as we mentioned above.\n",
    "\n",
    "It’s important to note that each notebook is treated as unique. \n",
    "\n",
    "For example, if you load in some data, or declare a variable in notebook A it won’t automatically be available in notebook B. \n",
    "\n",
    "In this course we’ll work with the Notebooks provided to you in the ZIP folder; so you can now close your new Notebook tab if you wish.\n"
   ]
  },
  {
   "cell_type": "markdown",
   "metadata": {},
   "source": [
    "<hr style=\"width:75%;height:4px;border-width:0;color:gray;background-color:#003d59; opacity:0.75\"> "
   ]
  },
  {
   "cell_type": "markdown",
   "metadata": {},
   "source": [
    "#### Fonts\n"
   ]
  },
  {
   "cell_type": "markdown",
   "metadata": {},
   "source": [
    "Some may find the fonts in Jupyter Notebooks difficult to read. \n",
    "\n",
    "You can zoom in by using `CTRL and +` and zoom out by using `CTRL and - `\n",
    "\n",
    "You can globally change the fonts to one of your preference. There is a HTML Document called [\"Setting Fonts\"](../course_materials/Changing_Jupyter_font.html) in the Supporting Documents folder which demonstrates how to change this."
   ]
  },
  {
   "cell_type": "markdown",
   "metadata": {},
   "source": [
    "<hr style=\"width:75%;height:4px;border-width:0;color:gray;background-color:#003d59; opacity:0.75\"> "
   ]
  },
  {
   "cell_type": "markdown",
   "metadata": {},
   "source": [
    "#### Accessing help"
   ]
  },
  {
   "cell_type": "markdown",
   "metadata": {},
   "source": [
    "We’ll look at how to access help for our functions, methods and properties within Jupyter later in the course.\n",
    "Some general places to get help\n",
    "\n",
    "* The GSS Training team – gss.capability@statistics.gov.uk \n",
    "\n",
    "If you have any issues with this course; or notice any errors, please contact the training team on the email above. The training team are also here to help with any Python questions you have after you have completed the course.\n",
    "\n",
    "Please be aware that due to training commitments there may be a small wait before we respond to your query. We also expect that you have attempted to solve your query yourself before contacting us.\n",
    "\n",
    "\n",
    "* [Gov Data Science Slack]( https://govdatascience.slack.com)\n",
    "\n",
    "Slack is an online collaboration tool. This Slack channel is for Data Science across government\n",
    "\n",
    "* [Package Websites (e.g Pandas)](https://pandas.pydata.org/)\n",
    "\n",
    "Packages like `pandas` have their own documentation, both within Python and on their websites.\n",
    "\n",
    "* Your own organisation’s tools.\n",
    "\n",
    "Your department may have an active Yammer or Slack group devoted to Python or Data Science. You may have coffee and coding sessions; or regular webinars. Take advantage of these to enhance your skills. \n",
    "\n",
    "Within ONS the Python Usergroup and Coding in the Kitchen Yammer may be helpful.\n",
    "\n",
    "* Web Searches\n",
    "\n",
    "Searching “X process in Python” will return thousands of results. Remember to read through multiple sources, and to evaluate the content provided to you. As Python is a constantly evolving software also ensure your results are from a recent time period. Test on a small sample of your data to ensure it produces the result you are expecting.\n",
    "\n",
    "* [Stack Overflow]( https://stackoverflow.com/questions/tagged/python) \n",
    "\n",
    "Stack Overflow is a forum with questions and answers around multiple languages; Python among them. These forums usually are returned as part of a web search. At first the content may seem daunting; however most users also give examples. The more you practise the easier it becomes to understand answers given on Stack Overflow.\n",
    "\n",
    "*When searching for help please be aware of the version of Python and the packages you have installed.*\n",
    "\n",
    "When asking others for help following the GOOD approach can be very beneficial. Adapted from [realpython.com](https://realpython.com/lessons/ask-good-questions/)\n",
    "\n",
    "G: **Give context ** on what you are trying to do, clearly describing the problem.\n",
    "\n",
    "O: **Outline** the things you have already tried to fix the issue.\n",
    "\n",
    "O: **Offer your best guess** as to what the problem might be. This helps the person who is helping you to not only know what you are thinking, but also know that you have done some thinking on your own.\n",
    "\n",
    "D: **Demo what is happening **. Include the code, a traceback error message, and an explanation of the steps you executed that resulted in the error. This way, the person helping does not have to try to recreate the issue.\n",
    "\n"
   ]
  },
  {
   "cell_type": "markdown",
   "metadata": {},
   "source": [
    "<hr style=\"width:75%;height:4px;border-width:0;color:gray;background-color:#003d59; opacity:0.75\"> "
   ]
  },
  {
   "cell_type": "markdown",
   "metadata": {},
   "source": [
    "#### Saving Notebooks"
   ]
  },
  {
   "cell_type": "markdown",
   "metadata": {},
   "source": [
    "Notebooks, by default are saved to the location Jupyter notebooks was installed in.\n",
    "\n",
    "For many of us this will be `C:/users/username` e.g `C:/users/hodgeh`.\n",
    "\n",
    "Please note that this is the physical hard drive of your device; so ensure important documents are backed up to a network drive in case of hardware failure.\n",
    "\n",
    "To Save your notebook you can choose\n",
    "\n",
    "* File `->` Save and Checkpoint\n",
    "* Click the floppy disk icon on the menu bar\n",
    "* Press `CTRL + S` \n"
   ]
  },
  {
   "cell_type": "markdown",
   "metadata": {},
   "source": [
    "<hr style=\"width:75%;height:4px;border-width:0;color:gray;background-color:#003d59; opacity:0.75\"> "
   ]
  },
  {
   "cell_type": "markdown",
   "metadata": {},
   "source": [
    "#### Saving Notebooks to Share "
   ]
  },
  {
   "cell_type": "markdown",
   "metadata": {},
   "source": [
    "If we want to save notebooks to share with someone else, we need to download them.\n",
    "From the main menu choose:\n",
    "\n",
    "File `->` Download As\n",
    "\n",
    "This gives several options; among them\n",
    "* .ipynb is Jupyter Notebook’s native file type. This will retain all code and markdown.\n",
    "* .py – Python file type. Markdown code will be commented out. \n",
    "* .html – Uneditable file; but good for sharing with users that do not have Jupyter installed.\n"
   ]
  },
  {
   "cell_type": "markdown",
   "metadata": {},
   "source": [
    "[return to menu](#menu)"
   ]
  },
  {
   "cell_type": "markdown",
   "metadata": {
    "collapsed": true
   },
   "source": [
    "<a id='other_software'></a>\n",
    "<hr style=\"width:100%;height:4px;border-width:0;color:gray;background-color:#003d59; opacity:1\"> "
   ]
  },
  {
   "cell_type": "markdown",
   "metadata": {},
   "source": [
    "## Interacting with Python in other ways"
   ]
  },
  {
   "cell_type": "markdown",
   "metadata": {
    "collapsed": true
   },
   "source": [
    "Jupyter Notebooks is far from the only way to work with Python code.\n",
    "\n",
    "As part of the Anaconda Suite install you also have\n",
    "* Jupyter QT Console (Similar to a command line interface)\n",
    "* Spyder (an IDE, similar to RStudio for R users)\n",
    "\n",
    "Other environments are also available.\n",
    "\n",
    "Throughout this course we use Jupyter Notebooks as it allows us to combine explanatory text with code cells.\n",
    "\n",
    "When you’re working on code outside of this training you may use whichever software you prefer.\n",
    "\n",
    "There are advantages and disadvantages to all software; it’s about finding what works best with your workflow. "
   ]
  },
  {
   "cell_type": "markdown",
   "metadata": {},
   "source": [
    "[return to menu](#menu)"
   ]
  },
  {
   "cell_type": "markdown",
   "metadata": {
    "collapsed": true
   },
   "source": [
    "<a id='spyder'></a>\n",
    "<hr style=\"width:100%;height:4px;border-width:0;color:gray;background-color:#003d59; opacity:1\"> "
   ]
  },
  {
   "cell_type": "markdown",
   "metadata": {},
   "source": [
    "## End of Chapter"
   ]
  },
  {
   "cell_type": "markdown",
   "metadata": {
    "collapsed": true
   },
   "source": [
    "In this chapter we’ve explored:\n",
    "* The background and history of Python as a language\n",
    "* How to interact with Jupyter Notebooks\n",
    "* Other ways we can interact with Python.\n",
    "\n",
    "\n",
    "You have completed chapter 1 of the Introduction to Python course. Please move on to chapter 2."
   ]
  },
  {
   "cell_type": "markdown",
   "metadata": {},
   "source": [
    "[return to menu](#menu)"
   ]
  }
 ],
 "metadata": {
  "kernelspec": {
   "display_name": "Python 3",
   "language": "python",
   "name": "python3"
  },
  "language_info": {
   "codemirror_mode": {
    "name": "ipython",
    "version": 3
   },
   "file_extension": ".py",
   "mimetype": "text/x-python",
   "name": "python",
   "nbconvert_exporter": "python",
   "pygments_lexer": "ipython3",
   "version": "3.6.1"
  },
  "toc": {
   "base_numbering": 1,
   "nav_menu": {},
   "number_sections": false,
   "sideBar": true,
   "skip_h1_title": false,
   "title_cell": "Table of Contents",
   "title_sidebar": "Contents",
   "toc_cell": false,
   "toc_position": {},
   "toc_section_display": true,
   "toc_window_display": false
  }
 },
 "nbformat": 4,
 "nbformat_minor": 2
}
